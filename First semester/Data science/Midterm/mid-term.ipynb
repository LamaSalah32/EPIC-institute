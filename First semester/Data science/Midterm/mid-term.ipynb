{
 "cells": [
  {
   "cell_type": "markdown",
   "metadata": {
    "collapsed": true
   },
   "source": [
    "# EPIC Institute of Technology\n",
    "## Data Science Mid-term Exam"
   ]
  },
  {
   "cell_type": "markdown",
   "metadata": {},
   "source": [
    "# Data\n",
    "\n",
    "gender.csv\n",
    "\n",
    "### Objective features:\n",
    "\n",
    "Age\n",
    "Height\n",
    "Weight\n",
    "Sex (gender)\n",
    "Measurement results:\n",
    "\n",
    "Upper and lower blood pressure (ap_hi, ap_lo)\n",
    "Cholesterol (cholesterol)\n",
    "Glucose (glucose)\n",
    "\n",
    "### Subjective features (according to patients):\n",
    "\n",
    "Smoking (smoke)\n",
    "Drinking alcohol (alco)\n",
    "Physical activity (active)\n",
    "Target sign (which will be interesting to predict):\n",
    "The presence of cardiovascular diseases according to the results of a classic medical examination (cardio)\n",
    "\n",
    "Age is given in days.\n",
    "The values of cholesterol and glucose are represented by one of three classes: normal, above normal, significantly above normal.\n",
    "The values of subjective features are binary.\n",
    "\n",
    "All figures are given at the time of inspection."
   ]
  },
  {
   "cell_type": "markdown",
   "metadata": {},
   "source": [
    "## Task 0\n",
    "### Import necesssary libraries and read the data. Note that data is separated with semicolon ';'"
   ]
  },
  {
   "cell_type": "code",
   "execution_count": null,
   "metadata": {},
   "outputs": [],
   "source": []
  },
  {
   "cell_type": "markdown",
   "metadata": {},
   "source": [
    "## Task 1 (2 points) \n",
    "### Exploratory Data Analysis (EDA): Create Descriptive Graphs for Initial Data Exploration. \n",
    "- Histograms for Age, Height, Weight, ap_hi, and ap_lo to visualize the distribution.\n",
    "- Bar charts for gender, smoke, alco, and active to show the count of each category.\n",
    "- Any other graphs that you find useful"
   ]
  },
  {
   "cell_type": "code",
   "execution_count": null,
   "metadata": {},
   "outputs": [],
   "source": []
  },
  {
   "cell_type": "markdown",
   "metadata": {},
   "source": [
    "## Task 2 (1 point) \n",
    "### Data Cleaning: Identify and Remove Outliers in Non-Binary Features\n",
    "- Identify and remove 5% (both bottom and top) of outliers for non-binary features.\n",
    "- Identify and remove other inappropriate data (such as negative values)"
   ]
  },
  {
   "cell_type": "code",
   "execution_count": null,
   "metadata": {},
   "outputs": [],
   "source": []
  },
  {
   "cell_type": "markdown",
   "metadata": {},
   "source": [
    "## Task 3 (1 point)\n",
    "### Confidence Intervals: Calculate Confidence Intervals for Height and Weight\n",
    "- After cleaning, calculate the 95% confidence interval for height and 99.7% for weight."
   ]
  },
  {
   "cell_type": "code",
   "execution_count": null,
   "metadata": {},
   "outputs": [],
   "source": []
  },
  {
   "cell_type": "markdown",
   "metadata": {},
   "source": [
    "## Task 4 (1 point)\n",
    "### Data Transformation - One-Hot Encoding:\n",
    "- Apply one-hot encoding for cholesterol and glucose."
   ]
  },
  {
   "cell_type": "code",
   "execution_count": null,
   "metadata": {},
   "outputs": [],
   "source": []
  },
  {
   "cell_type": "markdown",
   "metadata": {},
   "source": [
    "## Task 5 (2 points)\n",
    "### Hypothesis Testing - T-Test: Investigate Gender Differences in Average Height\n",
    "- Before conducting the two-tailed t-test to compare the average height between men and women, check for significant differences in variance between the two groups\n",
    "- If the variance differs significantly, use Welch's t-test"
   ]
  },
  {
   "cell_type": "code",
   "execution_count": null,
   "metadata": {},
   "outputs": [],
   "source": []
  },
  {
   "cell_type": "markdown",
   "metadata": {},
   "source": [
    "## Task 6 (3 points)\n",
    "### Model building: Build and Optimize Model for Cardiovascular Disease Prediction\n",
    "- Select a model of your choice and predict Cardiovascular Disease\n",
    "- Try different hyperparameters to optimize the model\n",
    "- Calculate model accuracy"
   ]
  },
  {
   "cell_type": "code",
   "execution_count": null,
   "metadata": {},
   "outputs": [],
   "source": []
  }
 ],
 "metadata": {
  "kernelspec": {
   "display_name": "Python 3 (ipykernel)",
   "language": "python",
   "name": "python3"
  },
  "language_info": {
   "codemirror_mode": {
    "name": "ipython",
    "version": 3
   },
   "file_extension": ".py",
   "mimetype": "text/x-python",
   "name": "python",
   "nbconvert_exporter": "python",
   "pygments_lexer": "ipython3",
   "version": "3.9.6"
  }
 },
 "nbformat": 4,
 "nbformat_minor": 1
}
