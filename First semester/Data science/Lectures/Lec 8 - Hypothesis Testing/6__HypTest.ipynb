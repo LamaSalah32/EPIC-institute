{
  "cells": [
    {
      "cell_type": "code",
      "execution_count": null,
      "metadata": {
        "id": "2FX6yVSEn72f"
      },
      "outputs": [],
      "source": [
        "import matplotlib.pyplot as plt\n",
        "plt.style.use('classic')\n",
        "%matplotlib inline\n",
        "import numpy as np\n",
        "import pandas as pd"
      ]
    },
    {
      "cell_type": "code",
      "execution_count": null,
      "metadata": {
        "id": "jv8A3h4qn72h"
      },
      "outputs": [],
      "source": [
        "import seaborn as sns\n",
        "sns.set()"
      ]
    },
    {
      "cell_type": "markdown",
      "metadata": {
        "id": "o2w3cUj8n72h"
      },
      "source": [
        "## Parametric Statistical Hypothesis Tests"
      ]
    },
    {
      "cell_type": "markdown",
      "metadata": {
        "id": "Z1HLD9rnn72i"
      },
      "source": [
        "### Student’s t-test\n",
        "Tests whether the means of two independent samples are significantly different.\n",
        "\n",
        "Assumptions\n",
        "\n",
        "* Observations in each sample are independent and identically distributed (iid).\n",
        "* Observations in each sample are normally distributed.\n",
        "* Observations in each sample have the same variance.\n",
        "\n",
        "\n",
        "Interpretation\n",
        "\n",
        "* H0: the means of the samples are equal.\n",
        "* H1: the means of the samples are unequal"
      ]
    },
    {
      "cell_type": "code",
      "execution_count": null,
      "metadata": {
        "id": "RWr196Cdn72i"
      },
      "outputs": [],
      "source": []
    },
    {
      "cell_type": "code",
      "execution_count": null,
      "metadata": {
        "colab": {
          "base_uri": "https://localhost:8080/"
        },
        "id": "t3av1nbZn72j",
        "outputId": "201f83e2-04b9-44fa-f396-2aa14fa21323"
      },
      "outputs": [
        {
          "output_type": "stream",
          "name": "stdout",
          "text": [
            "stat=-0.326, p=0.748\n",
            "the means of the samples are equal (H0).\n"
          ]
        }
      ],
      "source": [
        "# Example of the Student's t-test\n",
        "from scipy.stats import ttest_ind\n",
        "data1 = [0.873, 2.817, 0.121, -0.945, -0.055, -1.436, 0.360, -1.478, -1.637, -1.869]\n",
        "data2 = [1.142, -0.432, -0.938, -0.729, -0.846, -0.157, 0.500, 1.183, -1.075, -0.169]\n",
        "\n",
        "stat, p = ttest_ind(data1, data2)\n",
        "\n",
        "print('stat=%.3f, p=%.3f' % (stat, p))\n",
        "\n",
        "if p > 0.05:\n",
        "    print('the means of the samples are equal (H0).')\n",
        "else:\n",
        "    print('the means of the samples are unequal (H1)')"
      ]
    },
    {
      "cell_type": "code",
      "execution_count": null,
      "metadata": {
        "id": "lZDVQKo2n72j"
      },
      "outputs": [],
      "source": []
    },
    {
      "cell_type": "code",
      "execution_count": null,
      "metadata": {
        "colab": {
          "base_uri": "https://localhost:8080/",
          "height": 447
        },
        "id": "5TcYJLYcn72j",
        "outputId": "7e0053fc-a020-4e2f-f16d-8d0f199ca5ea"
      },
      "outputs": [
        {
          "output_type": "display_data",
          "data": {
            "text/plain": [
              "<Figure size 640x480 with 1 Axes>"
            ],
            "image/png": "[encoded data removed]"
          },
          "metadata": {}
        }
      ],
      "source": [
        "gauss = np.random.multivariate_normal([0, 0.1], [[1, 0], [0, 1]], size=20)\n",
        "gauss = pd.DataFrame(gauss, columns=['x', 'y'])\n",
        "\n",
        "for col in 'xy':\n",
        "    plt.hist(gauss[col], alpha=0.5)"
      ]
    },
    {
      "cell_type": "code",
      "execution_count": null,
      "metadata": {
        "colab": {
          "base_uri": "https://localhost:8080/"
        },
        "id": "BKgekgyUn72k",
        "outputId": "7e2cb0ea-b26c-4884-ba0d-bef0c24a7334"
      },
      "outputs": [
        {
          "output_type": "stream",
          "name": "stdout",
          "text": [
            "stat=-0.838, p=0.407\n",
            "Probably the same distribution\n"
          ]
        }
      ],
      "source": [
        "stat, p = ttest_ind(gauss.x, gauss.y)\n",
        "print('stat=%.3f, p=%.3f' % (stat, p))\n",
        "if p > 0.05:\n",
        "    print('Probably the same distribution')\n",
        "else:\n",
        "    print('Probably different distributions')"
      ]
    },
    {
      "cell_type": "code",
      "execution_count": null,
      "metadata": {
        "id": "MwyB0HrIn72l"
      },
      "outputs": [],
      "source": [
        "n, p = 10, .5  # number of trials, probability of each trial\n",
        "binom = np.random.binomial(n, p, 1000)"
      ]
    },
    {
      "cell_type": "code",
      "execution_count": null,
      "metadata": {
        "id": "eQ_H3clGn72l"
      },
      "outputs": [],
      "source": []
    },
    {
      "cell_type": "markdown",
      "metadata": {
        "id": "JKEUM7kQn72l"
      },
      "source": [
        "### Paired Student’s t-test\n",
        "Tests whether the means of two paired samples are significantly different.\n",
        "\n",
        "Assumptions\n",
        "\n",
        "* Observations in each sample are independent and identically distributed (iid).\n",
        "* Observations in each sample are normally distributed.\n",
        "* Observations in each sample have the same variance.\n",
        "* Observations across each sample are paired.\n",
        "\n",
        "Interpretation\n",
        "\n",
        "* H0: the means of the samples are equal.\n",
        "* H1: the means of the samples are unequal."
      ]
    },
    {
      "cell_type": "code",
      "execution_count": null,
      "metadata": {
        "colab": {
          "base_uri": "https://localhost:8080/"
        },
        "id": "-KW3gQA7n72m",
        "outputId": "34081183-1b7a-41a0-92e4-08b909f747d0"
      },
      "outputs": [
        {
          "output_type": "stream",
          "name": "stdout",
          "text": [
            "stat=-0.334, p=0.746\n",
            "Probably the same distribution\n"
          ]
        }
      ],
      "source": [
        "# Example of the Paired Student's t-test\n",
        "from scipy.stats import ttest_rel\n",
        "data1 = [0.873, 2.817, 0.121, -0.945, -0.055, -1.436, 0.360, -1.478, -1.637, -1.869]\n",
        "data2 = [1.142, -0.432, -0.938, -0.729, -0.846, -0.157, 0.500, 1.183, -1.075, -0.169]\n",
        "stat, p = ttest_rel(data1, data2)\n",
        "print('stat=%.3f, p=%.3f' % (stat, p))\n",
        "if p > 0.05:\n",
        "    print('Probably the same distribution')\n",
        "else:\n",
        "    print('Probably different distributions')"
      ]
    },
    {
      "cell_type": "code",
      "execution_count": null,
      "metadata": {
        "colab": {
          "base_uri": "https://localhost:8080/"
        },
        "id": "I2kMsZhBn72m",
        "outputId": "8b00b064-3f62-4ae5-a784-7455a2e1b88d"
      },
      "outputs": [
        {
          "output_type": "stream",
          "name": "stdout",
          "text": [
            "stat=-0.885, p=0.387\n",
            "Probably the same distribution\n"
          ]
        }
      ],
      "source": [
        "stat, p = ttest_rel(gauss.x, gauss.y)\n",
        "print('stat=%.3f, p=%.3f' % (stat, p))\n",
        "if p > 0.05:\n",
        "    print('Probably the same distribution')\n",
        "else:\n",
        "    print('Probably different distributions')"
      ]
    },
    {
      "cell_type": "markdown",
      "metadata": {
        "id": "Y16YZqXIn72n"
      },
      "source": [
        "## Normality Tests"
      ]
    },
    {
      "cell_type": "markdown",
      "metadata": {
        "id": "zbOiq_orn72n"
      },
      "source": [
        "### Shapiro-Wilk Test\n",
        "Tests whether a data sample has a Gaussian distribution.\n",
        "\n",
        "Assumptions\n",
        "\n",
        "* Observations in each sample are independent and identically distributed (iid).\n",
        "\n",
        "\n",
        "Interpretation\n",
        "\n",
        "* H0: the sample has a Gaussian distribution.\n",
        "* H1: the sample does not have a Gaussian distribution."
      ]
    },
    {
      "cell_type": "code",
      "execution_count": null,
      "metadata": {
        "colab": {
          "base_uri": "https://localhost:8080/"
        },
        "id": "ZGN-I13dn72n",
        "outputId": "ef320ec4-b8eb-48ba-9483-1963a959a04c"
      },
      "outputs": [
        {
          "output_type": "stream",
          "name": "stdout",
          "text": [
            "stat=0.895, p=0.193\n",
            "Probably Gaussian\n"
          ]
        }
      ],
      "source": [
        "# Example of the Shapiro-Wilk Normality Test\n",
        "from scipy.stats import shapiro\n",
        "data = [0.873, 2.817, 0.121, -0.945, -0.055, -1.436, 0.360, -1.478, -1.637, -1.869]\n",
        "stat, p = shapiro(data)\n",
        "print('stat=%.3f, p=%.3f' % (stat, p))\n",
        "if p > 0.05:\n",
        "    print('Probably Gaussian')\n",
        "else:\n",
        "    print('Probably not Gaussian')"
      ]
    },
    {
      "cell_type": "code",
      "execution_count": null,
      "metadata": {
        "colab": {
          "base_uri": "https://localhost:8080/"
        },
        "id": "xc-nYLGZn72n",
        "outputId": "351b55bd-3b22-477b-98d2-5ed97b4fe3a4"
      },
      "outputs": [
        {
          "output_type": "stream",
          "name": "stdout",
          "text": [
            "stat=0.953, p=0.423\n",
            " the sample has a Gaussian distribution\n"
          ]
        }
      ],
      "source": [
        "stat, p = shapiro(gauss.y)\n",
        "print('stat=%.3f, p=%.3f' % (stat, p))\n",
        "if p > 0.05:\n",
        "    print(' the sample has a Gaussian distribution')\n",
        "else:\n",
        "    print('the sample does not have a Gaussian distribution')"
      ]
    },
    {
      "cell_type": "markdown",
      "metadata": {
        "id": "a_ji7ih5n72o"
      },
      "source": [
        "### D’Agostino’s K^2 Test\n",
        "Tests whether a data sample has a Gaussian distribution.\n",
        "\n",
        "Assumptions\n",
        "\n",
        "* Observations in each sample are independent and identically distributed (iid).\n",
        "\n",
        "Interpretation\n",
        "\n",
        "* H0: the sample has a Gaussian distribution.\n",
        "* H1: the sample does not have a Gaussian distribution."
      ]
    },
    {
      "cell_type": "code",
      "execution_count": null,
      "metadata": {
        "colab": {
          "base_uri": "https://localhost:8080/"
        },
        "id": "RtWCAuvSn72o",
        "outputId": "037c814f-15f1-4884-ca4b-a03758807f24"
      },
      "outputs": [
        {
          "output_type": "stream",
          "name": "stdout",
          "text": [
            "stat=3.392, p=0.183\n",
            "Probably Gaussian\n"
          ]
        },
        {
          "output_type": "stream",
          "name": "stderr",
          "text": [
            "/usr/local/lib/python3.10/dist-packages/scipy/stats/_stats_py.py:1806: UserWarning: kurtosistest only valid for n>=20 ... continuing anyway, n=10\n",
            "  warnings.warn(\"kurtosistest only valid for n>=20 ... continuing \"\n"
          ]
        }
      ],
      "source": [
        "# Example of the D'Agostino's K^2 Normality Test\n",
        "from scipy.stats import normaltest\n",
        "data = [0.873, 2.817, 0.121, -0.945, -0.055, -1.436, 0.360, -1.478, -1.637, -1.869]\n",
        "stat, p = normaltest(data)\n",
        "print('stat=%.3f, p=%.3f' % (stat, p))\n",
        "if p > 0.05:\n",
        "    print('Probably Gaussian')\n",
        "else:\n",
        "    print('Probably not Gaussian')"
      ]
    },
    {
      "cell_type": "markdown",
      "metadata": {
        "id": "kXLWkZJVn72o"
      },
      "source": [
        "### Anderson-Darling Test\n",
        "Tests whether a data sample has a Gaussian distribution.\n",
        "\n",
        "Assumptions\n",
        "\n",
        "* Observations in each sample are independent and identically distributed (iid).\n",
        "\n",
        "Interpretation\n",
        "\n",
        "* H0: the sample has a Gaussian distribution.\n",
        "* H1: the sample does not have a Gaussian distribution.\n"
      ]
    },
    {
      "cell_type": "code",
      "execution_count": null,
      "metadata": {
        "colab": {
          "base_uri": "https://localhost:8080/"
        },
        "id": "2iZTG5nCn72o",
        "outputId": "d328b9ed-77f7-4bec-ee5e-e5fce18d6646"
      },
      "outputs": [
        {
          "output_type": "stream",
          "name": "stdout",
          "text": [
            "stat=0.424\n",
            "Probably Gaussian at the 15.0% level\n",
            "Probably Gaussian at the 10.0% level\n",
            "Probably Gaussian at the 5.0% level\n",
            "Probably Gaussian at the 2.5% level\n",
            "Probably Gaussian at the 1.0% level\n"
          ]
        }
      ],
      "source": [
        "# Example of the Anderson-Darling Normality Test\n",
        "from scipy.stats import anderson\n",
        "data = [0.873, 2.817, 0.121, -0.945, -0.055, -1.436, 0.360, -1.478, -1.637, -1.869]\n",
        "result = anderson(data)\n",
        "print('stat=%.3f' % (result.statistic))\n",
        "for i in range(len(result.critical_values)):\n",
        "    sl, cv = result.significance_level[i], result.critical_values[i]\n",
        "    if result.statistic < cv:\n",
        "        print('Probably Gaussian at the %.1f%% level' % (sl))\n",
        "    else:\n",
        "        print('Probably not Gaussian at the %.1f%% level' % (sl))"
      ]
    },
    {
      "cell_type": "markdown",
      "metadata": {
        "id": "cTdSFPNIn72o"
      },
      "source": [
        "## Independent tests"
      ]
    },
    {
      "cell_type": "markdown",
      "metadata": {
        "id": "-4BgnPzvn72p"
      },
      "source": [
        "## Pearson’s Correlation Coefficient\n",
        "Tests whether two samples have a linear relationship.\n",
        "\n",
        "Assumptions\n",
        "\n",
        "* Observations in each sample are independent and identically distributed (iid).\n",
        "* Observations in each sample are normally distributed.\n",
        "* Observations in each sample have the same variance.\n",
        "\n",
        "Interpretation\n",
        "\n",
        "* H0: the two samples are independent.\n",
        "* H1: there is a dependency between the samples."
      ]
    },
    {
      "cell_type": "code",
      "execution_count": null,
      "metadata": {
        "colab": {
          "base_uri": "https://localhost:8080/"
        },
        "id": "O3xOS0JVn72p",
        "outputId": "1846df29-31e6-478b-db90-b920f9055115"
      },
      "outputs": [
        {
          "output_type": "stream",
          "name": "stdout",
          "text": [
            "stat=0.688, p=0.028\n",
            "Probably independent\n"
          ]
        }
      ],
      "source": [
        "# Example of the Pearson's Correlation test\n",
        "from scipy.stats import pearsonr\n",
        "data1 = [0.873, 2.817, 0.121, -0.945, -0.055, -1.436, 0.360, -1.478, -1.637, -1.869]\n",
        "data2 = [0.353, 3.517, 0.125, -7.545, -0.555, -1.536, 3.350, -1.578, -3.537, -1.579]\n",
        "stat, p = pearsonr(data1, data2)\n",
        "print('stat=%.3f, p=%.3f' % (stat, p))\n",
        "if p > 0.01:\n",
        "    print('Probably independent')\n",
        "else:\n",
        "    print('Probably dependent')"
      ]
    },
    {
      "cell_type": "code",
      "execution_count": null,
      "metadata": {
        "id": "ev-EZz1Rn72p"
      },
      "outputs": [],
      "source": [
        "gauss = np.random.multivariate_normal([0, 0.1], [[1, 0], [0, 1]], size=2000)\n",
        "gauss = pd.DataFrame(gauss, columns=['x', 'y'])"
      ]
    },
    {
      "cell_type": "code",
      "execution_count": null,
      "metadata": {
        "id": "IoYnuJESn72p"
      },
      "outputs": [],
      "source": [
        "gauss.y = gauss.x * gauss.x"
      ]
    },
    {
      "cell_type": "code",
      "execution_count": null,
      "metadata": {
        "colab": {
          "base_uri": "https://localhost:8080/"
        },
        "id": "7l9VW-fSn72p",
        "outputId": "512e6ad8-35f9-4a6a-ba7f-847e973a692b"
      },
      "outputs": [
        {
          "output_type": "stream",
          "name": "stdout",
          "text": [
            "stat=-0.096, p=0.000\n",
            "Probably dependent\n"
          ]
        }
      ],
      "source": [
        "stat, p = pearsonr(gauss.x, gauss.y)\n",
        "print('stat=%.3f, p=%.3f' % (stat, p))\n",
        "if p > 0.5:\n",
        "    print('Probably independent')\n",
        "else:\n",
        "    print('Probably dependent')"
      ]
    },
    {
      "cell_type": "markdown",
      "metadata": {
        "id": "ZvPaeA-an72p"
      },
      "source": [
        "## Spearman’s Rank Correlation\n",
        "Tests whether two samples have a monotonic relationship.\n",
        "\n",
        "Assumptions\n",
        "\n",
        "* Observations in each sample are independent and identically distributed (iid).\n",
        "* Observations in each sample can be ranked.\n",
        "\n",
        "Interpretation\n",
        "\n",
        "* H0: the two samples are independent.\n",
        "* H1: there is a dependency between the samples."
      ]
    },
    {
      "cell_type": "code",
      "execution_count": null,
      "metadata": {
        "colab": {
          "base_uri": "https://localhost:8080/"
        },
        "id": "Qrv562-1n72p",
        "outputId": "df746dbe-fc7a-4de0-8df7-bdc85cd2f437"
      },
      "outputs": [
        {
          "output_type": "stream",
          "name": "stdout",
          "text": [
            "stat=0.855, p=0.002\n",
            "Probably dependent\n"
          ]
        }
      ],
      "source": [
        "# Example of the Spearman's Rank Correlation Test\n",
        "from scipy.stats import spearmanr\n",
        "data1 = [0.873, 2.817, 0.121, -0.945, -0.055, -1.436, 0.360, -1.478, -1.637, -1.869]\n",
        "data2 = [0.353, 3.517, 0.125, -7.545, -0.555, -1.536, 3.350, -1.578, -3.537, -1.579]\n",
        "stat, p = spearmanr(data1, data2)\n",
        "print('stat=%.3f, p=%.3f' % (stat, p))\n",
        "if p > 0.05:\n",
        "    print('Probably independent')\n",
        "else:\n",
        "    print('Probably dependent')"
      ]
    },
    {
      "cell_type": "markdown",
      "metadata": {
        "id": "E28WPb-An72q"
      },
      "source": [
        "### Kendall’s Rank Correlation\n",
        "Tests whether two samples have a monotonic relationship.\n",
        "\n",
        "Assumptions\n",
        "\n",
        "* Observations in each sample are independent and identically distributed (iid).\n",
        "* Observations in each sample can be ranked.\n",
        "\n",
        "Interpretation\n",
        "\n",
        "* H0: the two samples are independent.\n",
        "* H1: there is a dependency between the samples."
      ]
    },
    {
      "cell_type": "code",
      "execution_count": null,
      "metadata": {
        "colab": {
          "base_uri": "https://localhost:8080/"
        },
        "id": "YpeOqZTan72q",
        "outputId": "356e9e71-57bb-4dd0-c8bb-63efe4e22d69"
      },
      "outputs": [
        {
          "output_type": "stream",
          "name": "stdout",
          "text": [
            "stat=0.733, p=0.002\n",
            "Probably dependent\n"
          ]
        }
      ],
      "source": [
        "# Example of the Kendall's Rank Correlation Test\n",
        "from scipy.stats import kendalltau\n",
        "data1 = [0.873, 2.817, 0.121, -0.945, -0.055, -1.436, 0.360, -1.478, -1.637, -1.869]\n",
        "data2 = [0.353, 3.517, 0.125, -7.545, -0.555, -1.536, 3.350, -1.578, -3.537, -1.579]\n",
        "stat, p = kendalltau(data1, data2)\n",
        "print('stat=%.3f, p=%.3f' % (stat, p))\n",
        "if p > 0.05:\n",
        "    print('Probably independent')\n",
        "else:\n",
        "    print('Probably dependent')"
      ]
    },
    {
      "cell_type": "markdown",
      "metadata": {
        "id": "gR5_nr6Cn72q"
      },
      "source": [
        "### Chi-Squared Test\n",
        "Tests whether two categorical variables are related or independent.\n",
        "\n",
        "Assumptions\n",
        "\n",
        "* Observations used in the calculation of the contingency table are independent.\n",
        "* 25 or more examples in each cell of the contingency table.\n",
        "\n",
        "Interpretation\n",
        "\n",
        "* H0: the two samples are independent.\n",
        "* H1: there is a dependency between the samples."
      ]
    },
    {
      "cell_type": "code",
      "execution_count": null,
      "metadata": {
        "colab": {
          "base_uri": "https://localhost:8080/"
        },
        "id": "p8Ez-ab3n72q",
        "outputId": "a598f300-a818-429f-9774-bdbc37e11640"
      },
      "outputs": [
        {
          "output_type": "stream",
          "name": "stdout",
          "text": [
            "stat=0.272, p=0.873\n",
            "Probably independent\n"
          ]
        }
      ],
      "source": [
        "# Example of the Chi-Squared Test\n",
        "from scipy.stats import chi2_contingency\n",
        "table = [[10, 20, 30],[6,  9,  17]]\n",
        "stat, p, dof, expected = chi2_contingency(table)\n",
        "print('stat=%.3f, p=%.3f' % (stat, p))\n",
        "if p > 0.05:\n",
        "    print('Probably independent')\n",
        "else:\n",
        "    print('Probably dependent')"
      ]
    },
    {
      "cell_type": "code",
      "execution_count": null,
      "metadata": {
        "id": "98S5Tttvn72q"
      },
      "outputs": [],
      "source": []
    },
    {
      "cell_type": "markdown",
      "metadata": {
        "id": "IBU6DIyhn72q"
      },
      "source": [
        "## Nonparametric Statistical Hypothesis Tests"
      ]
    },
    {
      "cell_type": "markdown",
      "metadata": {
        "id": "ZBoe5I5Hn72q"
      },
      "source": [
        "## Mann-Whitney U Test\n",
        "Tests whether the distributions of two independent samples are equal or not.\n",
        "\n",
        "Assumptions\n",
        "\n",
        "* Observations in each sample are independent and identically distributed (iid).\n",
        "* Observations in each sample can be ranked.\n",
        "\n",
        "Interpretation\n",
        "\n",
        "* H0: the distributions of both samples are equal.\n",
        "* H1: the distributions of both samples are not equal."
      ]
    },
    {
      "cell_type": "code",
      "execution_count": null,
      "metadata": {
        "colab": {
          "base_uri": "https://localhost:8080/"
        },
        "id": "X-g87VJmn72q",
        "outputId": "cd290682-4dba-411a-da18-13458d6a0b69"
      },
      "outputs": [
        {
          "output_type": "stream",
          "name": "stdout",
          "text": [
            "stat=40.000, p=0.473\n",
            "Probably the same distribution\n"
          ]
        }
      ],
      "source": [
        "# Example of the Mann-Whitney U Test\n",
        "from scipy.stats import mannwhitneyu\n",
        "data1 = [0.873, 2.817, 0.121, -0.945, -0.055, -1.436, 0.360, -1.478, -1.637, -1.869]\n",
        "data2 = [1.142, -0.432, -0.938, -0.729, -0.846, -0.157, 0.500, 1.183, -1.075, -0.169]\n",
        "stat, p = mannwhitneyu(data1, data2)\n",
        "print('stat=%.3f, p=%.3f' % (stat, p))\n",
        "if p > 0.05:\n",
        "    print('Probably the same distribution')\n",
        "else:\n",
        "    print('Probably different distributions')"
      ]
    },
    {
      "cell_type": "markdown",
      "metadata": {
        "id": "rMTjHhGan72q"
      },
      "source": [
        "### Wilcoxon Signed-Rank Test\n",
        "Tests whether the distributions of two paired samples are equal or not.\n",
        "\n",
        "Assumptions\n",
        "\n",
        "* Observations in each sample are independent and identically distributed (iid).\n",
        "* Observations in each sample can be ranked.\n",
        "* Observations across each sample are paired.\n",
        "\n",
        "Interpretation\n",
        "\n",
        "* H0: the distributions of both samples are equal.\n",
        "* H1: the distributions of both samples are not equal."
      ]
    },
    {
      "cell_type": "code",
      "execution_count": null,
      "metadata": {
        "colab": {
          "base_uri": "https://localhost:8080/"
        },
        "id": "7f9M_52un72r",
        "outputId": "71856ef7-d576-49b0-b121-5ee7dcb6c289"
      },
      "outputs": [
        {
          "output_type": "stream",
          "name": "stdout",
          "text": [
            "stat=21.000, p=0.557\n",
            "Probably the same distribution\n"
          ]
        }
      ],
      "source": [
        "# Example of the Wilcoxon Signed-Rank Test\n",
        "from scipy.stats import wilcoxon\n",
        "data1 = [0.873, 2.817, 0.121, -0.945, -0.055, -1.436, 0.360, -1.478, -1.637, -1.869]\n",
        "data2 = [1.142, -0.432, -0.938, -0.729, -0.846, -0.157, 0.500, 1.183, -1.075, -0.169]\n",
        "stat, p = wilcoxon(data1, data2)\n",
        "print('stat=%.3f, p=%.3f' % (stat, p))\n",
        "if p > 0.05:\n",
        "    print('Probably the same distribution')\n",
        "else:\n",
        "    print('Probably different distributions')"
      ]
    },
    {
      "cell_type": "markdown",
      "metadata": {
        "id": "PLufvXIOn72r"
      },
      "source": [
        "### Kruskal-Wallis H Test\n",
        "Tests whether the distributions of two or more independent samples are equal or not.\n",
        "\n",
        "Assumptions\n",
        "\n",
        "* Observations in each sample are independent and identically distributed (iid).\n",
        "* Observations in each sample can be ranked.\n",
        "\n",
        "Interpretation\n",
        "\n",
        "* H0: the distributions of all samples are equal.\n",
        "* H1: the distributions of one or more samples are not equal."
      ]
    },
    {
      "cell_type": "code",
      "execution_count": null,
      "metadata": {
        "colab": {
          "base_uri": "https://localhost:8080/"
        },
        "id": "IRc4x-8qn72r",
        "outputId": "8a398ddc-f0d2-4c9d-edc4-3e8076139be2"
      },
      "outputs": [
        {
          "output_type": "stream",
          "name": "stdout",
          "text": [
            "stat=0.571, p=0.450\n",
            "Probably the same distribution\n"
          ]
        }
      ],
      "source": [
        "# Example of the Kruskal-Wallis H Test\n",
        "from scipy.stats import kruskal\n",
        "data1 = [0.873, 2.817, 0.121, -0.945, -0.055, -1.436, 0.360, -1.478, -1.637, -1.869]\n",
        "data2 = [1.142, -0.432, -0.938, -0.729, -0.846, -0.157, 0.500, 1.183, -1.075, -0.169]\n",
        "stat, p = kruskal(data1, data2)\n",
        "print('stat=%.3f, p=%.3f' % (stat, p))\n",
        "if p > 0.05:\n",
        "    print('Probably the same distribution')\n",
        "else:\n",
        "    print('Probably different distributions')"
      ]
    },
    {
      "cell_type": "markdown",
      "metadata": {
        "id": "gdrIul9Wn72r"
      },
      "source": [
        "### Friedman Test\n",
        "Tests whether the distributions of two or more paired samples are equal or not.\n",
        "\n",
        "Assumptions\n",
        "\n",
        "* Observations in each sample are independent and identically distributed (iid).\n",
        "* Observations in each sample can be ranked.\n",
        "* Observations across each sample are paired.\n",
        "\n",
        "Interpretation\n",
        "\n",
        "* H0: the distributions of all samples are equal.\n",
        "* H1: the distributions of one or more samples are not equal."
      ]
    },
    {
      "cell_type": "code",
      "execution_count": null,
      "metadata": {
        "colab": {
          "base_uri": "https://localhost:8080/"
        },
        "id": "BqR_bN6on72r",
        "outputId": "de9dd693-16c7-42f5-ce61-6bb263440e46"
      },
      "outputs": [
        {
          "output_type": "stream",
          "name": "stdout",
          "text": [
            "stat=0.800, p=0.670\n",
            "Probably the same distribution\n"
          ]
        }
      ],
      "source": [
        "# Example of the Friedman Test\n",
        "from scipy.stats import friedmanchisquare\n",
        "data1 = [0.873, 2.817, 0.121, -0.945, -0.055, -1.436, 0.360, -1.478, -1.637, -1.869]\n",
        "data2 = [1.142, -0.432, -0.938, -0.729, -0.846, -0.157, 0.500, 1.183, -1.075, -0.169]\n",
        "data3 = [-0.208, 0.696, 0.928, -1.148, -0.213, 0.229, 0.137, 0.269, -0.870, -1.204]\n",
        "stat, p = friedmanchisquare(data1, data2, data3)\n",
        "print('stat=%.3f, p=%.3f' % (stat, p))\n",
        "if p > 0.05:\n",
        "    print('Probably the same distribution')\n",
        "else:\n",
        "    print('Probably different distributions')"
      ]
    },
    {
      "cell_type": "code",
      "execution_count": null,
      "metadata": {
        "id": "R0nhhu6on72s"
      },
      "outputs": [],
      "source": []
    }
  ],
  "metadata": {
    "kernelspec": {
      "display_name": "Python 3",
      "language": "python",
      "name": "python3"
    },
    "language_info": {
      "codemirror_mode": {
        "name": "ipython",
        "version": 3
      },
      "file_extension": ".py",
      "mimetype": "text/x-python",
      "name": "python",
      "nbconvert_exporter": "python",
      "pygments_lexer": "ipython3",
      "version": "3.8.5"
    },
    "colab": {
      "provenance": []
    }
  },
  "nbformat": 4,
  "nbformat_minor": 0
}