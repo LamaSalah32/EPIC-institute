{
  "cells": [
    {
      "cell_type": "code",
      "execution_count": null,
      "id": "41dcd621",
      "metadata": {
        "id": "41dcd621",
        "outputId": "71d67a0d-cde8-40f4-e797-9f0200e83f24"
      },
      "outputs": [
        {
          "data": {
            "text/plain": [
              "'1.9.1'"
            ]
          },
          "execution_count": 1,
          "metadata": {},
          "output_type": "execute_result"
        }
      ],
      "source": [
        "%matplotlib inline\n",
        "import numpy as np\n",
        "import pandas as pd\n",
        "import scipy\n",
        "import matplotlib.pyplot as plt\n",
        "import matplotlib.mlab as mlab\n",
        "import seaborn as sns\n",
        "from scipy import stats\n",
        "import math\n",
        "from __future__ import division\n",
        "\n",
        "# turn of data table rendering\n",
        "pd.set_option('display.notebook_repr_html', False)\n",
        "\n",
        "sns.set_palette(['#00A99D', '#F5CA0C', '#B6129F', '#76620C', '#095C57'])\n",
        "np.version.full_version"
      ]
    },
    {
      "cell_type": "markdown",
      "id": "d6aa4827",
      "metadata": {
        "id": "d6aa4827"
      },
      "source": [
        "## Data\n",
        "The data used in this example contains reporting from the [Federal Aviation Administration Wildlife Strike Database](http://wildlife.faa.gov/database.aspx) in 2012 and 2013 in the US state of California. We only use daily wild life strike incident frequencies."
      ]
    },
    {
      "cell_type": "code",
      "execution_count": null,
      "id": "c898ed2e",
      "metadata": {
        "id": "c898ed2e",
        "outputId": "e48b0e74-d459-4ed3-fed4-831e6995bd17"
      },
      "outputs": [
        {
          "data": {
            "text/plain": [
              "INCIDENT_DATE\n",
              "2012-01-02       1\n",
              "2012-01-04       2\n",
              "2012-01-05       5\n",
              "2012-01-06       3\n",
              "2012-01-07       2\n",
              "dtype: int64"
            ]
          },
          "execution_count": 2,
          "metadata": {},
          "output_type": "execute_result"
        }
      ],
      "source": [
        "# Load the data from a csv file.\n",
        "data = pd.read_csv('data/wildlife.csv')\n",
        "\n",
        "# We only need the incident dates this time\n",
        "data = data[['INCIDENT_DATE']]\n",
        "data.INCIDENT_DATE = pd.to_datetime(data.INCIDENT_DATE)\n",
        "data = data.groupby('INCIDENT_DATE')['INCIDENT_DATE'].size()\n",
        "data.head()"
      ]
    },
    {
      "cell_type": "code",
      "execution_count": null,
      "id": "2d93d207",
      "metadata": {
        "id": "2d93d207",
        "outputId": "9df48945-69dc-470e-fc3b-0fa30538f601"
      },
      "outputs": [
        {
          "data": {
            "text/plain": [
              "            incidents\n",
              "2012-01-01        NaN\n",
              "2012-01-02          1\n",
              "2012-01-03        NaN\n",
              "2012-01-04          2\n",
              "2012-01-05          5"
            ]
          },
          "execution_count": 3,
          "metadata": {},
          "output_type": "execute_result"
        }
      ],
      "source": [
        "# Set the index to contain all days in 2012 and 2013\n",
        "days_2012_2013 = pd.date_range('1/1/2012', '12/31/2013')\n",
        "data = pd.DataFrame(data, index=days_2012_2013, columns=['incidents'])\n",
        "data.head()"
      ]
    },
    {
      "cell_type": "code",
      "execution_count": null,
      "id": "be61edde",
      "metadata": {
        "id": "be61edde",
        "outputId": "9502d9f0-0127-46a8-bf75-f01e3ea8b1c2"
      },
      "outputs": [
        {
          "data": {
            "text/plain": [
              "            incidents\n",
              "2012-01-01          0\n",
              "2012-01-02          1\n",
              "2012-01-03          0\n",
              "2012-01-04          2\n",
              "2012-01-05          5"
            ]
          },
          "execution_count": 4,
          "metadata": {},
          "output_type": "execute_result"
        }
      ],
      "source": [
        "# Fill the data with no strike incidents (NaN) with a zero\n",
        "data = data.fillna(0)\n",
        "data.head()"
      ]
    },
    {
      "cell_type": "code",
      "execution_count": null,
      "id": "8d70a1fc",
      "metadata": {
        "id": "8d70a1fc",
        "outputId": "308df3c1-b76f-4b41-fade-4d326a185c6d"
      },
      "outputs": [
        {
          "data": {
            "image/png": "[encoded data removed]",
            "text/plain": [
              "<matplotlib.figure.Figure at 0x17a21f98>"
            ]
          },
          "metadata": {},
          "output_type": "display_data"
        }
      ],
      "source": [
        "# Plot of the daily strike incident frequencies of 2012 and 2013\n",
        "f, (ax1, ax2) = plt.subplots(2, 1, sharex=True, sharey=True)\n",
        "sns.barplot(data['2012'].incidents, ax=ax1)\n",
        "sns.barplot(data['2013'].incidents, ax=ax2)\n",
        "ax1.set_title('Wildlife Strike Incidents 2012')\n",
        "ax2.set_title('Wildlife Strike Incidents 2013')\n",
        "ax1.set_xlabel('')\n",
        "ax2.set_xlabel('')\n",
        "plt.show()"
      ]
    },
    {
      "cell_type": "markdown",
      "id": "f4415f33",
      "metadata": {
        "id": "f4415f33"
      },
      "source": [
        "## Hypothesis testing\n",
        "Let's asume that the Federal Aviation Administration launched a new Wildlife Strike Prevention Program in 2013. We want to know if there is a significant decline in the number of daily strike incidents in 2013 as opposed to 2012. This forms our operational definition. We choose an alpha level of .05 as our level of significance. A probability smaller than the alpha level leads to rejecting the null hypothesis.\n",
        "\n",
        "|Hypothesis||$\\alpha = .05$||\n",
        "|---|---|---|:---:|\n",
        "|Null|$H_0:$|$\\bar{x} = \\mu$|\n",
        "|Alternative|$H_a:$|$\\bar{x} \\lt \\mu$|\n",
        "\n"
      ]
    },
    {
      "cell_type": "code",
      "execution_count": null,
      "id": "ba547fd3",
      "metadata": {
        "id": "ba547fd3",
        "outputId": "f36ee5c2-8fc0-469a-de02-6022e7b2bf2c"
      },
      "outputs": [
        {
          "data": {
            "text/plain": [
              "(2.5546448087431695, 1.6818182461905784)"
            ]
          },
          "execution_count": 6,
          "metadata": {},
          "output_type": "execute_result"
        }
      ],
      "source": [
        "# We assume stats from the wildlife strike incidents in 2012\n",
        "# to be our population parameters\n",
        "mu = data['2012'].incidents.mean()\n",
        "sigma = data['2012'].incidents.std()\n",
        "mu, sigma"
      ]
    },
    {
      "cell_type": "code",
      "execution_count": null,
      "id": "3c70bfbe",
      "metadata": {
        "id": "3c70bfbe",
        "outputId": "42589e1e-5ddf-4e0b-d853-d405cab0cc47"
      },
      "outputs": [
        {
          "data": {
            "text/plain": [
              "2.4328767123287673"
            ]
          },
          "execution_count": 7,
          "metadata": {},
          "output_type": "execute_result"
        }
      ],
      "source": [
        "# We also take the average of strike incidents in 2013\n",
        "xbar = data['2013'].incidents.mean()\n",
        "xbar"
      ]
    },
    {
      "cell_type": "code",
      "execution_count": null,
      "id": "3b88ec28",
      "metadata": {
        "id": "3b88ec28",
        "outputId": "27a0a4b2-29ea-4575-c426-f353037c200a"
      },
      "outputs": [
        {
          "data": {
            "text/plain": [
              "365"
            ]
          },
          "execution_count": 8,
          "metadata": {},
          "output_type": "execute_result"
        }
      ],
      "source": [
        "# What is our sample size\n",
        "n = data['2013'].incidents.count()\n",
        "n"
      ]
    },
    {
      "cell_type": "code",
      "execution_count": null,
      "id": "c161d5ad",
      "metadata": {
        "id": "c161d5ad",
        "outputId": "1792b720-d322-4164-d6f5-a49496c466a0"
      },
      "outputs": [
        {
          "data": {
            "text/plain": [
              "0.08803039035048664"
            ]
          },
          "execution_count": 9,
          "metadata": {},
          "output_type": "execute_result"
        }
      ],
      "source": [
        "# Calculate the standard error\n",
        "SE = sigma / math.sqrt(n)\n",
        "SE"
      ]
    },
    {
      "cell_type": "markdown",
      "id": "3addc6c8",
      "metadata": {
        "id": "3addc6c8"
      },
      "source": [
        "We notice the mean average wildlife strike incidents is somewhat lower in 2013. We need to find out if this is due to the normal variation in the data. In other words, could we draw this mean by pure random chance? To find out, we calculate the z score for our sample mean and check this against the significance level alpha."
      ]
    },
    {
      "cell_type": "code",
      "execution_count": null,
      "id": "288ea9f4",
      "metadata": {
        "id": "288ea9f4",
        "outputId": "f38d657e-42f6-401d-fd1a-b956a562d0d8"
      },
      "outputs": [
        {
          "data": {
            "text/plain": [
              "-1.3832506697924574"
            ]
          },
          "execution_count": 10,
          "metadata": {},
          "output_type": "execute_result"
        }
      ],
      "source": [
        "# Calculate the z score for the mean of 2013 (xbar)\n",
        "zscore = (xbar - mu) / SE\n",
        "zscore"
      ]
    },
    {
      "cell_type": "code",
      "execution_count": null,
      "id": "2eceacf4",
      "metadata": {
        "id": "2eceacf4",
        "outputId": "966c32ac-177a-4eb8-e0fa-2ea8df087c00"
      },
      "outputs": [
        {
          "data": {
            "text/plain": [
              "-1.6448536269514729"
            ]
          },
          "execution_count": 11,
          "metadata": {},
          "output_type": "execute_result"
        }
      ],
      "source": [
        "# Calculate the critical value of the alpha level on one side of the\n",
        "# distribution, because we're only intrested in a mean decline\n",
        "alpha = .05\n",
        "critical_value = stats.norm.ppf(alpha)\n",
        "critical_value"
      ]
    },
    {
      "cell_type": "code",
      "execution_count": null,
      "id": "447fe945",
      "metadata": {
        "id": "447fe945",
        "outputId": "383aa8d9-3b6b-45af-f6af-2ddc0cf53849"
      },
      "outputs": [
        {
          "data": {
            "image/png": "[encoded data removed]",
            "text/plain": [
              "<matplotlib.figure.Figure at 0x182e3518>"
            ]
          },
          "metadata": {},
          "output_type": "display_data"
        }
      ],
      "source": [
        "# Plot the normal distribution\n",
        "samples = 100\n",
        "x_plot = np.linspace(-3.5, 3.5, samples)\n",
        "y_plot = stats.norm.pdf(x_plot, 0, 1)\n",
        "plt.plot(x_plot, y_plot)\n",
        "\n",
        "# Plot the critical region\n",
        "x_crit = np.linspace(-3.5, critical_value, samples)\n",
        "y_crit = stats.norm.pdf(x_crit, 0, 1)\n",
        "plt.fill_between(x_crit,  y_crit, alpha=.5)\n",
        "\n",
        "# Plot the z score\n",
        "plt.plot([zscore, zscore], [0, stats.norm.pdf(zscore)])\n",
        "\n",
        "# Show legend\n",
        "plt.legend(['critical region', 'z score'])\n",
        "plt.show()"
      ]
    },
    {
      "cell_type": "code",
      "execution_count": null,
      "id": "d769ba24",
      "metadata": {
        "id": "d769ba24",
        "outputId": "526df7cb-ece2-41e7-ac95-4bb4e691812d"
      },
      "outputs": [
        {
          "data": {
            "text/plain": [
              "False"
            ]
          },
          "execution_count": 13,
          "metadata": {},
          "output_type": "execute_result"
        }
      ],
      "source": [
        "# So given these values let's test the alternative hypothesis\n",
        "zscore < critical_value"
      ]
    },
    {
      "cell_type": "markdown",
      "id": "0ae48cfc",
      "metadata": {
        "id": "0ae48cfc"
      },
      "source": [
        "This means we could have drawn a mean sample xbar from the real population pure by random chance, therefore we fail to reject the null hypothesis. In other words, there is no significant difference of average daily strike incidents between 2013 and 2012."
      ]
    },
    {
      "cell_type": "code",
      "execution_count": null,
      "id": "7352269b",
      "metadata": {
        "id": "7352269b",
        "outputId": "96aace8e-5b2b-471f-c634-fddadddf1fbd"
      },
      "outputs": [
        {
          "data": {
            "text/plain": [
              "0.083294009028340998"
            ]
          },
          "execution_count": 14,
          "metadata": {},
          "output_type": "execute_result"
        }
      ],
      "source": [
        "# The probability of drawing this sample mean is about 8%\n",
        "p = stats.norm.cdf(zscore)\n",
        "p"
      ]
    },
    {
      "cell_type": "code",
      "execution_count": null,
      "id": "26c4cdae",
      "metadata": {
        "id": "26c4cdae",
        "outputId": "18206a6b-9e4b-4266-f407-58eddb6675e4"
      },
      "outputs": [
        {
          "data": {
            "text/plain": [
              "'1.9.1'"
            ]
          },
          "execution_count": 1,
          "metadata": {},
          "output_type": "execute_result"
        }
      ],
      "source": [
        "%matplotlib inline\n",
        "import numpy as np\n",
        "import pandas as pd\n",
        "import scipy\n",
        "import matplotlib.pyplot as plt\n",
        "import matplotlib.mlab as mlab\n",
        "import seaborn as sns\n",
        "from scipy import stats\n",
        "import math\n",
        "from __future__ import division\n",
        "\n",
        "# turn of data table rendering\n",
        "pd.set_option('display.notebook_repr_html', False)\n",
        "\n",
        "sns.set_palette(['#00A99D', '#F5CA0C', '#B6129F', '#76620C', '#095C57'])\n",
        "fill_color = '#F5CA0C'\n",
        "np.version.full_version"
      ]
    },
    {
      "cell_type": "markdown",
      "id": "2905a7f3",
      "metadata": {
        "id": "2905a7f3"
      },
      "source": [
        "## Data\n",
        "In the example we take a random sample of 25 housing prices in our neighbourhood and compare them against the average price of a house in the whole country."
      ]
    },
    {
      "cell_type": "code",
      "execution_count": null,
      "id": "54170fea",
      "metadata": {
        "id": "54170fea",
        "outputId": "67c9196b-540e-4e65-8a54-0f5b48b135c5"
      },
      "outputs": [
        {
          "data": {
            "text/plain": [
              "0    319711\n",
              "1    289066\n",
              "2    212512\n",
              "3    195347\n",
              "4    245589\n",
              "dtype: float64"
            ]
          },
          "execution_count": 2,
          "metadata": {},
          "output_type": "execute_result"
        }
      ],
      "source": [
        "# data = np.random.random_sample(25) * 360000 + 100000 / floor it\n",
        "housing_prices = pd.Series(\n",
        "    [319711.,  289066.,  212512.,  195347.,  245589.,  418577.,\n",
        "     301112.,  327251.,  434408.,  224529.,  450276.,  423406.,\n",
        "     230321.,  275374.,  215945.,  209971.,  322661.,  292517.,\n",
        "     378317.,  194028.,  347261.,  104542.,  231457.,  335174.,\n",
        "     369656.])\n",
        "housing_prices.head()"
      ]
    },
    {
      "cell_type": "code",
      "execution_count": null,
      "id": "66ab397f",
      "metadata": {
        "id": "66ab397f",
        "outputId": "aeb3b1b5-0f35-472a-98dd-c87973d9fb8b"
      },
      "outputs": [
        {
          "data": {
            "image/png": "[encoded data removed]",
            "text/plain": [
              "<matplotlib.figure.Figure at 0xcee2c18>"
            ]
          },
          "metadata": {},
          "output_type": "display_data"
        }
      ],
      "source": [
        "sns.distplot(housing_prices)\n",
        "plt.show()"
      ]
    },
    {
      "cell_type": "markdown",
      "id": "a960d3a6",
      "metadata": {
        "id": "a960d3a6"
      },
      "source": [
        "## Hypothesis\n",
        "We want to know if there is a significant difference in the mean housing price, compared to the average price of a house in our country. The latter has a mean of $\\mu=289.100$. We choose as our test criterium an alpha level of 5%. So our hypothesis states:\n",
        "\n",
        "|Hypothesis|||$\\alpha = .05$|\n",
        "|---:|:---:|---|:---|\n",
        "|$H_0:$|$\\bar{x} = \\mu$|There is no significant difference in mean housing price|\n",
        "|$H_a:$|$\\bar{x} \\neq \\mu$|There is a significant difference in the mean housing price|\n"
      ]
    },
    {
      "cell_type": "code",
      "execution_count": null,
      "id": "aa108125",
      "metadata": {
        "id": "aa108125",
        "outputId": "25c09816-996c-4af9-a1c6-47f376d51dd3"
      },
      "outputs": [
        {
          "data": {
            "text/plain": [
              "289100.0"
            ]
          },
          "execution_count": 4,
          "metadata": {},
          "output_type": "execute_result"
        }
      ],
      "source": [
        "# The mean housing price is a given\n",
        "mu = 289100.\n",
        "mu"
      ]
    },
    {
      "cell_type": "code",
      "execution_count": null,
      "id": "4be9fd60",
      "metadata": {
        "id": "4be9fd60",
        "outputId": "d8cda3e2-d200-4786-a38b-953e669fa94e"
      },
      "outputs": [
        {
          "data": {
            "text/plain": [
              "(25, 293960.32000000001, 88348.432213839144)"
            ]
          },
          "execution_count": 5,
          "metadata": {},
          "output_type": "execute_result"
        }
      ],
      "source": [
        "# The sample statistics\n",
        "n = housing_prices.count()\n",
        "xbar = housing_prices.mean()\n",
        "s = housing_prices.std(ddof=1)\n",
        "n, xbar, s"
      ]
    },
    {
      "cell_type": "code",
      "execution_count": null,
      "id": "36905409",
      "metadata": {
        "id": "36905409",
        "outputId": "85ab83f6-d42a-448d-db79-6beaa3dfcc6e"
      },
      "outputs": [
        {
          "data": {
            "text/plain": [
              "4860.320000000007"
            ]
          },
          "execution_count": 6,
          "metadata": {},
          "output_type": "execute_result"
        }
      ],
      "source": [
        "# Show the mean difference\n",
        "xbar - mu"
      ]
    },
    {
      "cell_type": "markdown",
      "id": "01435a2c",
      "metadata": {
        "id": "01435a2c"
      },
      "source": [
        "It looks like the housing prices in our neighbourhood are slightly higher than the average price of a house in the whole country. But is a  4860.32 difference significant?"
      ]
    },
    {
      "cell_type": "markdown",
      "id": "f224e12c",
      "metadata": {
        "id": "f224e12c"
      },
      "source": [
        "## The t-distribution\n",
        "Since we don't know the standard deviation of the population, we can't use the the standard normal distribution to perform our hypothesis test. If we don't know this population parameter we us the t-distribution. The shape of the t-distribution is closely related to the degress of freedom we have in the dataset. For a series (like we have here) this is $n-1$. Below a plot of the difference in shape from the normal distribution."
      ]
    },
    {
      "cell_type": "code",
      "execution_count": null,
      "id": "87539d0a",
      "metadata": {
        "id": "87539d0a",
        "outputId": "b2a8dcdd-574f-48e6-c89d-ce4f34b0cb4d"
      },
      "outputs": [
        {
          "data": {
            "image/png": "[encoded data removed]",
            "text/plain": [
              "<matplotlib.figure.Figure at 0x17cb4eb8>"
            ]
          },
          "metadata": {},
          "output_type": "display_data"
        }
      ],
      "source": [
        "# Plot the normal distribution\n",
        "samples = 100\n",
        "dof = 2\n",
        "x_plot = np.linspace(-4, 4, samples)\n",
        "y_plot = stats.norm.pdf(x_plot, 0, 1)\n",
        "plt.plot(x_plot, y_plot)\n",
        "\n",
        "x_plot = np.linspace(-4, 4, samples)\n",
        "y_plot = stats.t.pdf(x_plot, dof)\n",
        "plt.plot(x_plot, y_plot)\n",
        "\n",
        "# Show legend\n",
        "plt.legend(['normal distribution', 't-distribution (df=2)'])\n",
        "plt.show()"
      ]
    },
    {
      "cell_type": "markdown",
      "id": "fd7d0d4e",
      "metadata": {
        "id": "fd7d0d4e"
      },
      "source": [
        "## Effect of increased degrees of freedom\n",
        "The t-distribution tends to grow towards the normal distribution when the degrees of freedom increase. If we have a sample size bigger than $n=30$, the differences between the t and normal distribution are very small. Below a projection of the effect on the t-distribution while increasing the degrees of freedom from 1, 4, 14 to 29."
      ]
    },
    {
      "cell_type": "code",
      "execution_count": null,
      "id": "3d3d676c",
      "metadata": {
        "id": "3d3d676c",
        "outputId": "aefc683e-bd7e-4f8d-9232-75eb8dc7e038"
      },
      "outputs": [
        {
          "data": {
            "image/png": "[encoded data removed]",
            "text/plain": [
              "<matplotlib.figure.Figure at 0x180f3400>"
            ]
          },
          "metadata": {},
          "output_type": "display_data"
        }
      ],
      "source": [
        "f, (ax1, ax2) = plt.subplots(2, 2, sharex=True)\n",
        "axes = [ax1[0], ax1[1], ax2[0], ax2[1]]\n",
        "ax = 0\n",
        "\n",
        "samples = 100\n",
        "degrees_of_freedom = [1, 4, 14, 29]\n",
        "\n",
        "for dof in degrees_of_freedom:\n",
        "    x_plot = np.linspace(-4, 4, samples)\n",
        "    y_plot = stats.norm.pdf(x_plot, 0, 1)\n",
        "    axes[ax].plot(x_plot, y_plot)\n",
        "\n",
        "    y_fill = stats.t.pdf(x_plot, dof)\n",
        "    axes[ax].fill_between(x_plot,  y_fill, alpha=.5, facecolor=fill_color)\n",
        "\n",
        "    y_plot = stats.t.pdf(x_plot, dof)\n",
        "    axes[ax].plot(x_plot, y_plot)\n",
        "    axes[ax].set_xlabel('dof=' + str(dof))\n",
        "\n",
        "    ax += 1\n",
        "\n",
        "axes[1].legend(['normal', 't-dist'])\n",
        "plt.show()"
      ]
    },
    {
      "cell_type": "markdown",
      "id": "63049bd4",
      "metadata": {
        "id": "63049bd4"
      },
      "source": [
        "## The one-sample t-test\n",
        "Let's find out what out t-statistic related to our sample mean. We use the follwing formula:\n",
        "\n",
        "$$t=\\frac{\\bar{x}-\\mu}{s\\cdot\\sqrt{n}}$$"
      ]
    },
    {
      "cell_type": "code",
      "execution_count": null,
      "id": "c2db0dfc",
      "metadata": {
        "id": "c2db0dfc",
        "outputId": "95f1c388-1ccc-4a50-fa63-c115dce2dad2"
      },
      "outputs": [
        {
          "data": {
            "text/plain": [
              "0.27506543569647368"
            ]
          },
          "execution_count": 9,
          "metadata": {},
          "output_type": "execute_result"
        }
      ],
      "source": [
        "# Calculate the t-statistic for the sample mean\n",
        "se = s / math.sqrt(n)\n",
        "t_statistic = (xbar - mu) / se\n",
        "t_statistic"
      ]
    },
    {
      "cell_type": "code",
      "execution_count": null,
      "id": "2cd93934",
      "metadata": {
        "id": "2cd93934",
        "outputId": "2e2f641a-6078-4f7d-b539-64138b31565e"
      },
      "outputs": [
        {
          "data": {
            "text/plain": [
              "0.78521626726148908"
            ]
          },
          "execution_count": 10,
          "metadata": {},
          "output_type": "execute_result"
        }
      ],
      "source": [
        "# What is the probability of getting this mean?\n",
        "p = stats.t.sf(t_statistic, dof) * 2. # two-sided test\n",
        "p"
      ]
    },
    {
      "cell_type": "code",
      "execution_count": null,
      "id": "c1d22340",
      "metadata": {
        "id": "c1d22340",
        "outputId": "8e1af9d9-37f4-480e-8863-577f74d8b0e7"
      },
      "outputs": [
        {
          "data": {
            "text/plain": [
              "False"
            ]
          },
          "execution_count": 11,
          "metadata": {},
          "output_type": "execute_result"
        }
      ],
      "source": [
        "# To test our alternative hypothesis\n",
        "alpha = .05\n",
        "p < alpha / 2 #two sided"
      ]
    },
    {
      "cell_type": "markdown",
      "id": "6eddbe2b",
      "metadata": {
        "id": "6eddbe2b"
      },
      "source": [
        "So we fail to reject the null hypothesis. A mean difference of 4860.32 in housing prices between our neigbourhood and the whole country is not significant."
      ]
    },
    {
      "cell_type": "code",
      "execution_count": null,
      "id": "9e06da81",
      "metadata": {
        "id": "9e06da81",
        "outputId": "3d7ba92c-f778-495b-f05a-87efe9163db5"
      },
      "outputs": [
        {
          "data": {
            "text/plain": [
              "(0.27506543569647363, 0.78562014170787664)"
            ]
          },
          "execution_count": 12,
          "metadata": {},
          "output_type": "execute_result"
        }
      ],
      "source": [
        "# To perform a t-test more quickly, we can use scipy.stats ttest_1samp\n",
        "# for a one-sample t-test. The function returns the t-statistic and\n",
        "# the p-value in one single call. Slightly different results, but close\n",
        "t_statistic, p = stats.ttest_1samp(housing_prices, mu)\n",
        "t_statistic, p"
      ]
    },
    {
      "cell_type": "markdown",
      "id": "7b7bece6",
      "metadata": {
        "id": "7b7bece6"
      },
      "source": [
        "## Cohen's d effect size\n",
        "Cohen's d is an effect size measure. According to Wikipedia, in statistics, an [effect size](http://en.wikipedia.org/wiki/Effect_size) is a quantitative measure of the strength of a phenomenon. Cohen's d is the standardized mean difference that measures the distance between two means in standard units (standard deviations). The larger the result (positive or negative), the larger the effect. Rule of thumb; small (0.2), medium (0.5) and large (0.8). Click the link to see a great interactive visualization on [Interpreting Cohen's d effect size](http://rpsychologist.com/d3/cohend/). The formula for Cohen's d is as follows:"
      ]
    },
    {
      "cell_type": "markdown",
      "id": "87b2b547",
      "metadata": {
        "id": "87b2b547"
      },
      "source": [
        "\n",
        "$$Cohen's\\ d=\\frac{\\bar{x}-\\mu}{s}$$"
      ]
    },
    {
      "cell_type": "code",
      "execution_count": null,
      "id": "05ca2cb1",
      "metadata": {
        "id": "05ca2cb1",
        "outputId": "f7feded2-59d9-43b5-803d-54a83e832c01"
      },
      "outputs": [
        {
          "data": {
            "text/plain": [
              "0.055013087139294738"
            ]
          },
          "execution_count": 13,
          "metadata": {},
          "output_type": "execute_result"
        }
      ],
      "source": [
        "# Calculate Cohen's d\n",
        "d = (xbar - mu) / s\n",
        "d"
      ]
    },
    {
      "cell_type": "markdown",
      "id": "4ec8d9f5",
      "metadata": {
        "id": "4ec8d9f5"
      },
      "source": [
        "This is a very small effect, acording to our rule of thumb stated above. The two mean are only 0.055 standard deviations apart."
      ]
    },
    {
      "cell_type": "markdown",
      "id": "1d25dfcd",
      "metadata": {
        "id": "1d25dfcd"
      },
      "source": [
        "## Confidence interval\n",
        "In addition to our test result, we want to calculate an interval in which our population parameter will probably lie. In this case the true average housing price in our neighbourhood. With the t-statistic we just calculated, we can calculate a 95% confidence interval."
      ]
    },
    {
      "cell_type": "code",
      "execution_count": null,
      "id": "4af678fa",
      "metadata": {
        "id": "4af678fa",
        "outputId": "534fd001-3f10-444a-88e8-a1499c86b8f1"
      },
      "outputs": [
        {
          "data": {
            "text/plain": [
              "(257491.87956635334, 330428.76043364668)"
            ]
          },
          "execution_count": 14,
          "metadata": {},
          "output_type": "execute_result"
        }
      ],
      "source": [
        "# Calculate the 95% confidence interval\n",
        "dof = n - 1\n",
        "t_critical = abs(stats.t.ppf(alpha / 2, dof)) # two sided\n",
        "margin_of_error = t_critical * se\n",
        "\n",
        "CI_lower =  xbar - margin_of_error\n",
        "CI_upper =  xbar + margin_of_error\n",
        "CI_lower, CI_upper"
      ]
    },
    {
      "cell_type": "markdown",
      "id": "2a868e23",
      "metadata": {
        "id": "2a868e23"
      },
      "source": [
        "This means that we are for 95% certain that the true mean housing price in our neighborhood lies between 257.491 and 330.428."
      ]
    },
    {
      "cell_type": "code",
      "execution_count": null,
      "id": "914b9797",
      "metadata": {
        "id": "914b9797",
        "outputId": "790e02fb-422e-4297-beb6-fcf3b023d486"
      },
      "outputs": [
        {
          "data": {
            "text/plain": [
              "'1.9.1'"
            ]
          },
          "execution_count": 1,
          "metadata": {},
          "output_type": "execute_result"
        }
      ],
      "source": [
        "%matplotlib inline\n",
        "import numpy as np\n",
        "import pandas as pd\n",
        "import scipy\n",
        "import matplotlib.pyplot as plt\n",
        "import seaborn as sns\n",
        "from scipy import stats\n",
        "import math\n",
        "from __future__ import division\n",
        "\n",
        "# turn of data table rendering\n",
        "pd.set_option('display.notebook_repr_html', False)\n",
        "\n",
        "sns.set_palette(['#00A99D', '#F5CA0C', '#B6129F', '#76620C', '#095C57'])\n",
        "np.version.full_version"
      ]
    },
    {
      "cell_type": "markdown",
      "id": "78b05dcf",
      "metadata": {
        "id": "78b05dcf"
      },
      "source": [
        "## Data\n",
        "We use two samples of the same subjects, in this case a group of 19 randomly selected women walking on high heels in one sample and flat shoes in another. The samples show the number of steps taken in 30 days for each woman in the group."
      ]
    },
    {
      "cell_type": "code",
      "execution_count": null,
      "id": "8b36d149",
      "metadata": {
        "id": "8b36d149",
        "outputId": "c7ac38f1-a8b0-447c-900f-cc89d9644775"
      },
      "outputs": [
        {
          "data": {
            "text/plain": [
              "     flat    high\n",
              "0  188777  189158\n",
              "1  196981  192110\n",
              "2  190510  176194\n",
              "3  184603  156349\n",
              "4  192341  161981"
            ]
          },
          "execution_count": 2,
          "metadata": {},
          "output_type": "execute_result"
        }
      ],
      "source": [
        "high_heels = pd.Series(\n",
        "    [189158.,  192110.,  176194.,  156349.,  161981.,  152096.,\n",
        "     168058.,  156401.,  174939.,  170711.,  170485.,  150565.,\n",
        "     167770.,  157289.,  191459.,  160661.,  190667.,  184006.,  174503.])\n",
        "flat_shoes = pd.Series(\n",
        "    [188777.,  196981.,  190510.,  184603.,  192341.,  197897.,\n",
        "     154040.,  168098.,  192263.,  154085.,  176084.,  189249.,\n",
        "     176291.,  151454.,  198118.,  162959.,  167480.,  159884.,  184386.])\n",
        "\n",
        "data = pd.DataFrame({'high': high_heels, 'flat': flat_shoes})\n",
        "data.head()"
      ]
    },
    {
      "cell_type": "code",
      "execution_count": null,
      "id": "d7580c41",
      "metadata": {
        "id": "d7580c41",
        "outputId": "71dca4a4-cc4f-4bc4-8820-2937c86f1ec6"
      },
      "outputs": [
        {
          "data": {
            "image/png": "[encoded data removed]",
            "text/plain": [
              "<matplotlib.figure.Figure at 0xcf38b00>"
            ]
          },
          "metadata": {},
          "output_type": "display_data"
        }
      ],
      "source": [
        "# Let's look at the difference in a side-by-side violin plot\n",
        "sns.violinplot(data)\n",
        "plt.ylabel('Number of steps in 30 days')\n",
        "plt.xlabel('Kind of shoes')\n",
        "plt.show()"
      ]
    },
    {
      "cell_type": "markdown",
      "id": "ba91d664",
      "metadata": {
        "id": "ba91d664"
      },
      "source": [
        "Just peeking at the plot shows a higher average step frequency over the period of 30 days for the group of women wearing flat shoes. But is it a statistical significant difference?"
      ]
    },
    {
      "cell_type": "code",
      "execution_count": null,
      "id": "32885e9a",
      "metadata": {
        "id": "32885e9a",
        "outputId": "5dcbd707-14a4-45b2-c24a-ad77ea264fd9"
      },
      "outputs": [
        {
          "data": {
            "text/plain": [
              "                flat           high\n",
              "count      19.000000      19.000000\n",
              "mean   178184.210526  170810.631579\n",
              "std     16113.058647   13748.423232\n",
              "min    151454.000000  150565.000000\n",
              "25%    165219.500000  158975.000000\n",
              "50%    184386.000000  170485.000000\n",
              "75%    191386.500000  180100.000000\n",
              "max    198118.000000  192110.000000"
            ]
          },
          "execution_count": 4,
          "metadata": {},
          "output_type": "execute_result"
        }
      ],
      "source": [
        "# The violin plot above shows the median, quartiles, IQR and\n",
        "# probability density function (kernel density estimation)\n",
        "# for both groups\n",
        "data.describe()"
      ]
    },
    {
      "cell_type": "markdown",
      "id": "7999c331",
      "metadata": {
        "id": "7999c331"
      },
      "source": [
        "## Hypothesis\n",
        "We want to know if there is a significant difference in the mean steps taken in 30 days for women wearing high heels and the same group wearing flat shoes. While walking on high heels, the women scored a mean average of $\\bar{x}_h=170810.63$. On flat shoes the mean average is $\\bar{x}_f=178184.21$ We choose as our test criterium an alpha level of 5%. So our hypothesis states:\n",
        "\n",
        "|Hypothesis|||$\\alpha = .05$|\n",
        "|---:|:---:|---|:---|\n",
        "|$H_0:$|$\\mu_h = \\mu_f$|There is no significant difference in mean steps between groups|\n",
        "|$H_a:$|$\\mu_h \\neq \\mu_f$|There is a significant difference in mean steps between groups|\n",
        "\n",
        "Note that the hypothesis is written to denote the whole population, not just the sample."
      ]
    },
    {
      "cell_type": "code",
      "execution_count": null,
      "id": "1ae0bab6",
      "metadata": {
        "id": "1ae0bab6",
        "outputId": "b2ac8bde-b698-48b6-a090-00d339886a94"
      },
      "outputs": [
        {
          "data": {
            "text/plain": [
              "     flat    high  difference\n",
              "0  188777  189158         381\n",
              "1  196981  192110       -4871\n",
              "2  190510  176194      -14316\n",
              "3  184603  156349      -28254\n",
              "4  192341  161981      -30360"
            ]
          },
          "execution_count": 5,
          "metadata": {},
          "output_type": "execute_result"
        }
      ],
      "source": [
        "# Take the difference of each subject\n",
        "data['difference'] = data.high - data.flat\n",
        "data.head()"
      ]
    },
    {
      "cell_type": "markdown",
      "id": "a1e1cea2",
      "metadata": {
        "id": "a1e1cea2"
      },
      "source": [
        "## Conduct a t-Test for dependent means\n",
        "All steps below are actually the same as for a one sample t-test conducted on a sample of mean differences."
      ]
    },
    {
      "cell_type": "code",
      "execution_count": null,
      "id": "65d553e6",
      "metadata": {
        "id": "65d553e6",
        "outputId": "badc6b4b-4169-474a-9406-4f9b4e0c2acb"
      },
      "outputs": [
        {
          "data": {
            "text/plain": [
              "-7373.5789473684208"
            ]
          },
          "execution_count": 6,
          "metadata": {},
          "output_type": "execute_result"
        }
      ],
      "source": [
        "# Calculate the point estimate (mean difference)\n",
        "point_estimate = data['difference'].mean()\n",
        "point_estimate"
      ]
    },
    {
      "cell_type": "code",
      "execution_count": null,
      "id": "52b33ae0",
      "metadata": {
        "id": "52b33ae0",
        "outputId": "966e9494-486f-44e0-97da-84ea8a0a7a7f"
      },
      "outputs": [
        {
          "data": {
            "text/plain": [
              "19471.738275755764"
            ]
          },
          "execution_count": 7,
          "metadata": {},
          "output_type": "execute_result"
        }
      ],
      "source": [
        "# Calculate the sample standard deviation of the difference\n",
        "s = data.difference.std()\n",
        "s"
      ]
    },
    {
      "cell_type": "code",
      "execution_count": null,
      "id": "7b018eec",
      "metadata": {
        "id": "7b018eec",
        "outputId": "25b3c304-e30b-44f2-8f1c-6e5e090fd6ed"
      },
      "outputs": [
        {
          "data": {
            "image/png": "[encoded data removed]",
            "text/plain": [
              "<matplotlib.figure.Figure at 0xcf22278>"
            ]
          },
          "metadata": {},
          "output_type": "display_data"
        }
      ],
      "source": [
        "# Show the mean difference distribution\n",
        "sns.distplot(data.difference, label='mean difference')\n",
        "plt.legend()\n",
        "plt.show()"
      ]
    },
    {
      "cell_type": "code",
      "execution_count": null,
      "id": "4aea117b",
      "metadata": {
        "id": "4aea117b",
        "outputId": "01d612d1-7c22-47c4-915b-06ebf3e130e8"
      },
      "outputs": [
        {
          "data": {
            "text/plain": [
              "(19, 4467.1231262680149, -1.6506325746898669)"
            ]
          },
          "execution_count": 9,
          "metadata": {},
          "output_type": "execute_result"
        }
      ],
      "source": [
        "# Calculate the t-statistic with the point estimate\n",
        "n = data.high.count() # the same for both samples\n",
        "se = s / math.sqrt(n) # standard error\n",
        "t = point_estimate / se\n",
        "n, se, t"
      ]
    },
    {
      "cell_type": "code",
      "execution_count": null,
      "id": "bf7a1fb7",
      "metadata": {
        "id": "bf7a1fb7",
        "outputId": "5d22151b-c7dc-4a16-fdc8-77b955e34c0a"
      },
      "outputs": [
        {
          "data": {
            "text/plain": [
              "0.11615318918022229"
            ]
          },
          "execution_count": 10,
          "metadata": {},
          "output_type": "execute_result"
        }
      ],
      "source": [
        "# So what is the probability of getting this mean difference?\n",
        "dof = n - 1\n",
        "p = stats.t.sf(abs(t), dof) * 2 # two sided\n",
        "p"
      ]
    },
    {
      "cell_type": "code",
      "execution_count": null,
      "id": "1ff0f55d",
      "metadata": {
        "id": "1ff0f55d",
        "outputId": "a41d6da1-83ee-4cc7-af2f-f7587eab5a5d"
      },
      "outputs": [
        {
          "data": {
            "text/plain": [
              "False"
            ]
          },
          "execution_count": 11,
          "metadata": {},
          "output_type": "execute_result"
        }
      ],
      "source": [
        "# To test our alternative hypothesis\n",
        "alpha = .05\n",
        "p < alpha / 2 # two sided"
      ]
    },
    {
      "cell_type": "markdown",
      "id": "f87e361b",
      "metadata": {
        "id": "f87e361b"
      },
      "source": [
        "We fail to reject the null. There is no statistical significant difference in the mean differences between steps taken on high heels or flat shoes."
      ]
    },
    {
      "cell_type": "code",
      "execution_count": null,
      "id": "3016e949",
      "metadata": {
        "id": "3016e949",
        "outputId": "2763b58b-fb8f-4c01-f97a-71d7d5b81448"
      },
      "outputs": [
        {
          "data": {
            "text/plain": [
              "(-1.6506325746898667, 0.11615318918022235)"
            ]
          },
          "execution_count": 12,
          "metadata": {},
          "output_type": "execute_result"
        }
      ],
      "source": [
        "# A quicker way to perform a dependent t-test is to call the scipy\n",
        "# function ttest_rel on both samples to get our t-statistic and\n",
        "# p value\n",
        "t_statistic, p = stats.ttest_rel(data.high, data.flat)\n",
        "t_statistic, p"
      ]
    },
    {
      "cell_type": "markdown",
      "id": "f4c402c6",
      "metadata": {
        "id": "f4c402c6"
      },
      "source": [
        "## Confidence interval"
      ]
    },
    {
      "cell_type": "code",
      "execution_count": null,
      "id": "3ba3048a",
      "metadata": {
        "id": "3ba3048a",
        "outputId": "667150ad-d6d9-479e-addd-90d7290f971f"
      },
      "outputs": [
        {
          "data": {
            "text/plain": [
              "2.1009220402409601"
            ]
          },
          "execution_count": 13,
          "metadata": {},
          "output_type": "execute_result"
        }
      ],
      "source": [
        "# Calculate t-critical to use with our confidence interval\n",
        "t_critical = abs(stats.t.ppf(alpha / 2, dof)) # two sided\n",
        "t_critical"
      ]
    },
    {
      "cell_type": "code",
      "execution_count": null,
      "id": "9d58e33f",
      "metadata": {
        "id": "9d58e33f",
        "outputId": "91d02d10-0c43-45c5-ac36-d0b53af90339"
      },
      "outputs": [
        {
          "data": {
            "text/plain": [
              "(-16758.656379814995, 2011.498485078152)"
            ]
          },
          "execution_count": 14,
          "metadata": {},
          "output_type": "execute_result"
        }
      ],
      "source": [
        "# Calculate the confidence interval\n",
        "margin_of_error = se * t_critical\n",
        "CI_lo = point_estimate - margin_of_error\n",
        "CI_hi = point_estimate + margin_of_error\n",
        "CI_lo, CI_hi"
      ]
    },
    {
      "cell_type": "markdown",
      "id": "5358211f",
      "metadata": {
        "id": "5358211f"
      },
      "source": [
        "We are confident that the true mean difference lies somewhere between -16758 and 2011. This confidence interval crosses 0, so a true mean difference could be 0 (meaning no difference at all)."
      ]
    },
    {
      "cell_type": "code",
      "execution_count": null,
      "id": "32117a66",
      "metadata": {
        "id": "32117a66",
        "outputId": "629a1e9b-bfba-4571-e995-261aa683eed5",
        "colab": {
          "base_uri": "https://localhost:8080/",
          "height": 35
        }
      },
      "outputs": [
        {
          "output_type": "execute_result",
          "data": {
            "text/plain": [
              "'1.23.5'"
            ],
            "application/vnd.google.colaboratory.intrinsic+json": {
              "type": "string"
            }
          },
          "metadata": {},
          "execution_count": 3
        }
      ],
      "source": [
        "%matplotlib inline\n",
        "import numpy as np\n",
        "import pandas as pd\n",
        "import scipy\n",
        "import matplotlib.pyplot as plt\n",
        "import seaborn as sns\n",
        "from scipy import stats\n",
        "import statsmodels.api as sm\n",
        "import math\n",
        "from __future__ import division\n",
        "\n",
        "# turn of data table rendering\n",
        "pd.set_option('display.notebook_repr_html', False)\n",
        "\n",
        "sns.set_palette(['#00A99D', '#F5CA0C', '#B6129F', '#76620C', '#095C57'])\n",
        "np.version.full_version"
      ]
    },
    {
      "cell_type": "markdown",
      "id": "953679f5",
      "metadata": {
        "id": "953679f5"
      },
      "source": [
        "## Data\n",
        "We have collected samples of the wine prices of two fictitious online liquorstores, bestliqs.com and cheapliq.com."
      ]
    },
    {
      "cell_type": "code",
      "execution_count": null,
      "id": "c2ddda06",
      "metadata": {
        "id": "c2ddda06",
        "outputId": "b666dcd5-813f-4bcc-eb5b-54e178448bf4",
        "colab": {
          "base_uri": "https://localhost:8080/",
          "height": 89
        }
      },
      "outputs": [
        {
          "output_type": "execute_result",
          "data": {
            "text/plain": [
              "        bestliqs   cheapliq\n",
              "count  18.000000  14.000000\n",
              "mean    8.944444  11.142857\n",
              "std     2.645134   2.178819\n",
              "min     5.000000   8.000000\n",
              "25%     7.000000   9.250000\n",
              "50%     9.000000  11.000000\n",
              "75%    11.000000  12.750000\n",
              "max    13.000000  15.000000"
            ],
            "text/html": [
              "\n",
              "  <div id=\"df-f5661214-928f-4837-8c01-3d0ec78fda50\" class=\"colab-df-container\">\n",
              "    None\n",
              "    <div class=\"colab-df-buttons\">\n",
              "\n",
              "  <div class=\"colab-df-container\">\n",
              "    <button class=\"colab-df-convert\" onclick=\"convertToInteractive('df-f5661214-928f-4837-8c01-3d0ec78fda50')\"\n",
              "            title=\"Convert this dataframe to an interactive table.\"\n",
              "            style=\"display:none;\">\n",
              "\n",
              "  <svg xmlns=\"http://www.w3.org/2000/svg\" height=\"24px\" viewBox=\"0 -960 960 960\">\n",
              "    <path d=\"M120-120v-720h720v720H120Zm60-500h600v-160H180v160Zm220 220h160v-160H400v160Zm0 220h160v-160H400v160ZM180-400h160v-160H180v160Zm440 0h160v-160H620v160ZM180-180h160v-160H180v160Zm440 0h160v-160H620v160Z\"/>\n",
              "  </svg>\n",
              "    </button>\n",
              "\n",
              "  <style>\n",
              "    .colab-df-container {\n",
              "      display:flex;\n",
              "      gap: 12px;\n",
              "    }\n",
              "\n",
              "    .colab-df-convert {\n",
              "      background-color: #E8F0FE;\n",
              "      border: none;\n",
              "      border-radius: 50%;\n",
              "      cursor: pointer;\n",
              "      display: none;\n",
              "      fill: #1967D2;\n",
              "      height: 32px;\n",
              "      padding: 0 0 0 0;\n",
              "      width: 32px;\n",
              "    }\n",
              "\n",
              "    .colab-df-convert:hover {\n",
              "      background-color: #E2EBFA;\n",
              "      box-shadow: 0px 1px 2px rgba(60, 64, 67, 0.3), 0px 1px 3px 1px rgba(60, 64, 67, 0.15);\n",
              "      fill: #174EA6;\n",
              "    }\n",
              "\n",
              "    .colab-df-buttons div {\n",
              "      margin-bottom: 4px;\n",
              "    }\n",
              "\n",
              "    [theme=dark] .colab-df-convert {\n",
              "      background-color: #3B4455;\n",
              "      fill: #D2E3FC;\n",
              "    }\n",
              "\n",
              "    [theme=dark] .colab-df-convert:hover {\n",
              "      background-color: #434B5C;\n",
              "      box-shadow: 0px 1px 3px 1px rgba(0, 0, 0, 0.15);\n",
              "      filter: drop-shadow(0px 1px 2px rgba(0, 0, 0, 0.3));\n",
              "      fill: #FFFFFF;\n",
              "    }\n",
              "  </style>\n",
              "\n",
              "    <script>\n",
              "      const buttonEl =\n",
              "        document.querySelector('#df-f5661214-928f-4837-8c01-3d0ec78fda50 button.colab-df-convert');\n",
              "      buttonEl.style.display =\n",
              "        google.colab.kernel.accessAllowed ? 'block' : 'none';\n",
              "\n",
              "      async function convertToInteractive(key) {\n",
              "        const element = document.querySelector('#df-f5661214-928f-4837-8c01-3d0ec78fda50');\n",
              "        const dataTable =\n",
              "          await google.colab.kernel.invokeFunction('convertToInteractive',\n",
              "                                                    [key], {});\n",
              "        if (!dataTable) return;\n",
              "\n",
              "        const docLinkHtml = 'Like what you see? Visit the ' +\n",
              "          '<a target=\"_blank\" href=https://colab.research.google.com/notebooks/data_table.ipynb>data table notebook</a>'\n",
              "          + ' to learn more about interactive tables.';\n",
              "        element.innerHTML = '';\n",
              "        dataTable['output_type'] = 'display_data';\n",
              "        await google.colab.output.renderOutput(dataTable, element);\n",
              "        const docLink = document.createElement('div');\n",
              "        docLink.innerHTML = docLinkHtml;\n",
              "        element.appendChild(docLink);\n",
              "      }\n",
              "    </script>\n",
              "  </div>\n",
              "\n",
              "\n",
              "<div id=\"df-3621d728-89bd-4e37-a54a-d991f56087ba\">\n",
              "  <button class=\"colab-df-quickchart\" onclick=\"quickchart('df-3621d728-89bd-4e37-a54a-d991f56087ba')\"\n",
              "            title=\"Suggest charts.\"\n",
              "            style=\"display:none;\">\n",
              "\n",
              "<svg xmlns=\"http://www.w3.org/2000/svg\" height=\"24px\"viewBox=\"0 0 24 24\"\n",
              "     width=\"24px\">\n",
              "    <g>\n",
              "        <path d=\"M19 3H5c-1.1 0-2 .9-2 2v14c0 1.1.9 2 2 2h14c1.1 0 2-.9 2-2V5c0-1.1-.9-2-2-2zM9 17H7v-7h2v7zm4 0h-2V7h2v10zm4 0h-2v-4h2v4z\"/>\n",
              "    </g>\n",
              "</svg>\n",
              "  </button>\n",
              "\n",
              "<style>\n",
              "  .colab-df-quickchart {\n",
              "      --bg-color: #E8F0FE;\n",
              "      --fill-color: #1967D2;\n",
              "      --hover-bg-color: #E2EBFA;\n",
              "      --hover-fill-color: #174EA6;\n",
              "      --disabled-fill-color: #AAA;\n",
              "      --disabled-bg-color: #DDD;\n",
              "  }\n",
              "\n",
              "  [theme=dark] .colab-df-quickchart {\n",
              "      --bg-color: #3B4455;\n",
              "      --fill-color: #D2E3FC;\n",
              "      --hover-bg-color: #434B5C;\n",
              "      --hover-fill-color: #FFFFFF;\n",
              "      --disabled-bg-color: #3B4455;\n",
              "      --disabled-fill-color: #666;\n",
              "  }\n",
              "\n",
              "  .colab-df-quickchart {\n",
              "    background-color: var(--bg-color);\n",
              "    border: none;\n",
              "    border-radius: 50%;\n",
              "    cursor: pointer;\n",
              "    display: none;\n",
              "    fill: var(--fill-color);\n",
              "    height: 32px;\n",
              "    padding: 0;\n",
              "    width: 32px;\n",
              "  }\n",
              "\n",
              "  .colab-df-quickchart:hover {\n",
              "    background-color: var(--hover-bg-color);\n",
              "    box-shadow: 0 1px 2px rgba(60, 64, 67, 0.3), 0 1px 3px 1px rgba(60, 64, 67, 0.15);\n",
              "    fill: var(--button-hover-fill-color);\n",
              "  }\n",
              "\n",
              "  .colab-df-quickchart-complete:disabled,\n",
              "  .colab-df-quickchart-complete:disabled:hover {\n",
              "    background-color: var(--disabled-bg-color);\n",
              "    fill: var(--disabled-fill-color);\n",
              "    box-shadow: none;\n",
              "  }\n",
              "\n",
              "  .colab-df-spinner {\n",
              "    border: 2px solid var(--fill-color);\n",
              "    border-color: transparent;\n",
              "    border-bottom-color: var(--fill-color);\n",
              "    animation:\n",
              "      spin 1s steps(1) infinite;\n",
              "  }\n",
              "\n",
              "  @keyframes spin {\n",
              "    0% {\n",
              "      border-color: transparent;\n",
              "      border-bottom-color: var(--fill-color);\n",
              "      border-left-color: var(--fill-color);\n",
              "    }\n",
              "    20% {\n",
              "      border-color: transparent;\n",
              "      border-left-color: var(--fill-color);\n",
              "      border-top-color: var(--fill-color);\n",
              "    }\n",
              "    30% {\n",
              "      border-color: transparent;\n",
              "      border-left-color: var(--fill-color);\n",
              "      border-top-color: var(--fill-color);\n",
              "      border-right-color: var(--fill-color);\n",
              "    }\n",
              "    40% {\n",
              "      border-color: transparent;\n",
              "      border-right-color: var(--fill-color);\n",
              "      border-top-color: var(--fill-color);\n",
              "    }\n",
              "    60% {\n",
              "      border-color: transparent;\n",
              "      border-right-color: var(--fill-color);\n",
              "    }\n",
              "    80% {\n",
              "      border-color: transparent;\n",
              "      border-right-color: var(--fill-color);\n",
              "      border-bottom-color: var(--fill-color);\n",
              "    }\n",
              "    90% {\n",
              "      border-color: transparent;\n",
              "      border-bottom-color: var(--fill-color);\n",
              "    }\n",
              "  }\n",
              "</style>\n",
              "\n",
              "  <script>\n",
              "    async function quickchart(key) {\n",
              "      const quickchartButtonEl =\n",
              "        document.querySelector('#' + key + ' button');\n",
              "      quickchartButtonEl.disabled = true;  // To prevent multiple clicks.\n",
              "      quickchartButtonEl.classList.add('colab-df-spinner');\n",
              "      try {\n",
              "        const charts = await google.colab.kernel.invokeFunction(\n",
              "            'suggestCharts', [key], {});\n",
              "      } catch (error) {\n",
              "        console.error('Error during call to suggestCharts:', error);\n",
              "      }\n",
              "      quickchartButtonEl.classList.remove('colab-df-spinner');\n",
              "      quickchartButtonEl.classList.add('colab-df-quickchart-complete');\n",
              "    }\n",
              "    (() => {\n",
              "      let quickchartButtonEl =\n",
              "        document.querySelector('#df-3621d728-89bd-4e37-a54a-d991f56087ba button');\n",
              "      quickchartButtonEl.style.display =\n",
              "        google.colab.kernel.accessAllowed ? 'block' : 'none';\n",
              "    })();\n",
              "  </script>\n",
              "</div>\n",
              "    </div>\n",
              "  </div>\n"
            ]
          },
          "metadata": {},
          "execution_count": 4
        }
      ],
      "source": [
        "bestliqs_wine_prices = pd.Series(\n",
        "    [9, 5, 6, 11, 8, 5, 7, 13, 12, 13, 9, 8, 10, 6, 11, 9, 7, 12])\n",
        "cheapliq_wine_prices = pd.Series(\n",
        "    [11, 10, 12, 9, 8, 13, 14, 15, 12, 11, 13, 8, 9, 11])\n",
        "\n",
        "data = pd.DataFrame({'bestliqs': bestliqs_wine_prices,\n",
        "                     'cheapliq': cheapliq_wine_prices})\n",
        "data.describe()"
      ]
    },
    {
      "cell_type": "code",
      "execution_count": null,
      "id": "03fb52ab",
      "metadata": {
        "id": "03fb52ab",
        "outputId": "8367a797-1018-4a40-bd63-b2adf19b05a7",
        "colab": {
          "base_uri": "https://localhost:8080/",
          "height": 449
        }
      },
      "outputs": [
        {
          "output_type": "display_data",
          "data": {
            "text/plain": [
              "<Figure size 640x480 with 1 Axes>"
            ],
            "image/png": "[encoded data removed]"
          },
          "metadata": {}
        }
      ],
      "source": [
        "sns.violinplot(data.dropna())\n",
        "plt.xlabel('Online Liquor Store')\n",
        "plt.ylabel('Price')\n",
        "plt.show()"
      ]
    },
    {
      "cell_type": "markdown",
      "id": "3e4a60a7",
      "metadata": {
        "id": "3e4a60a7"
      },
      "source": [
        "## Question and hypothesis\n",
        "Well, it looks like cheapliq.com isn't as cheap as they say. However, is the difference statistically significant? We don't want to spend too much on the first batch of wine for our new cellar. Which online liquor store to choose if we want to decide on the lowest mean wine price?\n",
        "\n",
        "|Hypothesis|||$\\alpha = .05$|\n",
        "|---:|:---:|---|:---|\n",
        "|$H_0:$|$\\mu_{best} = \\mu_{cheap}$|There is no significant difference in mean wine prices|\n",
        "|$H_a:$|$\\mu_{best} \\neq \\mu_{cheap}$|There is a significant difference in mean wine prices|"
      ]
    },
    {
      "cell_type": "markdown",
      "id": "0bfd4f12",
      "metadata": {
        "id": "0bfd4f12"
      },
      "source": [
        "## Independent Samples t-test"
      ]
    },
    {
      "cell_type": "code",
      "execution_count": null,
      "id": "0b9d85ea",
      "metadata": {
        "id": "0b9d85ea",
        "outputId": "f58a2577-0604-462b-cfab-68b2ae516187",
        "colab": {
          "base_uri": "https://localhost:8080/"
        }
      },
      "outputs": [
        {
          "output_type": "execute_result",
          "data": {
            "text/plain": [
              "(8.944444444444445, 11.142857142857142)"
            ]
          },
          "metadata": {},
          "execution_count": 32
        }
      ],
      "source": [
        "# First find out what the mean prices are\n",
        "xbar_best = data.bestliqs.mean()\n",
        "xbar_cheap = data.cheapliq.mean()\n",
        "xbar_best, xbar_cheap"
      ]
    },
    {
      "cell_type": "code",
      "execution_count": null,
      "id": "d02b7f70",
      "metadata": {
        "id": "d02b7f70",
        "outputId": "633b65ad-767d-48e3-f49a-ff851c8e493f",
        "colab": {
          "base_uri": "https://localhost:8080/"
        }
      },
      "outputs": [
        {
          "output_type": "execute_result",
          "data": {
            "text/plain": [
              "(2.6451336499586917, 2.1788191176076888)"
            ]
          },
          "metadata": {},
          "execution_count": 33
        }
      ],
      "source": [
        "# Then we get the sample standard devation for each liquor store\n",
        "s_best = data.bestliqs.std(ddof=1)\n",
        "s_cheap = data.cheapliq.std(ddof=1)\n",
        "s_best, s_cheap"
      ]
    },
    {
      "cell_type": "markdown",
      "id": "bae0df2b",
      "metadata": {
        "id": "bae0df2b"
      },
      "source": [
        "## The Standard Error of the Mean\n",
        "To calculate the standard error of the mean combined for both independent wine price samples, we need to use the following formula:\n",
        "\n",
        "$$sem=\\sqrt{\\frac{s_{best}^2}{n_{best}}+\\frac{s_{cheap}^2}{n_{cheap}}}$$\n"
      ]
    },
    {
      "cell_type": "code",
      "execution_count": null,
      "id": "851c727b",
      "metadata": {
        "id": "851c727b",
        "outputId": "643ed3db-545b-4e64-d1c0-3930787efee3",
        "colab": {
          "base_uri": "https://localhost:8080/"
        }
      },
      "outputs": [
        {
          "output_type": "execute_result",
          "data": {
            "text/plain": [
              "0.8531100847677227"
            ]
          },
          "metadata": {},
          "execution_count": 38
        }
      ],
      "source": [
        "# Calculate the standard error of the mean combined\n",
        "n_best = data.bestliqs.count()\n",
        "n_cheap = data.cheapliq.count()\n",
        "sem = math.sqrt(s_best ** 2 / n_best +\n",
        "                s_cheap ** 2 / n_cheap)\n",
        "sem"
      ]
    },
    {
      "cell_type": "code",
      "execution_count": null,
      "id": "499a9d48",
      "metadata": {
        "id": "499a9d48",
        "outputId": "eb0c2a23-b84a-40e2-d742-9001336f6c18",
        "colab": {
          "base_uri": "https://localhost:8080/"
        }
      },
      "outputs": [
        {
          "output_type": "execute_result",
          "data": {
            "text/plain": [
              "-2.5769390582356815"
            ]
          },
          "metadata": {},
          "execution_count": 39
        }
      ],
      "source": [
        "# Now calculate the t-statistic\n",
        "t = (xbar_best - xbar_cheap) / sem\n",
        "t"
      ]
    },
    {
      "cell_type": "code",
      "execution_count": null,
      "id": "15e30c83",
      "metadata": {
        "id": "15e30c83",
        "outputId": "d35a6bc4-3440-442d-aa9c-9b62aa09dab7",
        "colab": {
          "base_uri": "https://localhost:8080/"
        }
      },
      "outputs": [
        {
          "output_type": "execute_result",
          "data": {
            "text/plain": [
              "-2.0426426900981536"
            ]
          },
          "metadata": {},
          "execution_count": 42
        }
      ],
      "source": [
        "# Get the criotical values for a two-tailed test at alpha .05\n",
        "alpha = .05\n",
        "dof = ((s_best**2/n_best) + (s_cheap**2/n_cheap))**2/(((s_best**2 / n_best)**2 /(n_best-1))+((s_cheap**2 / n_cheap)**2/(n_cheap-1)))\n",
        "t_critical = stats.t.ppf(alpha / 2, dof)  # two sided\n",
        "t_critical"
      ]
    },
    {
      "cell_type": "code",
      "source": [
        "print(dof)"
      ],
      "metadata": {
        "colab": {
          "base_uri": "https://localhost:8080/"
        },
        "id": "3IDUB6kJyhMW",
        "outputId": "901890ba-c6e8-4d67-de1a-aa784c9f8ec2"
      },
      "id": "3IDUB6kJyhMW",
      "execution_count": null,
      "outputs": [
        {
          "output_type": "stream",
          "name": "stdout",
          "text": [
            "29.87088618850302\n"
          ]
        }
      ]
    },
    {
      "cell_type": "markdown",
      "id": "3a3ed819",
      "metadata": {
        "id": "3a3ed819"
      },
      "source": [
        "## Hypothesis testing"
      ]
    },
    {
      "cell_type": "code",
      "execution_count": null,
      "id": "c65dfbcd",
      "metadata": {
        "id": "c65dfbcd",
        "outputId": "67ebbfb6-1dcc-44d1-eeaf-f3c69027abc9",
        "colab": {
          "base_uri": "https://localhost:8080/"
        }
      },
      "outputs": [
        {
          "output_type": "execute_result",
          "data": {
            "text/plain": [
              "True"
            ]
          },
          "metadata": {},
          "execution_count": 11
        }
      ],
      "source": [
        "# Test our alternative hypothesis\n",
        "t < t_critical or t > -t_critical"
      ]
    },
    {
      "cell_type": "code",
      "execution_count": null,
      "id": "ab4ff30b",
      "metadata": {
        "id": "ab4ff30b",
        "outputId": "c2820a88-5c7f-42ed-fe17-546261d6f873"
      },
      "outputs": [
        {
          "data": {
            "text/plain": [
              "0.01512946515275131"
            ]
          },
          "execution_count": 10,
          "metadata": {},
          "output_type": "execute_result"
        }
      ],
      "source": [
        "# Another way to test the alternative hypothesis by comparing\n",
        "# the probability of getting this mean with the alpha level.\n",
        "p = stats.t.sf(abs(t), dof) * 2  # two sided\n",
        "p"
      ]
    },
    {
      "cell_type": "code",
      "execution_count": null,
      "id": "60cd0493",
      "metadata": {
        "id": "60cd0493",
        "outputId": "320be43b-82ff-4d91-d174-024834d1596f"
      },
      "outputs": [
        {
          "data": {
            "text/plain": [
              "True"
            ]
          },
          "execution_count": 11,
          "metadata": {},
          "output_type": "execute_result"
        }
      ],
      "source": [
        "p < alpha"
      ]
    },
    {
      "cell_type": "markdown",
      "id": "7200cc78",
      "metadata": {
        "id": "7200cc78"
      },
      "source": [
        "Based on these result, we conclude that the difference in mean wine price is not due to random chance or variation in the samples. Therefor we will reject the null hypothesis. Bestliqs.com is, on average, the better choice for the better wine price. Note there is a 5% chance (1 - alpha) on commiting a type I error in which the null hypothesis is true, but was rejected."
      ]
    },
    {
      "cell_type": "markdown",
      "id": "4259e5e1",
      "metadata": {
        "id": "4259e5e1"
      },
      "source": [
        "## Using scipy.stats or statsmodels"
      ]
    },
    {
      "cell_type": "code",
      "execution_count": null,
      "id": "19dce7ab",
      "metadata": {
        "id": "19dce7ab",
        "outputId": "d4a82b5a-19d1-4d4f-a3f0-15f2938a7ce5",
        "colab": {
          "base_uri": "https://localhost:8080/"
        }
      },
      "outputs": [
        {
          "output_type": "execute_result",
          "data": {
            "text/plain": [
              "(-2.5769390582356815, 0.015153519382495291)"
            ]
          },
          "metadata": {},
          "execution_count": 26
        }
      ],
      "source": [
        "# A quicker way to get these results is to call scipy stats\n",
        "# ttest_ind on both samples for unequal variances\n",
        "# equal_var False makes it effectively Welch's t-test\n",
        "t_statistic, p = stats.ttest_ind(data.bestliqs, data.cheapliq.dropna(),\n",
        "                                 equal_var=False)\n",
        "t_statistic, p"
      ]
    },
    {
      "cell_type": "code",
      "execution_count": null,
      "id": "2cda6f88",
      "metadata": {
        "id": "2cda6f88",
        "outputId": "0f01a4e2-0b9a-44db-f545-0844f512c871",
        "colab": {
          "base_uri": "https://localhost:8080/"
        }
      },
      "outputs": [
        {
          "output_type": "execute_result",
          "data": {
            "text/plain": [
              "(-2.576939058235681, 0.015153519382495312, 29.87088618850303)"
            ]
          },
          "metadata": {},
          "execution_count": 27
        }
      ],
      "source": [
        "# Another alternative is using Statsmodels\n",
        "t_statistic, p, dof = sm.stats.ttest_ind(data.bestliqs, data.cheapliq.dropna(),\n",
        "                   alternative='two-sided', usevar='unequal')\n",
        "t_statistic, p, dof"
      ]
    },
    {
      "cell_type": "code",
      "execution_count": null,
      "id": "226f3c24",
      "metadata": {
        "id": "226f3c24",
        "outputId": "9166882d-40b2-475a-afcf-e8a2cddf9be1"
      },
      "outputs": [
        {
          "data": {
            "text/plain": [
              "'1.9.1'"
            ]
          },
          "execution_count": 1,
          "metadata": {},
          "output_type": "execute_result"
        }
      ],
      "source": [
        "%matplotlib inline\n",
        "import numpy as np\n",
        "import pandas as pd\n",
        "import scipy\n",
        "import matplotlib.pyplot as plt\n",
        "import seaborn as sns\n",
        "from scipy import stats\n",
        "import statsmodels.api as sm\n",
        "import math\n",
        "from __future__ import division\n",
        "\n",
        "# turn of data table rendering\n",
        "pd.set_option('display.notebook_repr_html', False)\n",
        "\n",
        "sns.set_palette(['#00A99D', '#F5CA0C', '#B6129F', '#76620C', '#095C57'])\n",
        "np.version.full_version"
      ]
    },
    {
      "cell_type": "markdown",
      "id": "a0350a90",
      "metadata": {
        "id": "a0350a90"
      },
      "source": [
        "## Data\n",
        "Here we create two samples of different sample size. We want to know if the sample means are significantly different."
      ]
    },
    {
      "cell_type": "code",
      "execution_count": null,
      "id": "8535ac88",
      "metadata": {
        "id": "8535ac88",
        "outputId": "0ff74046-9235-4dfa-f4d0-17bfa89d3f0e"
      },
      "outputs": [
        {
          "data": {
            "image/png": "[encoded data removed]",
            "text/plain": [
              "<matplotlib.figure.Figure at 0x3729dd8>"
            ]
          },
          "metadata": {},
          "output_type": "display_data"
        }
      ],
      "source": [
        "sample_a = np.array([4.9, 6.2, 1.0, -4.8, 2.2, 5.4])\n",
        "sample_b = np.array([2.8, 6.9, 8.4])\n",
        "\n",
        "sns.violinplot([sample_a, sample_b], names=['sample a', 'sample b'])\n",
        "plt.show()"
      ]
    },
    {
      "cell_type": "code",
      "execution_count": null,
      "id": "1b4ba2a1",
      "metadata": {
        "id": "1b4ba2a1",
        "outputId": "79241039-b77a-4326-fd70-f6b29d07c62b"
      },
      "outputs": [
        {
          "data": {
            "text/plain": [
              "(2.4833333333333338, 6.0333333333333341)"
            ]
          },
          "execution_count": 3,
          "metadata": {},
          "output_type": "execute_result"
        }
      ],
      "source": [
        "# Find the mean for both samples\n",
        "xbar_a = sample_a.mean()\n",
        "xbar_b = sample_b.mean()\n",
        "\n",
        "xbar_a, xbar_b"
      ]
    },
    {
      "cell_type": "markdown",
      "id": "cf162c43",
      "metadata": {
        "id": "cf162c43"
      },
      "source": [
        "## Hypothesis\n",
        "Is there a statistical significant difference between the two sample means at an alpha level of .05?\n",
        "\n",
        "|Hypothesis|||$\\alpha = .05$|\n",
        "|---:|:---:|---|:---|\n",
        "|$H_0:$|$\\mu_{a} = \\mu_{a}$|There is no significant difference between a and b|\n",
        "|$H_a:$|$\\mu_{b} \\neq \\mu_{b}$|There is a significant difference between a and b|"
      ]
    },
    {
      "cell_type": "markdown",
      "id": "76432be8",
      "metadata": {
        "id": "76432be8"
      },
      "source": [
        "## Sum of Squares\n",
        "First we need to find the sum of squares from both samples. We do this by summing all the differences from the mean in the sample, then square them. The following formula applies:\n",
        "\n",
        "$$SS=\\sum(x_i-\\bar{x})^2$$"
      ]
    },
    {
      "cell_type": "code",
      "execution_count": null,
      "id": "ab50a170",
      "metadata": {
        "id": "ab50a170",
        "outputId": "98b6dbe7-c5ec-4389-8515-90bcea761155"
      },
      "outputs": [
        {
          "data": {
            "text/plain": [
              "(83.48833333333333, 16.806666666666668)"
            ]
          },
          "execution_count": 4,
          "metadata": {},
          "output_type": "execute_result"
        }
      ],
      "source": [
        "# Find the sum of squares for both samples\n",
        "ss_a = np.sum((sample_a - xbar_a) ** 2)\n",
        "ss_b = np.sum((sample_b - xbar_b) ** 2)\n",
        "\n",
        "ss_a, ss_b"
      ]
    },
    {
      "cell_type": "markdown",
      "id": "68c12257",
      "metadata": {
        "id": "68c12257"
      },
      "source": [
        "## Pooled Variance\n",
        "Since the sample size between a and b is different, we can use the pooled variance to account for these difference in calculations. The following formula applies:\n",
        "\n",
        "$$S_p^2=\\frac{SS_a+SS_b}{df_a + df_b}$$"
      ]
    },
    {
      "cell_type": "code",
      "execution_count": null,
      "id": "e0637fc1",
      "metadata": {
        "id": "e0637fc1",
        "outputId": "a7a53bef-4eee-44bb-ede6-50c3a0fa7cd5"
      },
      "outputs": [
        {
          "data": {
            "text/plain": [
              "(5, 2)"
            ]
          },
          "execution_count": 5,
          "metadata": {},
          "output_type": "execute_result"
        }
      ],
      "source": [
        "# Calculate the Degrees of Freedom for both samples\n",
        "n_a = len(sample_a)\n",
        "n_b = len(sample_b)\n",
        "dof_a = n_a - 1\n",
        "dof_b = n_b - 1\n",
        "\n",
        "dof_a, dof_b"
      ]
    },
    {
      "cell_type": "code",
      "execution_count": null,
      "id": "7312587b",
      "metadata": {
        "id": "7312587b",
        "outputId": "a4be0076-45d7-411c-f8f4-8b955666bcf0"
      },
      "outputs": [
        {
          "data": {
            "text/plain": [
              "14.327857142857143"
            ]
          },
          "execution_count": 6,
          "metadata": {},
          "output_type": "execute_result"
        }
      ],
      "source": [
        "# Calculate the Pooled Variance\n",
        "Sp2 = (ss_a + ss_b) / (dof_a + dof_b)\n",
        "Sp2"
      ]
    },
    {
      "cell_type": "markdown",
      "id": "0293f4ba",
      "metadata": {
        "id": "0293f4ba"
      },
      "source": [
        "## Standard Error\n",
        "Now we can calculate the Standard Error by using the Pooled Variance instead of the individual variance. The following formula applies:\n",
        "\n",
        "$$sem=\\sqrt{\\frac{S_p^2}{n_a}+\\frac{S_p^2}{n_b}}$$"
      ]
    },
    {
      "cell_type": "code",
      "execution_count": null,
      "id": "ed7de628",
      "metadata": {
        "id": "ed7de628",
        "outputId": "12f6b7ba-db50-4ce8-f6d5-76ceefa1e562"
      },
      "outputs": [
        {
          "data": {
            "text/plain": [
              "2.6765516194216339"
            ]
          },
          "execution_count": 7,
          "metadata": {},
          "output_type": "execute_result"
        }
      ],
      "source": [
        "# Calculate the Standard Error of the Mean\n",
        "sem = np.sqrt(Sp2 / n_a + Sp2 / n_b)\n",
        "sem"
      ]
    },
    {
      "cell_type": "markdown",
      "id": "7f675f55",
      "metadata": {
        "id": "7f675f55"
      },
      "source": [
        "## The t-Statistic\n",
        "The t-statistic for the mean difference between these samples is calculated as follows:\n",
        "\n",
        "$$t=\\frac{(\\bar{x}_a-\\bar{x}_b)-(\\mu_a-\\mu_b)}{sem}$$"
      ]
    },
    {
      "cell_type": "code",
      "execution_count": null,
      "id": "3c98bcd7",
      "metadata": {
        "id": "3c98bcd7",
        "outputId": "ae2023e2-618f-4e33-ea7b-109ca3a9d42c"
      },
      "outputs": [
        {
          "data": {
            "text/plain": [
              "-1.3263334711127697"
            ]
          },
          "execution_count": 8,
          "metadata": {},
          "output_type": "execute_result"
        }
      ],
      "source": [
        "# Calculate the t-statistic\n",
        "observed_diff = xbar_a - xbar_b\n",
        "expected_diff = 0  # we expect no difference between population means\n",
        "\n",
        "t = (observed_diff - expected_diff) / sem\n",
        "t"
      ]
    },
    {
      "cell_type": "markdown",
      "id": "8876710f",
      "metadata": {
        "id": "8876710f"
      },
      "source": [
        "## The t-critical value\n",
        "To test our hypothesis, we need to get the t-critical value."
      ]
    },
    {
      "cell_type": "code",
      "execution_count": null,
      "id": "6ca90749",
      "metadata": {
        "id": "6ca90749",
        "outputId": "3f2369ee-37d4-45da-e976-fd68aa48473e"
      },
      "outputs": [
        {
          "data": {
            "text/plain": [
              "2.3646242510103002"
            ]
          },
          "execution_count": 9,
          "metadata": {},
          "output_type": "execute_result"
        }
      ],
      "source": [
        "alpha = .05\n",
        "t_critical = np.abs(stats.t.ppf(alpha / 2, dof_a + dof_b))  # two sided\n",
        "t_critical"
      ]
    },
    {
      "cell_type": "markdown",
      "id": "dfd23a60",
      "metadata": {
        "id": "dfd23a60"
      },
      "source": [
        "## Hypothesis testing"
      ]
    },
    {
      "cell_type": "code",
      "execution_count": null,
      "id": "463af84b",
      "metadata": {
        "id": "463af84b",
        "outputId": "c6279306-acc9-4933-f999-ca6d0c99f817"
      },
      "outputs": [
        {
          "data": {
            "text/plain": [
              "False"
            ]
          },
          "execution_count": 10,
          "metadata": {},
          "output_type": "execute_result"
        }
      ],
      "source": [
        "# We compare our t-statistic against the t-criticalk value to test the\n",
        "# acceptance of the alternative hypothesis\n",
        "-t_critical > t or t > t_critical"
      ]
    },
    {
      "cell_type": "markdown",
      "id": "efc22fb6",
      "metadata": {
        "id": "efc22fb6"
      },
      "source": [
        "Since the t-statistic lies between the t-critical values of alpha, we fail to reject the null hypothesis. The mean difference from both samples is probably due to chance and therefore not statistical significant."
      ]
    },
    {
      "cell_type": "markdown",
      "id": "c67927a5",
      "metadata": {
        "id": "c67927a5"
      },
      "source": [
        "## Using scipy.stats or statsmodels"
      ]
    },
    {
      "cell_type": "code",
      "execution_count": null,
      "id": "bb28631a",
      "metadata": {
        "id": "bb28631a",
        "outputId": "1ed078aa-73ec-42c1-d262-971e682b6959"
      },
      "outputs": [
        {
          "data": {
            "text/plain": [
              "(-1.3263334711127697, 0.22636455334070857)"
            ]
          },
          "execution_count": 11,
          "metadata": {},
          "output_type": "execute_result"
        }
      ],
      "source": [
        "# A quicker way to get these results is to call scipy stats\n",
        "# ttest_ind on both samples\n",
        "t_statistic, p = stats.ttest_ind(sample_a, sample_b)\n",
        "t_statistic, p"
      ]
    },
    {
      "cell_type": "code",
      "execution_count": null,
      "id": "5cfbb6b4",
      "metadata": {
        "id": "5cfbb6b4",
        "outputId": "b097dc1a-36e5-4f6b-b4e6-c3ef663957f7"
      },
      "outputs": [
        {
          "data": {
            "text/plain": [
              "(-1.3263334711127697, 0.22636455334070857, 7.0)"
            ]
          },
          "execution_count": 12,
          "metadata": {},
          "output_type": "execute_result"
        }
      ],
      "source": [
        "# Another alternative is using Statsmodels\n",
        "t_statistic, p, dof = sm.stats.ttest_ind(sample_a, sample_b,\n",
        "                   alternative='two-sided', usevar='pooled')\n",
        "t_statistic, p, dof"
      ]
    },
    {
      "cell_type": "code",
      "execution_count": null,
      "id": "ab6fde15",
      "metadata": {
        "id": "ab6fde15",
        "outputId": "e698e6b4-d4d4-4c7b-f0cd-d6ede916f440"
      },
      "outputs": [
        {
          "data": {
            "text/plain": [
              "('1.9.1', '0.14.0', '0.15.2', '0.6.1')"
            ]
          },
          "execution_count": 1,
          "metadata": {},
          "output_type": "execute_result"
        }
      ],
      "source": [
        "%matplotlib inline\n",
        "import numpy as np\n",
        "import pandas as pd\n",
        "import scipy\n",
        "import matplotlib.pyplot as plt\n",
        "import seaborn as sns\n",
        "from scipy import stats\n",
        "import statsmodels.api as sm\n",
        "import math\n",
        "from __future__ import division\n",
        "\n",
        "# turn of data table rendering\n",
        "pd.set_option('display.notebook_repr_html', False)\n",
        "\n",
        "sns.set_palette(['#00A99D', '#F5CA0C', '#B6129F', '#76620C', '#095C57'])\n",
        "np.version.full_version, scipy.version.full_version, \\\n",
        "pd.version.version, sm.version.full_version"
      ]
    },
    {
      "cell_type": "markdown",
      "id": "e1aa5df8",
      "metadata": {
        "id": "e1aa5df8"
      },
      "source": [
        "## Baseball data\n",
        "We use baseball stats data from the [Lahman’s Baseball Database](http://www.seanlahman.com/baseball-archive/statistics) as provided by the Udacity course [Intro to Data Science](https://www.udacity.com/course/ud359)."
      ]
    },
    {
      "cell_type": "code",
      "execution_count": null,
      "id": "f2ac1593",
      "metadata": {
        "id": "f2ac1593",
        "outputId": "7cca262a-eb59-47a9-ee2c-e3c3267e6e05"
      },
      "outputs": [
        {
          "data": {
            "text/plain": [
              "             name handedness  height  weight    avg   HR\n",
              "0       Tom Brown          R      73     170  0.000    0\n",
              "1  Denny Lemaster          R      73     182  0.130    4\n",
              "2       Joe Nolan          L      71     175  0.263   27\n",
              "3     Denny Doyle          L      69     175  0.250   16\n",
              "4   Jose Cardenal          R      70     150  0.275  138"
            ]
          },
          "execution_count": 2,
          "metadata": {},
          "output_type": "execute_result"
        }
      ],
      "source": [
        "# Load the stats data from a csv file\n",
        "df = pd.read_csv('data/baseball_stats.csv')\n",
        "df.head()"
      ]
    },
    {
      "cell_type": "markdown",
      "id": "b1e51b65",
      "metadata": {
        "id": "b1e51b65"
      },
      "source": [
        "## Question and hypothesis\n",
        "We want to know if there is a statistical significant difference in the career batting average between left-handed and right-handed players. We choose an alpha level of 5% as the significance level. We test against the hypothesis below:\n",
        "\n",
        "|Hypothesis|||$\\alpha = .05$|\n",
        "|---:|:---:|---|:---|\n",
        "|$H_0:$|$\\mu_{R} = \\mu_{L}$|There is no significant difference between left and right handedness|\n",
        "|$H_a:$|$\\mu_{R} \\neq \\mu_{L}$|There is a significant difference between left and right handedness|"
      ]
    },
    {
      "cell_type": "markdown",
      "id": "1ff90201",
      "metadata": {
        "id": "1ff90201"
      },
      "source": [
        "## Some data wrangling"
      ]
    },
    {
      "cell_type": "code",
      "execution_count": null,
      "id": "c01fbe73",
      "metadata": {
        "id": "c01fbe73",
        "outputId": "9bafbdb0-a9c5-4693-fcb7-d5d2a79fe5e2"
      },
      "outputs": [
        {
          "data": {
            "text/plain": [
              "(256, 546)"
            ]
          },
          "execution_count": 3,
          "metadata": {},
          "output_type": "execute_result"
        }
      ],
      "source": [
        "# Get the appropriate samples from the dataframe\n",
        "# Filter out the batting averages of 0.0 (pitchers assumed)\n",
        "left_handed_avg  = df[(df['handedness'] == 'L') & (df['avg'] != 0)]['avg']\n",
        "right_handed_avg = df[(df['handedness'] == 'R') & (df['avg'] != 0)]['avg']\n",
        "\n",
        "left_handed_avg.count(), right_handed_avg.count()"
      ]
    },
    {
      "cell_type": "code",
      "execution_count": null,
      "id": "3fa0760a",
      "metadata": {
        "id": "3fa0760a",
        "outputId": "491306d1-c87a-4c78-ba97-a13f1a236164"
      },
      "outputs": [
        {
          "data": {
            "image/png": "[encoded data removed]",
            "text/plain": [
              "<matplotlib.figure.Figure at 0x168010b8>"
            ]
          },
          "metadata": {},
          "output_type": "display_data"
        }
      ],
      "source": [
        "# Plot the distributions\n",
        "sns.distplot(left_handed_avg)\n",
        "sns.distplot(right_handed_avg)\n",
        "plt.show()"
      ]
    },
    {
      "cell_type": "markdown",
      "id": "f88bad6e",
      "metadata": {
        "id": "f88bad6e"
      },
      "source": [
        "## Welch's t-Test\n",
        "This t-test is a more generic hypothesis test for independent samples, based on Student's t-test. The difference with the Student's t-test is that we account for sample size and variance differences. If we set equal_var to False in the scipy stats ttest_ind, the function performs the Welch's t-test instead of the Student's t-test. The following formula applies:\n",
        "\n",
        "$$t=\\frac{(\\bar{x}_a-\\bar{x}_b)-(\\mu_a-\\mu_b)}{\\sqrt{\\frac{s_a^2}{n_a}+\\frac{s_b^2}{n_b}}}$$\n",
        "\n",
        "\n",
        "Note that the variance of $a$ and $b$ are used, not the pooled variance."
      ]
    },
    {
      "cell_type": "code",
      "execution_count": null,
      "id": "f16250d6",
      "metadata": {
        "id": "f16250d6",
        "outputId": "d95b4b41-8af5-44ec-be6c-94f7077a496b"
      },
      "outputs": [
        {
          "data": {
            "text/plain": [
              "(6.3229680493265361, 4.8741482089894302e-10)"
            ]
          },
          "execution_count": 5,
          "metadata": {},
          "output_type": "execute_result"
        }
      ],
      "source": [
        "# Perform Welch's t-test (equal_var=False)\n",
        "t, p = stats.ttest_ind(left_handed_avg, right_handed_avg, equal_var=False)\n",
        "t, p"
      ]
    },
    {
      "cell_type": "markdown",
      "id": "b2ec6816",
      "metadata": {
        "id": "b2ec6816"
      },
      "source": [
        "This function assumes we want to perform a two-sided t-test. For a one-sided t-test use $\\frac{1}{2}p$ since it is only true for one side of the distribution."
      ]
    },
    {
      "cell_type": "markdown",
      "id": "ca1f3ea0",
      "metadata": {
        "id": "ca1f3ea0"
      },
      "source": [
        "## Hypothesis testing"
      ]
    },
    {
      "cell_type": "code",
      "execution_count": null,
      "id": "5051c0b2",
      "metadata": {
        "id": "5051c0b2",
        "outputId": "0a25e7fd-b342-4adb-c185-e84296a36aaa"
      },
      "outputs": [
        {
          "data": {
            "text/plain": [
              "True"
            ]
          },
          "execution_count": 6,
          "metadata": {},
          "output_type": "execute_result"
        }
      ],
      "source": [
        "# Test if we can reject the null hypothesis\n",
        "alpha = .05\n",
        "p < alpha"
      ]
    },
    {
      "cell_type": "markdown",
      "id": "d991f221",
      "metadata": {
        "id": "d991f221"
      },
      "source": [
        "There seems to be a statistical significant difference between left and right handed players. We are 95% confident that the difference is not due to random chance."
      ]
    },
    {
      "cell_type": "code",
      "execution_count": null,
      "id": "200bd1a2",
      "metadata": {
        "id": "200bd1a2",
        "outputId": "76be1904-8caf-4683-9765-6ce69652c44c"
      },
      "outputs": [
        {
          "data": {
            "text/plain": [
              "('1.9.1', '0.14.0', '0.15.2', '0.6.1')"
            ]
          },
          "execution_count": 1,
          "metadata": {},
          "output_type": "execute_result"
        }
      ],
      "source": [
        "%matplotlib inline\n",
        "import numpy as np\n",
        "import pandas as pd\n",
        "import scipy\n",
        "import matplotlib.pyplot as plt\n",
        "import seaborn as sns\n",
        "from scipy import stats\n",
        "import statsmodels.api as sm\n",
        "import math\n",
        "from __future__ import division\n",
        "\n",
        "# turn of data table rendering\n",
        "pd.set_option('display.notebook_repr_html', False)\n",
        "\n",
        "sns.set_palette(['#00A99D', '#F5CA0C', '#B6129F', '#76620C', '#095C57'])\n",
        "np.version.full_version, scipy.version.full_version, \\\n",
        "pd.version.version, sm.version.full_version"
      ]
    },
    {
      "cell_type": "markdown",
      "id": "15ffcce4",
      "metadata": {
        "id": "15ffcce4"
      },
      "source": [
        "## Non-normal distribution"
      ]
    },
    {
      "cell_type": "code",
      "execution_count": null,
      "id": "963fd568",
      "metadata": {
        "id": "963fd568",
        "outputId": "ea29f6af-1ddf-4827-ce73-cb214f5d01e2"
      },
      "outputs": [
        {
          "data": {
            "text/plain": [
              "count    50.000000\n",
              "mean      2.340000\n",
              "std       1.709637\n",
              "min       0.000000\n",
              "25%       1.000000\n",
              "50%       2.000000\n",
              "75%       3.000000\n",
              "max       8.000000\n",
              "dtype: float64"
            ]
          },
          "execution_count": 2,
          "metadata": {},
          "output_type": "execute_result"
        }
      ],
      "source": [
        "# Create a set with an obvious non-normal distribution\n",
        "data = pd.Series([1,1,0,1,2,2,3,2,1,3,3,2,8,2,1,6,2,1,1,2,2,1,3,2,1,\n",
        "                  2,3,6,2,3,2,2,1,2,2,3,2,1,2,3,2,3,2,3,1,6,1,8,1,1])\n",
        "data.describe()"
      ]
    },
    {
      "cell_type": "code",
      "execution_count": null,
      "id": "caad0cbc",
      "metadata": {
        "id": "caad0cbc",
        "outputId": "41dd8197-423b-4ebf-8fc5-4bf22cff5e4c"
      },
      "outputs": [
        {
          "data": {
            "image/png": "[encoded data removed]",
            "text/plain": [
              "<matplotlib.figure.Figure at 0x5502d68>"
            ]
          },
          "metadata": {},
          "output_type": "display_data"
        }
      ],
      "source": [
        "# Plot the non-normal distribution\n",
        "sns.distplot(data)\n",
        "plt.show()"
      ]
    },
    {
      "cell_type": "code",
      "execution_count": null,
      "id": "da434710",
      "metadata": {
        "id": "da434710",
        "outputId": "181adf54-7908-469d-b39d-b235d4d98a3d"
      },
      "outputs": [
        {
          "data": {
            "text/plain": [
              "(0.7413722276687622, 4.960041621870914e-08)"
            ]
          },
          "execution_count": 4,
          "metadata": {},
          "output_type": "execute_result"
        }
      ],
      "source": [
        "# The null hypothesis states the data was drawn from a normal distribution.\n",
        "# It returns the w-statistic and the probability that this statistic\n",
        "# came from a normal distribution (p value)\n",
        "w, p = stats.shapiro(data)\n",
        "w, p"
      ]
    },
    {
      "cell_type": "code",
      "execution_count": null,
      "id": "1dca39a2",
      "metadata": {
        "id": "1dca39a2",
        "outputId": "c3aed004-a991-4887-880e-9890185b0b67"
      },
      "outputs": [
        {
          "data": {
            "text/plain": [
              "False"
            ]
          },
          "execution_count": 5,
          "metadata": {},
          "output_type": "execute_result"
        }
      ],
      "source": [
        "# Test the null hypothesis with 5% alpha\n",
        "alpha = .05\n",
        "p > alpha"
      ]
    },
    {
      "cell_type": "markdown",
      "id": "a1a80ad7",
      "metadata": {
        "id": "a1a80ad7"
      },
      "source": [
        "Since this p value is much larger than the significance level, we reject the null hypothesis that this sample comes from a normal distribution."
      ]
    },
    {
      "cell_type": "markdown",
      "id": "8c169793",
      "metadata": {
        "id": "8c169793"
      },
      "source": [
        "## Normal distribution"
      ]
    },
    {
      "cell_type": "code",
      "execution_count": null,
      "id": "6ee82580",
      "metadata": {
        "id": "6ee82580",
        "outputId": "8520cf0a-e553-4327-faed-f7e954ed339c"
      },
      "outputs": [
        {
          "data": {
            "text/plain": [
              "array([-0.06305276, -0.12291651, -0.04816977,  0.05572359,  0.13725905,\n",
              "        0.1447485 , -0.20264179, -0.06685487, -0.0781263 , -0.00718376,\n",
              "       -0.08506072, -0.03998016, -0.11571598,  0.12958116,  0.10986715,\n",
              "        0.0649146 , -0.13533652, -0.1174784 , -0.0714837 , -0.03965943,\n",
              "        0.01309047,  0.04284077,  0.02698651,  0.04941069, -0.01366992,\n",
              "       -0.16790697,  0.02145848, -0.09678135, -0.07191305,  0.07613435,\n",
              "        0.01198686, -0.14470548,  0.15809624, -0.09929681,  0.03842638,\n",
              "        0.06481776, -0.13934484,  0.07156626, -0.10190243, -0.09960222,\n",
              "        0.21799547, -0.02453129, -0.03748973, -0.17076149,  0.07634182,\n",
              "       -0.02514305,  0.10922111, -0.15272102, -0.13171909, -0.04938742])"
            ]
          },
          "execution_count": 6,
          "metadata": {},
          "output_type": "execute_result"
        }
      ],
      "source": [
        "# Let perform the same test on a random generated normal distribution\n",
        "mu, sigma, n = 0, .1, 50\n",
        "data = np.random.normal(mu, sigma, n)\n",
        "data"
      ]
    },
    {
      "cell_type": "code",
      "execution_count": null,
      "id": "0407f4e8",
      "metadata": {
        "id": "0407f4e8",
        "outputId": "c7884650-6cd1-4fd0-d4c6-f49a334fb85b"
      },
      "outputs": [
        {
          "data": {
            "image/png": "[encoded data removed]",
            "text/plain": [
              "<matplotlib.figure.Figure at 0x5502fd0>"
            ]
          },
          "metadata": {},
          "output_type": "display_data"
        }
      ],
      "source": [
        "# Plot the more 'normal' distribution\n",
        "sns.distplot(data)\n",
        "plt.show()"
      ]
    },
    {
      "cell_type": "code",
      "execution_count": null,
      "id": "09cb0740",
      "metadata": {
        "id": "09cb0740",
        "outputId": "dc9d42b3-5978-4f2b-a2cf-e09a0f41583c"
      },
      "outputs": [
        {
          "data": {
            "text/plain": [
              "(0.9749879240989685, 0.3645625710487366)"
            ]
          },
          "execution_count": 8,
          "metadata": {},
          "output_type": "execute_result"
        }
      ],
      "source": [
        "# The Shapiro-Wilk test tests the null hypothesis that the data\n",
        "# was drawn from a normal distribution.\n",
        "w, p = stats.shapiro(data)\n",
        "w, p"
      ]
    },
    {
      "cell_type": "code",
      "execution_count": null,
      "id": "06826d16",
      "metadata": {
        "id": "06826d16",
        "outputId": "161226a5-f8fc-43ca-fd0c-9fb0a452b267"
      },
      "outputs": [
        {
          "data": {
            "text/plain": [
              "True"
            ]
          },
          "execution_count": 9,
          "metadata": {},
          "output_type": "execute_result"
        }
      ],
      "source": [
        "# Test the null hypothesis with 5% alpha\n",
        "alpha = .05\n",
        "p > alpha"
      ]
    },
    {
      "cell_type": "markdown",
      "id": "9e3823f0",
      "metadata": {
        "id": "9e3823f0"
      },
      "source": [
        "Since this p value is much larger than the significance level, we retain the null hypothesis that this sample comes from a normal distribution."
      ]
    }
  ],
  "metadata": {
    "colab": {
      "provenance": []
    },
    "language_info": {
      "name": "python"
    },
    "kernelspec": {
      "name": "python3",
      "display_name": "Python 3"
    }
  },
  "nbformat": 4,
  "nbformat_minor": 5
}