{
  "cells": [
    {
      "cell_type": "markdown",
      "metadata": {
        "button": false,
        "deletable": true,
        "new_sheet": false,
        "run_control": {
          "read_only": false
        },
        "cell_id": "743590deec314481bfb8cbaaf3f0ccee",
        "deepnote_cell_type": "markdown",
        "id": "-bjpujeYA9Lp"
      },
      "source": [
        "<div style=\"text-align: right\">Peter Norvig, 12 Feb 2016<br>Revised 17 Feb 2018</div>\n",
        "\n",
        "# A Concrete Introduction to Probability (using Python)\n",
        "\n",
        "In 1814, Pierre-Simon Laplace [wrote](https://en.wikipedia.org/wiki/Classical_definition_of_probability):\n",
        "\n",
        ">*Probability theory is nothing but common sense reduced to calculation. ... [Probability] is thus simply a fraction whose numerator is the number of favorable cases and whose denominator is the number of all the cases possible ... when nothing leads us to expect that any one of these cases should occur more than any other.*\n",
        "\n",
        "![Laplace](https://upload.wikimedia.org/wikipedia/commons/thumb/3/30/AduC_197_Laplace_%28P.S.%2C_marquis_de%2C_1749-1827%29.JPG/180px-AduC_197_Laplace_%28P.S.%2C_marquis_de%2C_1749-1827%29.JPG)\n",
        "<center><a href=\"https://en.wikipedia.org/wiki/Pierre-Simon_Laplace\">Pierre-Simon Laplace</a><br>1814</center>\n",
        "\n",
        "\n",
        "Laplace nailed it. To untangle a probability problem, all you have to do is define exactly what the cases are, and careful count the favorable and total cases. Let's be clear on our vocabulary words:\n",
        "\n",
        "\n",
        "- **[Trial](https://en.wikipedia.org/wiki/Experiment_%28probability_theory%29):**\n",
        "  A single occurrence with an outcome that is uncertain until we observe it.\n",
        "  <br>*For example, rolling a single die.*\n",
        "- **[Outcome](https://en.wikipedia.org/wiki/Outcome_%28probability%29):**\n",
        "  A possible result of a trial; one particular state of the world. What Laplace calls a **case.**\n",
        "  <br>*For example:* `4`.\n",
        "- **[Sample Space](https://en.wikipedia.org/wiki/Sample_space):**\n",
        "  The set of all possible outcomes for the trial.\n",
        "  <br>*For example,* `{1, 2, 3, 4, 5, 6}`.\n",
        "- **[Event](https://en.wikipedia.org/wiki/Event_%28probability_theory%29):**\n",
        "  A subset of the sample space, a set of outcomes that together have some property we are interested in.\n",
        "  <br>*For example, the event \"even die roll\" is the set of outcomes* `{2, 4, 6}`.\n",
        "- **[Probability](https://en.wikipedia.org/wiki/Probability_theory):**\n",
        "  As Laplace said, the probability of an event with respect to a sample space is the \"number of favorable cases\" (outcomes from the sample space that are in the event) divided by the \"number of all the cases\" in the sample space (assuming \"nothing leads us to expect that any one of these cases should occur more than any other\"). Since this is a proper fraction, probability will always be a number between 0 (representing an impossible event) and 1 (representing a certain event).\n",
        "<br>*For example, the probability of an even die roll is 3/6 = 1/2.*\n",
        "\n",
        "This notebook will explore these concepts in a concrete way using Python code. The code is meant to be succint and explicit, and fast enough to handle sample spaces with millions of outcomes. If you need to handle trillions, you'll want a more efficient implementation. I also have  [another notebook](http://nbviewer.jupyter.org/url/norvig.com/ipython/ProbabilityParadox.ipynb) that covers  paradoxes in Probability Theory."
      ]
    },
    {
      "cell_type": "markdown",
      "metadata": {
        "button": false,
        "deletable": true,
        "new_sheet": false,
        "run_control": {
          "read_only": false
        },
        "cell_id": "db68baba8c114882b1f1fc129c4986f9",
        "deepnote_cell_type": "markdown",
        "id": "4d9WaRZfA9Lr"
      },
      "source": [
        "# `P` is for Probability\n",
        "\n",
        "The code below implements Laplace's quote directly: *Probability is thus simply a fraction whose numerator is the number of favorable cases and whose denominator is the number of all the cases possible.*"
      ]
    },
    {
      "cell_type": "code",
      "metadata": {
        "button": false,
        "deletable": true,
        "new_sheet": false,
        "run_control": {
          "read_only": false
        },
        "cell_id": "93e3e4833a4142b7be1db9e7864584fc",
        "deepnote_cell_type": "code",
        "id": "VGxpVQ5sA9Lr"
      },
      "source": [
        "from fractions import Fraction\n",
        "\n",
        "def P(event, space):\n",
        "    \"The probability of an event, given a sample space.\"\n",
        "    return Fraction(cases(favorable(event, space)),\n",
        "                    cases(space))\n",
        "\n",
        "favorable = set.intersection # Outcomes that are in the event and in the sample space\n",
        "cases     = len              # The number of cases is the length, or size, of a set"
      ],
      "execution_count": null,
      "outputs": []
    },
    {
      "cell_type": "markdown",
      "metadata": {
        "button": false,
        "deletable": true,
        "new_sheet": false,
        "run_control": {
          "read_only": false
        },
        "cell_id": "f663c94f641f4bc18e7c431836abb159",
        "deepnote_cell_type": "markdown",
        "id": "3kY5XBYgA9Ls"
      },
      "source": [
        "\n",
        "# Warm-up Problem: Die Roll"
      ]
    },
    {
      "cell_type": "markdown",
      "metadata": {
        "button": false,
        "deletable": true,
        "new_sheet": false,
        "run_control": {
          "read_only": false
        },
        "cell_id": "36417d5bd6384959bc84194a59e9bca7",
        "deepnote_cell_type": "markdown",
        "id": "kxvRgzFdA9Ls"
      },
      "source": [
        "What's the probability of rolling an even number with a single six-sided fair die? Mathematicians traditionally use a single capital letter to denote a sample space; I'll use `D` for the die:"
      ]
    },
    {
      "cell_type": "code",
      "metadata": {
        "button": false,
        "deletable": true,
        "new_sheet": false,
        "run_control": {
          "read_only": false
        },
        "cell_id": "7e3d3c590e7a440f9112e8ba40e7e4cd",
        "deepnote_cell_type": "code",
        "colab": {
          "base_uri": "https://localhost:8080/"
        },
        "id": "ks_NbNfNA9Lt",
        "outputId": "8afe54b7-9f2b-4b0a-bb3c-2cb1afc8be2a"
      },
      "source": [
        "D     = {1, 2, 3, 4, 5, 6} # a sample space\n",
        "even  = {   2,    4,    6} # an event\n",
        "\n",
        "P(even, D)"
      ],
      "execution_count": null,
      "outputs": [
        {
          "output_type": "execute_result",
          "data": {
            "text/plain": [
              "Fraction(1, 2)"
            ]
          },
          "metadata": {},
          "execution_count": 2
        }
      ]
    },
    {
      "cell_type": "markdown",
      "metadata": {
        "cell_id": "cf86704b955f422b8a62f231c753bcc2",
        "deepnote_cell_type": "markdown",
        "id": "WEb923QdA9Lt"
      },
      "source": [
        "Good to confirm what we already knew. We can explore some other events:"
      ]
    },
    {
      "cell_type": "code",
      "metadata": {
        "collapsed": true,
        "cell_id": "e4ba4a1055254859a04f50568fcf447a",
        "deepnote_cell_type": "code",
        "id": "fAs-svvyA9Lt"
      },
      "source": [
        "prime = {2, 3, 5, 7, 11, 13}\n",
        "odd   = {1, 3, 5, 7, 9, 11, 13}"
      ],
      "execution_count": null,
      "outputs": []
    },
    {
      "cell_type": "code",
      "metadata": {
        "cell_id": "8614f05cf6c443d888961da54bc0e346",
        "deepnote_cell_type": "code",
        "colab": {
          "base_uri": "https://localhost:8080/"
        },
        "id": "ZoNja5ucA9Lu",
        "outputId": "9afd3ffd-6eb8-4660-a2fd-21ecd787bf22"
      },
      "source": [
        "P(odd, D)"
      ],
      "execution_count": null,
      "outputs": [
        {
          "output_type": "execute_result",
          "data": {
            "text/plain": [
              "Fraction(1, 2)"
            ]
          },
          "metadata": {},
          "execution_count": 4
        }
      ]
    },
    {
      "cell_type": "code",
      "metadata": {
        "cell_id": "d24392628eb84be4a7038cadf15df4d5",
        "deepnote_cell_type": "code",
        "colab": {
          "base_uri": "https://localhost:8080/"
        },
        "id": "myjllhKmA9Lu",
        "outputId": "7343fae1-35af-4e5b-85df-96da07c1b795"
      },
      "source": [
        "P((even | prime), D) # The probability of an even or prime die roll"
      ],
      "execution_count": null,
      "outputs": [
        {
          "output_type": "execute_result",
          "data": {
            "text/plain": [
              "Fraction(5, 6)"
            ]
          },
          "metadata": {},
          "execution_count": 5
        }
      ]
    },
    {
      "cell_type": "code",
      "metadata": {
        "cell_id": "e4c4a0051dfa4a4296773357f1768d80",
        "deepnote_cell_type": "code",
        "colab": {
          "base_uri": "https://localhost:8080/"
        },
        "id": "BvTdZvlMA9Lv",
        "outputId": "ffff932c-a61e-421a-f785-261452d8b274"
      },
      "source": [
        "P((odd & prime), D) # The probability of an odd prime die roll"
      ],
      "execution_count": null,
      "outputs": [
        {
          "output_type": "execute_result",
          "data": {
            "text/plain": [
              "Fraction(1, 3)"
            ]
          },
          "metadata": {},
          "execution_count": 6
        }
      ]
    },
    {
      "cell_type": "markdown",
      "metadata": {
        "button": false,
        "new_sheet": false,
        "run_control": {
          "read_only": false
        },
        "cell_id": "abecb25e4a6948998feecd642d2894f6",
        "deepnote_cell_type": "markdown",
        "id": "kLOybScEA9Lv"
      },
      "source": [
        "# Card Problems\n",
        "\n",
        "Consider dealing a hand of five playing cards. An individual card has a rank and  suit, like `'J♥'` for the Jack of Hearts, and a `deck` has 52 cards:"
      ]
    },
    {
      "cell_type": "code",
      "metadata": {
        "button": false,
        "new_sheet": false,
        "run_control": {
          "read_only": false
        },
        "cell_id": "b512b491f457416c9d432fe4c3a1cce4",
        "deepnote_cell_type": "code",
        "colab": {
          "base_uri": "https://localhost:8080/"
        },
        "id": "FZLCc2m5A9Lv",
        "outputId": "b623dfb9-3c95-482f-9857-21868e82271c"
      },
      "source": [
        "suits = u'♥♠♦♣'\n",
        "ranks = u'AKQJT98765432'\n",
        "deck  = [r + s for r in ranks for s in suits]\n",
        "len(deck)"
      ],
      "execution_count": null,
      "outputs": [
        {
          "output_type": "execute_result",
          "data": {
            "text/plain": [
              "52"
            ]
          },
          "metadata": {},
          "execution_count": 7
        }
      ]
    },
    {
      "cell_type": "markdown",
      "metadata": {
        "cell_id": "5eb917633ace470ca2720db602ffee58",
        "deepnote_cell_type": "markdown",
        "id": "L-n5LMxEA9Lw"
      },
      "source": [
        "Now I want to define `Hands` as the sample space of all 5-card combinations from `deck`. The function `itertools.combinations` does most of the work; we than concatenate each combination into a space-separated string:\n"
      ]
    },
    {
      "cell_type": "code",
      "metadata": {
        "button": false,
        "new_sheet": false,
        "run_control": {
          "read_only": false
        },
        "cell_id": "10874beecc9d4ecb9e04d6295a96b23b",
        "deepnote_cell_type": "code",
        "colab": {
          "base_uri": "https://localhost:8080/"
        },
        "id": "Z0KkCfBDA9Lx",
        "outputId": "99086f48-4b9e-4f9a-ba9b-eaf7ca34775d"
      },
      "source": [
        "import itertools\n",
        "\n",
        "def combos(items, n):\n",
        "    \"All combinations of n items; each combo as a space-separated str.\"\n",
        "    return set(map(' '.join, itertools.combinations(items, n)))\n",
        "\n",
        "Hands = combos(deck, 5)\n",
        "len(Hands)"
      ],
      "execution_count": null,
      "outputs": [
        {
          "output_type": "execute_result",
          "data": {
            "text/plain": [
              "2598960"
            ]
          },
          "metadata": {},
          "execution_count": 8
        }
      ]
    },
    {
      "cell_type": "markdown",
      "metadata": {
        "cell_id": "1bcb11c9591a4e019a0be9f5794cb157",
        "deepnote_cell_type": "markdown",
        "id": "kgqmmACAA9Lx"
      },
      "source": [
        "There are too many hands to look at them all, but we can sample:"
      ]
    },
    {
      "cell_type": "code",
      "metadata": {
        "cell_id": "f87a05e5da6f4029a988d326c528ad22",
        "deepnote_cell_type": "code",
        "colab": {
          "base_uri": "https://localhost:8080/"
        },
        "id": "JixvpYp9A9Lx",
        "outputId": "dba9e6e8-4841-419a-d785-6ee24b09d276"
      },
      "source": [
        "import random\n",
        "random.sample(Hands, 7)"
      ],
      "execution_count": null,
      "outputs": [
        {
          "output_type": "stream",
          "name": "stderr",
          "text": [
            "<ipython-input-9-646197d50a67>:2: DeprecationWarning: Sampling from a set deprecated\n",
            "since Python 3.9 and will be removed in a subsequent version.\n",
            "  random.sample(Hands, 7)\n"
          ]
        },
        {
          "output_type": "execute_result",
          "data": {
            "text/plain": [
              "['K♥ J♥ T♥ 8♣ 5♦',\n",
              " 'Q♥ 8♠ 8♣ 4♠ 2♦',\n",
              " 'A♣ K♥ Q♣ 8♣ 5♠',\n",
              " '9♠ 8♥ 7♦ 7♣ 5♠',\n",
              " 'A♣ Q♠ J♣ 8♠ 3♥',\n",
              " 'K♥ 8♥ 7♠ 4♣ 2♥',\n",
              " 'Q♣ J♠ 9♥ 8♣ 3♣']"
            ]
          },
          "metadata": {},
          "execution_count": 9
        }
      ]
    },
    {
      "cell_type": "code",
      "metadata": {
        "cell_id": "91e584b604e643d4b54d474ab70f00b0",
        "deepnote_cell_type": "code",
        "colab": {
          "base_uri": "https://localhost:8080/"
        },
        "id": "yE4I4dTYA9Lx",
        "outputId": "5248bdd8-5058-4ffd-ea6a-f91f89d7fe42"
      },
      "source": [
        "random.sample(deck, 7)"
      ],
      "execution_count": null,
      "outputs": [
        {
          "output_type": "execute_result",
          "data": {
            "text/plain": [
              "['9♣', '6♠', 'J♦', '7♣', '5♦', 'K♠', '7♠']"
            ]
          },
          "metadata": {},
          "execution_count": 10
        }
      ]
    },
    {
      "cell_type": "markdown",
      "metadata": {
        "button": false,
        "new_sheet": false,
        "run_control": {
          "read_only": false
        },
        "cell_id": "0ecead4a6c494a8a81473890dae83c38",
        "deepnote_cell_type": "markdown",
        "id": "gZGybrD3A9Lx"
      },
      "source": [
        "Now we can answer questions like the probability of being dealt a flush (5 cards of the same suit):"
      ]
    },
    {
      "cell_type": "code",
      "metadata": {
        "button": false,
        "new_sheet": false,
        "run_control": {
          "read_only": false
        },
        "cell_id": "f75964f1b4204b78888b6723911534a4",
        "deepnote_cell_type": "code",
        "colab": {
          "base_uri": "https://localhost:8080/"
        },
        "id": "_TKpF9UqA9Lx",
        "outputId": "056e5219-0dc7-4959-8b24-9686d59eb3ec"
      },
      "source": [
        "flush = {hand for hand in Hands if any(hand.count(suit) == 5 for suit in suits)}\n",
        "\n",
        "P(flush, Hands)"
      ],
      "execution_count": null,
      "outputs": [
        {
          "output_type": "execute_result",
          "data": {
            "text/plain": [
              "Fraction(33, 16660)"
            ]
          },
          "metadata": {},
          "execution_count": 11
        }
      ]
    },
    {
      "cell_type": "markdown",
      "metadata": {
        "button": false,
        "new_sheet": false,
        "run_control": {
          "read_only": false
        },
        "cell_id": "45091c34271d419280f7ffb6dc5d59e0",
        "deepnote_cell_type": "markdown",
        "id": "h8fGbdKpA9Ly"
      },
      "source": [
        "Or the probability of four of a kind:"
      ]
    },
    {
      "cell_type": "code",
      "metadata": {
        "button": false,
        "new_sheet": false,
        "run_control": {
          "read_only": false
        },
        "cell_id": "65f8925f629a47c697350e1a2cff2613",
        "deepnote_cell_type": "code",
        "colab": {
          "base_uri": "https://localhost:8080/"
        },
        "id": "t-UQzVbMA9Ly",
        "outputId": "97edad1f-6c31-434f-90bd-c1d46e123c0b"
      },
      "source": [
        "four_kind = {hand for hand in Hands if any(hand.count(rank) == 4 for rank in ranks)}\n",
        "\n",
        "P(four_kind, Hands)"
      ],
      "execution_count": null,
      "outputs": [
        {
          "output_type": "execute_result",
          "data": {
            "text/plain": [
              "Fraction(1, 4165)"
            ]
          },
          "metadata": {},
          "execution_count": 12
        }
      ]
    },
    {
      "cell_type": "markdown",
      "metadata": {
        "button": false,
        "deletable": true,
        "new_sheet": false,
        "run_control": {
          "read_only": false
        },
        "cell_id": "f141ed687bcd462c8aa128563b37458e",
        "deepnote_cell_type": "markdown",
        "id": "UG_gaJxjA9Ly"
      },
      "source": [
        "\n",
        "\n",
        "# Urn Problems\n",
        "\n",
        "Around 1700, Jacob Bernoulli wrote about removing colored balls from an urn in his landmark treatise *[Ars Conjectandi](https://en.wikipedia.org/wiki/Ars_Conjectandi)*, and ever since then, explanations of probability have relied on [urn problems](https://www.google.com/search?q=probability+ball+urn). (You'd think the urns would be empty by now.)\n",
        "\n",
        "![Jacob Bernoulli](http://www2.stetson.edu/~efriedma/periodictable/jpg/Bernoulli-Jacob.jpg)\n",
        "<center><a href=\"https://en.wikipedia.org/wiki/Jacob_Bernoulli\">Jacob Bernoulli</a><br>1700</center>\n",
        "\n",
        "For example, here is a three-part problem [adapted](http://mathforum.org/library/drmath/view/69151.html)  from mathforum.org:\n",
        "\n",
        "> *An urn contains 6 blue, 9 red, and 8 white balls.  We select six balls at random. What is the probability of each of these  outcomes:*\n",
        "\n",
        "> - *All balls are red*.\n",
        "- *3 are blue, and 1 is red, and 2 are white, *.\n",
        "- *Exactly 4 balls are white*.\n",
        "\n",
        "We'll start by defining the contents of the urn. A `set` can't contain multiple objects that are equal to each other, so I'll call the blue balls `'B1'` through `'B6'`, rather than trying to have 6 balls all called `'B'`:"
      ]
    },
    {
      "cell_type": "code",
      "metadata": {
        "button": false,
        "deletable": true,
        "new_sheet": false,
        "run_control": {
          "read_only": false
        },
        "cell_id": "abcb13a608d047c1889393f762632f4f",
        "deepnote_cell_type": "code",
        "colab": {
          "base_uri": "https://localhost:8080/"
        },
        "id": "Fy-kUYTBA9Ly",
        "outputId": "da274d58-e1b8-4604-d86f-2883aeb5dd03"
      },
      "source": [
        "def balls(color, n):\n",
        "    \"A set of n numbered balls of the given color.\"\n",
        "    return {color + str(i)\n",
        "            for i in range(1, n + 1)}\n",
        "\n",
        "urn = balls('B', 6) | balls('R', 9) | balls('W', 8)\n",
        "urn"
      ],
      "execution_count": null,
      "outputs": [
        {
          "output_type": "execute_result",
          "data": {
            "text/plain": [
              "{'B1',\n",
              " 'B2',\n",
              " 'B3',\n",
              " 'B4',\n",
              " 'B5',\n",
              " 'B6',\n",
              " 'R1',\n",
              " 'R2',\n",
              " 'R3',\n",
              " 'R4',\n",
              " 'R5',\n",
              " 'R6',\n",
              " 'R7',\n",
              " 'R8',\n",
              " 'R9',\n",
              " 'W1',\n",
              " 'W2',\n",
              " 'W3',\n",
              " 'W4',\n",
              " 'W5',\n",
              " 'W6',\n",
              " 'W7',\n",
              " 'W8'}"
            ]
          },
          "metadata": {},
          "execution_count": 13
        }
      ]
    },
    {
      "cell_type": "markdown",
      "metadata": {
        "button": false,
        "deletable": true,
        "new_sheet": false,
        "run_control": {
          "read_only": false
        },
        "cell_id": "3e7415dcb1354beb832e3fef7ee717e5",
        "deepnote_cell_type": "markdown",
        "id": "n9gOuwTpA9Lz"
      },
      "source": [
        "Now we can define the sample space, `U6`, as the set of all 6-ball combinations:  "
      ]
    },
    {
      "cell_type": "code",
      "metadata": {
        "button": false,
        "deletable": true,
        "new_sheet": false,
        "run_control": {
          "read_only": false
        },
        "cell_id": "34b94947b26042959b5b82730ebbd78d",
        "deepnote_cell_type": "code",
        "colab": {
          "base_uri": "https://localhost:8080/"
        },
        "id": "nI_JDtjkA9Lz",
        "outputId": "b8671e56-7d62-47ff-96bd-fe9578d3ffc1"
      },
      "source": [
        "U6 = combos(urn, 6)\n",
        "\n",
        "random.sample(U6, 5)"
      ],
      "execution_count": null,
      "outputs": [
        {
          "output_type": "stream",
          "name": "stderr",
          "text": [
            "<ipython-input-14-e10fc16882c3>:3: DeprecationWarning: Sampling from a set deprecated\n",
            "since Python 3.9 and will be removed in a subsequent version.\n",
            "  random.sample(U6, 5)\n"
          ]
        },
        {
          "output_type": "execute_result",
          "data": {
            "text/plain": [
              "['W6 B1 B6 R1 B3 W1',\n",
              " 'R6 R4 W4 W8 R3 R2',\n",
              " 'R4 B1 B5 B3 W3 W7',\n",
              " 'W6 B1 B4 W2 W7 W1',\n",
              " 'R7 W4 B3 R2 R8 W1']"
            ]
          },
          "metadata": {},
          "execution_count": 14
        }
      ]
    },
    {
      "cell_type": "markdown",
      "metadata": {
        "cell_id": "dae193d9e9e04fcd94e8292ae57c2391",
        "deepnote_cell_type": "markdown",
        "id": "pcwSFnFIA9Lz"
      },
      "source": [
        "Define  `select` such that `select('R', 6)` is the event of picking 6 red balls from the urn:"
      ]
    },
    {
      "cell_type": "code",
      "metadata": {
        "collapsed": true,
        "cell_id": "dfea22eeecfc4c2fae801cdcfd790aff",
        "deepnote_cell_type": "code",
        "id": "RE4qtvtxA9Lz"
      },
      "source": [
        "def select(color, n, space=U6):\n",
        "    \"The subset of the sample space with exactly `n` balls of given `color`.\"\n",
        "    return {s for s in space if s.count(color) == n}"
      ],
      "execution_count": null,
      "outputs": []
    },
    {
      "cell_type": "markdown",
      "metadata": {
        "cell_id": "7b411ba98c9143f7ba9b21dc23223598",
        "deepnote_cell_type": "markdown",
        "id": "p4xou3Z9A9Lz"
      },
      "source": [
        "Now I can answer the three questions:"
      ]
    },
    {
      "cell_type": "code",
      "metadata": {
        "cell_id": "dae085fb84814ff8b48d5e807ac10b41",
        "deepnote_cell_type": "code",
        "colab": {
          "base_uri": "https://localhost:8080/"
        },
        "id": "N3J7lnVtA9Lz",
        "outputId": "02288483-dfe0-4acf-dd2c-63bc8921c722"
      },
      "source": [
        "P(select('R', 6), U6)"
      ],
      "execution_count": null,
      "outputs": [
        {
          "output_type": "execute_result",
          "data": {
            "text/plain": [
              "Fraction(4, 4807)"
            ]
          },
          "metadata": {},
          "execution_count": 16
        }
      ]
    },
    {
      "cell_type": "code",
      "metadata": {
        "cell_id": "af98572cf0174b7eabd17109d66aecd3",
        "deepnote_cell_type": "code",
        "colab": {
          "base_uri": "https://localhost:8080/"
        },
        "id": "KynL3qxJA9Lz",
        "outputId": "db8d06a7-f583-47d7-cec0-3dca3600d89e"
      },
      "source": [
        "P(select('B', 3)  & select('R', 1) & select('W', 2), U6)"
      ],
      "execution_count": null,
      "outputs": [
        {
          "output_type": "execute_result",
          "data": {
            "text/plain": [
              "Fraction(240, 4807)"
            ]
          },
          "metadata": {},
          "execution_count": 17
        }
      ]
    },
    {
      "cell_type": "code",
      "metadata": {
        "cell_id": "5dcfbbb8e3ae49f895500bad66af3b92",
        "deepnote_cell_type": "code",
        "colab": {
          "base_uri": "https://localhost:8080/"
        },
        "id": "qDAxvsqZA9Lz",
        "outputId": "28a03134-e661-43f2-e69c-95e7412325cb"
      },
      "source": [
        "P(select('W', 4), U6)"
      ],
      "execution_count": null,
      "outputs": [
        {
          "output_type": "execute_result",
          "data": {
            "text/plain": [
              "Fraction(350, 4807)"
            ]
          },
          "metadata": {},
          "execution_count": 18
        }
      ]
    },
    {
      "cell_type": "markdown",
      "metadata": {
        "button": false,
        "deletable": true,
        "new_sheet": false,
        "run_control": {
          "read_only": false
        },
        "cell_id": "37aac42c20504682bc8fc9584f1af573",
        "deepnote_cell_type": "markdown",
        "id": "bscu0dV5A9L0"
      },
      "source": [
        "## Urn problems via arithmetic\n",
        "\n",
        "Let's verify these calculations using basic arithmetic, rather than exhaustive counting. First, how many ways can I choose 6 out of 9 red balls? It could be any of the 9 for the first ball, any of 8 remaining for the second, and  so on down to any of the remaining 4 for the sixth and final ball. But we don't care about the *order* of the six balls, so divide that product by the number of permutations of 6 things, which is 6!, giving us\n",
        "9 &times; 8 &times; 7 &times; 6 &times; 5 &times; 4 / 6! = 84. In general, the number of ways of choosing *c* out of *n* items is (*n* choose *c*) = *n*! / ((*n* - *c*)! &times; c!).\n",
        "We can translate that to code:"
      ]
    },
    {
      "cell_type": "code",
      "metadata": {
        "button": false,
        "collapsed": true,
        "deletable": true,
        "new_sheet": false,
        "run_control": {
          "read_only": false
        },
        "cell_id": "19c4a07311ab42ea95d4b44e7648f33e",
        "deepnote_cell_type": "code",
        "id": "8y2wCDurA9L0"
      },
      "source": [
        "from math import factorial\n",
        "\n",
        "def choose(n, c):\n",
        "    \"Number of ways to choose c items from a list of n items.\"\n",
        "    return factorial(n) // (factorial(n - c) * factorial(c))"
      ],
      "execution_count": null,
      "outputs": []
    },
    {
      "cell_type": "code",
      "metadata": {
        "cell_id": "a720487f3c224b108abf7d90855f913d",
        "deepnote_cell_type": "code",
        "colab": {
          "base_uri": "https://localhost:8080/"
        },
        "id": "aia5A81zA9L0",
        "outputId": "53953101-26f1-4195-9ef9-7e444f9a022d"
      },
      "source": [
        "choose(9, 6)"
      ],
      "execution_count": null,
      "outputs": [
        {
          "output_type": "execute_result",
          "data": {
            "text/plain": [
              "84"
            ]
          },
          "metadata": {},
          "execution_count": 20
        }
      ]
    },
    {
      "cell_type": "markdown",
      "metadata": {
        "cell_id": "49860ff0de4944d39e24554fe82b6d8e",
        "deepnote_cell_type": "markdown",
        "id": "6ce18hsDA9L0"
      },
      "source": [
        "Now we can verify the answers to the three problems. (Since `P` computes a ratio and `choose` computes a count,\n",
        "I multiply the left-hand-side by `N`, the length of the sample space, to make both sides be counts.)"
      ]
    },
    {
      "cell_type": "code",
      "metadata": {
        "cell_id": "fec8c40ca24845eb829d4d2c06d1bdc2",
        "deepnote_cell_type": "code",
        "colab": {
          "base_uri": "https://localhost:8080/"
        },
        "id": "ZJ5gLnq8A9L0",
        "outputId": "6b21191d-f447-44b6-a37c-7da45ddd4c3d"
      },
      "source": [
        "N = len(U6)\n",
        "\n",
        "N * P(select('R', 6), U6) == choose(9, 6)"
      ],
      "execution_count": null,
      "outputs": [
        {
          "output_type": "execute_result",
          "data": {
            "text/plain": [
              "True"
            ]
          },
          "metadata": {},
          "execution_count": 21
        }
      ]
    },
    {
      "cell_type": "code",
      "metadata": {
        "cell_id": "743d6f41ec354f8f9c3d0bf8dbb2a128",
        "deepnote_cell_type": "code",
        "colab": {
          "base_uri": "https://localhost:8080/"
        },
        "id": "mM4Lx1x9A9L0",
        "outputId": "2fd4eaf8-20dc-4103-8629-46b3c0588b80"
      },
      "source": [
        "N * P(select('B', 3) & select('W', 2) & select('R', 1), U6) == choose(6, 3) * choose(8, 2) * choose(9, 1)"
      ],
      "execution_count": null,
      "outputs": [
        {
          "output_type": "execute_result",
          "data": {
            "text/plain": [
              "True"
            ]
          },
          "metadata": {},
          "execution_count": 22
        }
      ]
    },
    {
      "cell_type": "code",
      "metadata": {
        "cell_id": "e6d2d972c2b245d9b6fc568f6c8dbfb1",
        "deepnote_cell_type": "code",
        "colab": {
          "base_uri": "https://localhost:8080/"
        },
        "id": "Ysb_fTLKA9L0",
        "outputId": "e54d1506-08d6-4ce7-85d4-6d1968bf3d46"
      },
      "source": [
        "N * P(select('W', 4), U6) == choose(8, 4) * choose(6 + 9, 2)  # (6 + 9 non-white balls)"
      ],
      "execution_count": null,
      "outputs": [
        {
          "output_type": "execute_result",
          "data": {
            "text/plain": [
              "True"
            ]
          },
          "metadata": {},
          "execution_count": 23
        }
      ]
    },
    {
      "cell_type": "markdown",
      "metadata": {
        "cell_id": "65f2dab1f996430592f2a2f929d536cd",
        "deepnote_cell_type": "markdown",
        "id": "0bHJW0D7A9L1"
      },
      "source": [
        "We can solve all these problems just by counting; all you ever needed to know about probability problems you learned from Sesame Street:\n",
        "\n",
        "![The Count](http://img2.oncoloring.com/count-dracula-number-thir_518b77b54ba6c-p.gif)\n",
        "<center><a href=\"https://en.wikipedia.org/wiki/Count_von_Count\">The Count</a><br>1972&mdash;</center>"
      ]
    },
    {
      "cell_type": "markdown",
      "metadata": {
        "button": false,
        "new_sheet": false,
        "run_control": {
          "read_only": false
        },
        "cell_id": "0bc2a6e807b34262a48784315e226484",
        "deepnote_cell_type": "markdown",
        "id": "FXRy2HdTA9L1"
      },
      "source": [
        "# Non-Equiprobable Outcomes\n",
        "\n",
        "So far, we have accepted Laplace's assumption that *nothing leads us to expect that any one of these cases should occur more than any other*.\n",
        "In real life, we often get outcomes that are not equiprobable--for example, a loaded die favors one side over the others.  We will introduce three more vocabulary items:\n",
        "\n",
        "* [Frequency](https://en.wikipedia.org/wiki/Frequency_%28statistics%29): a non-negative number describing how often an outcome occurs. Can be a count like 5, or a ratio like 1/6.\n",
        "\n",
        "* [Distribution](http://mathworld.wolfram.com/StatisticalDistribution.html): A mapping from outcome to frequency of that outcome. We will allow sample spaces to be distributions.\n",
        "\n",
        "* [Probability Distribution](https://en.wikipedia.org/wiki/Probability_distribution): A probability distribution\n",
        "is a distribution whose frequencies sum to 1.\n",
        "\n",
        "\n",
        "I could implement distributions with `Dist = dict`, but instead I'll make `Dist` a subclass `collections.Counter`:"
      ]
    },
    {
      "cell_type": "code",
      "metadata": {
        "cell_id": "02abedbddf9447b5be0285dfa35a5d12",
        "deepnote_cell_type": "code",
        "id": "U0Hdc743A9L1"
      },
      "source": [
        "from collections import Counter\n",
        "\n",
        "class Dist(Counter):\n",
        "    \"A Distribution of {outcome: frequency} pairs.\""
      ],
      "execution_count": null,
      "outputs": []
    },
    {
      "cell_type": "markdown",
      "metadata": {
        "cell_id": "4da85416ae5e4e408720740df0c1a4e8",
        "deepnote_cell_type": "markdown",
        "id": "xxYWIJ-DA9L1"
      },
      "source": [
        "Because a `Dist` is a `Counter`, we can initialize it in any of the following ways:"
      ]
    },
    {
      "cell_type": "code",
      "metadata": {
        "cell_id": "abe8379a9ab04d779a52f79f9d785757",
        "deepnote_cell_type": "code",
        "colab": {
          "base_uri": "https://localhost:8080/"
        },
        "id": "_xnhDnTeA9L1",
        "outputId": "325c49de-b20e-4b81-8db6-bfb1fec3a338"
      },
      "source": [
        "# A set of equiprobable outcomes:\n",
        "Dist({1, 2, 3, 4, 5, 6})"
      ],
      "execution_count": null,
      "outputs": [
        {
          "output_type": "execute_result",
          "data": {
            "text/plain": [
              "Dist({1: 1, 2: 1, 3: 1, 4: 1, 5: 1, 6: 1})"
            ]
          },
          "metadata": {},
          "execution_count": 25
        }
      ]
    },
    {
      "cell_type": "code",
      "metadata": {
        "cell_id": "c39dcdba81fb48f694ede410515cfcef",
        "deepnote_cell_type": "code",
        "colab": {
          "base_uri": "https://localhost:8080/"
        },
        "id": "e4x5rBkfA9L2",
        "outputId": "52c63826-8cac-4ef0-cff4-76e3dc08d61f"
      },
      "source": [
        "# A collection of outcomes, with repetition indicating frequency:\n",
        "Dist('THHHTTHHT')"
      ],
      "execution_count": null,
      "outputs": [
        {
          "output_type": "execute_result",
          "data": {
            "text/plain": [
              "Dist({'T': 4, 'H': 5})"
            ]
          },
          "metadata": {},
          "execution_count": 26
        }
      ]
    },
    {
      "cell_type": "code",
      "metadata": {
        "cell_id": "d9d9a95e3893405085d2805a939f7092",
        "deepnote_cell_type": "code",
        "colab": {
          "base_uri": "https://localhost:8080/"
        },
        "id": "5hAOtrjdA9L2",
        "outputId": "fed26e8a-bb0c-46f1-8d42-40a297988edb"
      },
      "source": [
        "# A mapping of {outcome: frequency} pairs:\n",
        "Dist({'H': 5, 'T': 4})"
      ],
      "execution_count": null,
      "outputs": [
        {
          "output_type": "execute_result",
          "data": {
            "text/plain": [
              "Dist({'H': 5, 'T': 4})"
            ]
          },
          "metadata": {},
          "execution_count": 27
        }
      ]
    },
    {
      "cell_type": "code",
      "metadata": {
        "cell_id": "87f547790ba547dbaa3c3264d8ad0782",
        "deepnote_cell_type": "code",
        "colab": {
          "base_uri": "https://localhost:8080/"
        },
        "id": "kUyH1xfzA9L2",
        "outputId": "e78e6906-cdf7-4189-bf82-821061c8c82d"
      },
      "source": [
        "# Keyword arguments:\n",
        "Dist(H=5, T=4) == Dist({'H': 5}, T=4) == Dist('TTTT', H=5)"
      ],
      "execution_count": null,
      "outputs": [
        {
          "output_type": "execute_result",
          "data": {
            "text/plain": [
              "True"
            ]
          },
          "metadata": {},
          "execution_count": 28
        }
      ]
    },
    {
      "cell_type": "markdown",
      "metadata": {
        "cell_id": "c9cee4dd9b1c486ab8db407e5f6f69cd",
        "deepnote_cell_type": "markdown",
        "id": "M51MKkwEA9L3"
      },
      "source": [
        "Now I will modify the code to handle distributions.\n",
        "Here's my plan:\n",
        "\n",
        "- Sample spaces and events can both be specified as either a `set` or a `Dist`.\n",
        "- The sample space can be a non-probability distribution like `Dist(H=50, T=50)`; the results\n",
        "will be the same as if the sample space had been a true probability distribution like `Dist(H=1/2, T=1/2)`.\n",
        "- The function `cases` now sums the frequencies in a distribution (it previously counted the length).\n",
        "- The function `favorable` now returns a `Dist` of favorable outcomes and their frequencies (not a `set`).\n",
        "- I will redefine `Fraction` to use `\"/\"`, not `fractions.Fraction`, because frequencies might be floats.\n",
        "- `P` is unchanged.\n"
      ]
    },
    {
      "cell_type": "code",
      "metadata": {
        "cell_id": "36c6e632b7e74854868f2341ba82fba3",
        "deepnote_cell_type": "code",
        "id": "D3ONLjUDA9L3"
      },
      "source": [
        "def cases(outcomes):\n",
        "    \"The total frequency of all the outcomes.\"\n",
        "    return sum(Dist(outcomes).values())\n",
        "\n",
        "def favorable(event, space):\n",
        "    \"A distribution of outcomes from the sample space that are in the event.\"\n",
        "    space = Dist(space)\n",
        "    return Dist({x: space[x]\n",
        "                 for x in space if x in event})\n",
        "\n",
        "def Fraction(n, d): return n / d"
      ],
      "execution_count": null,
      "outputs": []
    },
    {
      "cell_type": "markdown",
      "metadata": {
        "cell_id": "226409c638ad40d5bffb7b44112b3ca4",
        "deepnote_cell_type": "markdown",
        "id": "X3JfqE1ZA9L3"
      },
      "source": [
        "For example, here's the probability of rolling an even number with a crooked die that is loaded to prefer 6:"
      ]
    },
    {
      "cell_type": "code",
      "metadata": {
        "cell_id": "016f0d4012f34c3ea28fe97fdaf26afb",
        "deepnote_cell_type": "code",
        "colab": {
          "base_uri": "https://localhost:8080/",
          "height": 359
        },
        "id": "GTK1LVe0A9L3",
        "outputId": "0a1de2f3-aa97-4335-b23c-2a2a4dcb9ab2"
      },
      "source": [
        "Crooked = Dist({1: 0.1, 2: 0.1, 3: 0.1, 4: 0.1, 5: 0.1, 6: 0.5})\n",
        "\n",
        "P(even, Crooked)"
      ],
      "execution_count": null,
      "outputs": [
        {
          "output_type": "error",
          "ename": "TypeError",
          "evalue": "ignored",
          "traceback": [
            "\u001b[0;31m---------------------------------------------------------------------------\u001b[0m",
            "\u001b[0;31mTypeError\u001b[0m                                 Traceback (most recent call last)",
            "\u001b[0;32m<ipython-input-48-0a8a4ff7232e>\u001b[0m in \u001b[0;36m<cell line: 3>\u001b[0;34m()\u001b[0m\n\u001b[1;32m      1\u001b[0m \u001b[0mCrooked\u001b[0m \u001b[0;34m=\u001b[0m \u001b[0mDist\u001b[0m\u001b[0;34m(\u001b[0m\u001b[0;34m{\u001b[0m\u001b[0;36m1\u001b[0m\u001b[0;34m:\u001b[0m \u001b[0;36m0.1\u001b[0m\u001b[0;34m,\u001b[0m \u001b[0;36m2\u001b[0m\u001b[0;34m:\u001b[0m \u001b[0;36m0.1\u001b[0m\u001b[0;34m,\u001b[0m \u001b[0;36m3\u001b[0m\u001b[0;34m:\u001b[0m \u001b[0;36m0.1\u001b[0m\u001b[0;34m,\u001b[0m \u001b[0;36m4\u001b[0m\u001b[0;34m:\u001b[0m \u001b[0;36m0.1\u001b[0m\u001b[0;34m,\u001b[0m \u001b[0;36m5\u001b[0m\u001b[0;34m:\u001b[0m \u001b[0;36m0.1\u001b[0m\u001b[0;34m,\u001b[0m \u001b[0;36m6\u001b[0m\u001b[0;34m:\u001b[0m \u001b[0;36m0.5\u001b[0m\u001b[0;34m}\u001b[0m\u001b[0;34m)\u001b[0m\u001b[0;34m\u001b[0m\u001b[0;34m\u001b[0m\u001b[0m\n\u001b[1;32m      2\u001b[0m \u001b[0;34m\u001b[0m\u001b[0m\n\u001b[0;32m----> 3\u001b[0;31m \u001b[0mP\u001b[0m\u001b[0;34m(\u001b[0m\u001b[0meven\u001b[0m\u001b[0;34m,\u001b[0m \u001b[0mCrooked\u001b[0m\u001b[0;34m)\u001b[0m\u001b[0;34m\u001b[0m\u001b[0;34m\u001b[0m\u001b[0m\n\u001b[0m",
            "\u001b[0;32m<ipython-input-1-2a218e46a38a>\u001b[0m in \u001b[0;36mP\u001b[0;34m(event, space)\u001b[0m\n\u001b[1;32m      3\u001b[0m \u001b[0;32mdef\u001b[0m \u001b[0mP\u001b[0m\u001b[0;34m(\u001b[0m\u001b[0mevent\u001b[0m\u001b[0;34m,\u001b[0m \u001b[0mspace\u001b[0m\u001b[0;34m)\u001b[0m\u001b[0;34m:\u001b[0m\u001b[0;34m\u001b[0m\u001b[0;34m\u001b[0m\u001b[0m\n\u001b[1;32m      4\u001b[0m     \u001b[0;34m\"The probability of an event, given a sample space.\"\u001b[0m\u001b[0;34m\u001b[0m\u001b[0;34m\u001b[0m\u001b[0m\n\u001b[0;32m----> 5\u001b[0;31m     return Fraction(cases(favorable(event, space)), \n\u001b[0m\u001b[1;32m      6\u001b[0m                     cases(space))\n\u001b[1;32m      7\u001b[0m \u001b[0;34m\u001b[0m\u001b[0m\n",
            "\u001b[0;32m<ipython-input-47-ea31cebda312>\u001b[0m in \u001b[0;36mfavorable\u001b[0;34m(event, space)\u001b[0m\n\u001b[1;32m      6\u001b[0m     \u001b[0;34m\"A distribution of outcomes from the sample space that are in the event.\"\u001b[0m\u001b[0;34m\u001b[0m\u001b[0;34m\u001b[0m\u001b[0m\n\u001b[1;32m      7\u001b[0m     \u001b[0mspace\u001b[0m \u001b[0;34m=\u001b[0m \u001b[0mDist\u001b[0m\u001b[0;34m(\u001b[0m\u001b[0mspace\u001b[0m\u001b[0;34m)\u001b[0m\u001b[0;34m\u001b[0m\u001b[0;34m\u001b[0m\u001b[0m\n\u001b[0;32m----> 8\u001b[0;31m     return Dist({x: space[x] \n\u001b[0m\u001b[1;32m      9\u001b[0m                  for x in space if x in event})\n\u001b[1;32m     10\u001b[0m \u001b[0;34m\u001b[0m\u001b[0m\n",
            "\u001b[0;32m<ipython-input-47-ea31cebda312>\u001b[0m in \u001b[0;36m<dictcomp>\u001b[0;34m(.0)\u001b[0m\n\u001b[1;32m      7\u001b[0m     \u001b[0mspace\u001b[0m \u001b[0;34m=\u001b[0m \u001b[0mDist\u001b[0m\u001b[0;34m(\u001b[0m\u001b[0mspace\u001b[0m\u001b[0;34m)\u001b[0m\u001b[0;34m\u001b[0m\u001b[0;34m\u001b[0m\u001b[0m\n\u001b[1;32m      8\u001b[0m     return Dist({x: space[x] \n\u001b[0;32m----> 9\u001b[0;31m                  for x in space if x in event})\n\u001b[0m\u001b[1;32m     10\u001b[0m \u001b[0;34m\u001b[0m\u001b[0m\n\u001b[1;32m     11\u001b[0m \u001b[0;32mdef\u001b[0m \u001b[0mFraction\u001b[0m\u001b[0;34m(\u001b[0m\u001b[0mn\u001b[0m\u001b[0;34m,\u001b[0m \u001b[0md\u001b[0m\u001b[0;34m)\u001b[0m\u001b[0;34m:\u001b[0m \u001b[0;32mreturn\u001b[0m \u001b[0mn\u001b[0m \u001b[0;34m/\u001b[0m \u001b[0md\u001b[0m\u001b[0;34m\u001b[0m\u001b[0;34m\u001b[0m\u001b[0m\n",
            "\u001b[0;31mTypeError\u001b[0m: argument of type 'function' is not iterable"
          ]
        }
      ]
    },
    {
      "cell_type": "markdown",
      "metadata": {
        "cell_id": "19c2427ede324e9eab4b9fef28776a59",
        "deepnote_cell_type": "markdown",
        "id": "EQTYgPocA9L3"
      },
      "source": [
        "As another example, an [article](http://people.kzoo.edu/barth/math105/moreboys.pdf) gives the following counts for two-child families in Denmark, where `GB` means a family where the first child is a girl and the second a boy (I'm aware that not all births can be classified as the binary \"boy\" or \"girl,\" but the data was reported that way):\n",
        "\n",
        "    GG: 121801    GB: 126840\n",
        "    BG: 127123    BB: 135138"
      ]
    },
    {
      "cell_type": "code",
      "metadata": {
        "button": false,
        "new_sheet": false,
        "run_control": {
          "read_only": false
        },
        "cell_id": "cec973683ad940ceb8bae46119859d18",
        "deepnote_cell_type": "code",
        "id": "8c6_CB1PA9L4"
      },
      "source": [
        "DK = Dist(GG=121801, GB=126840,\n",
        "          BG=127123, BB=135138)"
      ],
      "execution_count": null,
      "outputs": []
    },
    {
      "cell_type": "code",
      "metadata": {
        "cell_id": "917fd380572e4833a687c78e6407fc9a",
        "deepnote_cell_type": "code",
        "colab": {
          "base_uri": "https://localhost:8080/"
        },
        "id": "RXK3ToSDA9L4",
        "outputId": "c57cf371-6662-4475-87aa-03c338bbe562"
      },
      "source": [
        "first_girl  = {'GG', 'GB'}\n",
        "P(first_girl, DK)"
      ],
      "execution_count": null,
      "outputs": [
        {
          "output_type": "execute_result",
          "data": {
            "text/plain": [
              "0.48667063350701306"
            ]
          },
          "metadata": {},
          "execution_count": 32
        }
      ]
    },
    {
      "cell_type": "code",
      "metadata": {
        "cell_id": "4fa95a710d0a4bf58e3897f433d38cfc",
        "deepnote_cell_type": "code",
        "colab": {
          "base_uri": "https://localhost:8080/"
        },
        "id": "LWVI32XXA9L4",
        "outputId": "2a9118e4-3cff-4ffb-afaa-562f6de8b908"
      },
      "source": [
        "second_girl = {'GG', 'BG'}\n",
        "P(second_girl, DK)"
      ],
      "execution_count": null,
      "outputs": [
        {
          "output_type": "execute_result",
          "data": {
            "text/plain": [
              "0.4872245557856497"
            ]
          },
          "metadata": {},
          "execution_count": 33
        }
      ]
    },
    {
      "cell_type": "markdown",
      "metadata": {
        "button": false,
        "new_sheet": false,
        "run_control": {
          "read_only": false
        },
        "cell_id": "91a7cfcfc41b463ba0255d5d90929d25",
        "deepnote_cell_type": "markdown",
        "id": "uQGAJ0inA9L4"
      },
      "source": [
        "This says that the probability of a girl is somewhere between 48% and 49%. The probability of a girl is very slightly higher for the second child.\n",
        "\n",
        "Given the first child, are you more likely to have a second child of the same sex?"
      ]
    },
    {
      "cell_type": "code",
      "metadata": {
        "cell_id": "96f47b2656a9407888616b44d9b220e1",
        "deepnote_cell_type": "code",
        "colab": {
          "base_uri": "https://localhost:8080/"
        },
        "id": "GjQP9xkoA9L4",
        "outputId": "579798ac-3ce3-4c3e-a48b-a407a7b7f17c"
      },
      "source": [
        "same = {'GG', 'BB'}\n",
        "P(same, DK)"
      ],
      "execution_count": null,
      "outputs": [
        {
          "output_type": "execute_result",
          "data": {
            "text/plain": [
              "0.5029124959385557"
            ]
          },
          "metadata": {},
          "execution_count": 34
        }
      ]
    },
    {
      "cell_type": "markdown",
      "metadata": {
        "button": false,
        "new_sheet": false,
        "run_control": {
          "read_only": false
        },
        "cell_id": "0aada215b48e48c1ac7ca1e0a0bd01c4",
        "deepnote_cell_type": "markdown",
        "id": "5FAAjd-JA9L4"
      },
      "source": [
        "Yes, but only by about 0.3%."
      ]
    },
    {
      "cell_type": "markdown",
      "metadata": {
        "button": false,
        "deletable": true,
        "new_sheet": false,
        "run_control": {
          "read_only": false
        },
        "cell_id": "cac3100bdaab48a68286d7fd0697538e",
        "deepnote_cell_type": "markdown",
        "id": "pCetGM0uA9L4"
      },
      "source": [
        "# Predicates as events\n",
        "\n",
        "To calculate the probability of an even die roll, I originally said\n",
        "\n",
        "    even = {2, 4, 6}\n",
        "    \n",
        "But that's inelegant&mdash;I had to explicitly enumerate all the even numbers from one to six. If I ever wanted to deal with a twelve or twenty-sided die, I would have to go back and redefine `even`.  I would prefer to define `even` once and for all like this:"
      ]
    },
    {
      "cell_type": "code",
      "metadata": {
        "button": false,
        "collapsed": true,
        "deletable": true,
        "new_sheet": false,
        "run_control": {
          "read_only": false
        },
        "cell_id": "5ec219072d1d454f95468c887f5945c5",
        "deepnote_cell_type": "code",
        "id": "fx-25wh0A9L4"
      },
      "source": [
        "def even(n): return n % 2 == 0"
      ],
      "execution_count": null,
      "outputs": []
    },
    {
      "cell_type": "markdown",
      "metadata": {
        "button": false,
        "deletable": true,
        "new_sheet": false,
        "run_control": {
          "read_only": false
        },
        "cell_id": "e3b2fe6ed2574b44a852eeb5cab4628c",
        "deepnote_cell_type": "markdown",
        "id": "1Sk7cNZKA9L5"
      },
      "source": [
        "Now in order to make `P(even, D)` work, I'll allow an `Event` to be either a collection of outcomes or a `callable` predicate (that is, a function that returns true for outcomes that are part of the event). I don't need to modify `P`, but  `favorable` will have  to convert a callable `event` to a `set`:"
      ]
    },
    {
      "cell_type": "code",
      "metadata": {
        "button": false,
        "collapsed": true,
        "deletable": true,
        "new_sheet": false,
        "run_control": {
          "read_only": false
        },
        "cell_id": "c2523e7ead6d4bffb4e8c0c69cd8c4db",
        "deepnote_cell_type": "code",
        "id": "Q1T3Kv07A9L5"
      },
      "source": [
        "def favorable(event, space):\n",
        "    \"A distribution of outcomes from the sample space that are in the event.\"\n",
        "    if callable(event):\n",
        "        event = {x for x in space if event(x)}\n",
        "    space = Dist(space)\n",
        "    return Dist({x: space[x]\n",
        "                 for x in space if x in event})"
      ],
      "execution_count": null,
      "outputs": []
    },
    {
      "cell_type": "code",
      "metadata": {
        "cell_id": "5644bb3b204947e6816fd82bb87df687",
        "deepnote_cell_type": "code",
        "colab": {
          "base_uri": "https://localhost:8080/"
        },
        "id": "gHLI2vssA9L5",
        "outputId": "bdca8e61-36dc-4c18-ff42-84f2074eaf38"
      },
      "source": [
        "favorable(even, D)"
      ],
      "execution_count": null,
      "outputs": [
        {
          "output_type": "execute_result",
          "data": {
            "text/plain": [
              "Dist({2: 1, 4: 1, 6: 1})"
            ]
          },
          "metadata": {},
          "execution_count": 37
        }
      ]
    },
    {
      "cell_type": "code",
      "metadata": {
        "cell_id": "6091cb6f22a84f4fa6eb741274c2e1d7",
        "deepnote_cell_type": "code",
        "colab": {
          "base_uri": "https://localhost:8080/"
        },
        "id": "PtOfcnyqA9L5",
        "outputId": "c63503ab-f915-4327-80e0-71dbd5516cfd"
      },
      "source": [
        "P(even, D)"
      ],
      "execution_count": null,
      "outputs": [
        {
          "output_type": "execute_result",
          "data": {
            "text/plain": [
              "0.5"
            ]
          },
          "metadata": {},
          "execution_count": 38
        }
      ]
    },
    {
      "cell_type": "markdown",
      "metadata": {
        "cell_id": "d0db3ec65ecd4e428c8c9364313338e9",
        "deepnote_cell_type": "markdown",
        "id": "6NUEgzwDA9L5"
      },
      "source": [
        "I'll define `die` to make a sample space for an *n*-sided die:"
      ]
    },
    {
      "cell_type": "code",
      "metadata": {
        "collapsed": true,
        "cell_id": "409cf8729d8545da925d15b426d5031b",
        "deepnote_cell_type": "code",
        "id": "-OE8zM8uA9L5"
      },
      "source": [
        "def die(n): return set(range(1, n + 1))"
      ],
      "execution_count": null,
      "outputs": []
    },
    {
      "cell_type": "code",
      "metadata": {
        "button": false,
        "deletable": true,
        "new_sheet": false,
        "run_control": {
          "read_only": false
        },
        "cell_id": "bb4a964cd78f4c16b24fd0c256fa35ad",
        "deepnote_cell_type": "code",
        "colab": {
          "base_uri": "https://localhost:8080/"
        },
        "id": "oIS5bNRtA9L5",
        "outputId": "89827799-ee48-4962-fc9c-69d9d4d1b332"
      },
      "source": [
        "favorable(even, die(12))"
      ],
      "execution_count": null,
      "outputs": [
        {
          "output_type": "execute_result",
          "data": {
            "text/plain": [
              "Dist({2: 1, 4: 1, 6: 1, 8: 1, 10: 1, 12: 1})"
            ]
          },
          "metadata": {},
          "execution_count": 40
        }
      ]
    },
    {
      "cell_type": "code",
      "metadata": {
        "cell_id": "05c07d8f80c643f59f0cb462a676066b",
        "deepnote_cell_type": "code",
        "colab": {
          "base_uri": "https://localhost:8080/"
        },
        "id": "4FyOdwf5A9L5",
        "outputId": "4e454811-30ec-474f-ad6c-bcb4cd02c08e"
      },
      "source": [
        "P(even, die(12))"
      ],
      "execution_count": null,
      "outputs": [
        {
          "output_type": "execute_result",
          "data": {
            "text/plain": [
              "0.5"
            ]
          },
          "metadata": {},
          "execution_count": 41
        }
      ]
    },
    {
      "cell_type": "code",
      "metadata": {
        "cell_id": "b332734c3c45477cbf6bf134090b4c67",
        "deepnote_cell_type": "code",
        "colab": {
          "base_uri": "https://localhost:8080/"
        },
        "id": "Ixk0xqfVA9L6",
        "outputId": "c49e0bb0-1fb7-4b89-abb1-87e332766b47"
      },
      "source": [
        "P(even, die(2000))"
      ],
      "execution_count": null,
      "outputs": [
        {
          "output_type": "execute_result",
          "data": {
            "text/plain": [
              "0.5"
            ]
          },
          "metadata": {},
          "execution_count": 42
        }
      ]
    },
    {
      "cell_type": "code",
      "metadata": {
        "cell_id": "e2dae82a080e4919b83e900b261e10a1",
        "deepnote_cell_type": "code",
        "colab": {
          "base_uri": "https://localhost:8080/"
        },
        "id": "8rf3K1zeA9L6",
        "outputId": "db076cd0-d367-4ed7-e08c-b2ee8b3f018e"
      },
      "source": [
        "P(even, die(2001))"
      ],
      "execution_count": null,
      "outputs": [
        {
          "output_type": "execute_result",
          "data": {
            "text/plain": [
              "0.49975012493753124"
            ]
          },
          "metadata": {},
          "execution_count": 43
        }
      ]
    },
    {
      "cell_type": "markdown",
      "metadata": {
        "button": false,
        "deletable": true,
        "new_sheet": false,
        "run_control": {
          "read_only": false
        },
        "cell_id": "972899987a084a4ab995b1ef09736238",
        "deepnote_cell_type": "markdown",
        "id": "VzN6rvPjA9L6"
      },
      "source": [
        "We can define more interesting events using predicates; for example we can determine the probability that the sum of  rolling *d* 6-sided dice is prime:"
      ]
    },
    {
      "cell_type": "code",
      "metadata": {
        "button": false,
        "deletable": true,
        "new_sheet": false,
        "run_control": {
          "read_only": false
        },
        "cell_id": "aee53fd19c744b23a293d04d35c6c2ca",
        "deepnote_cell_type": "code",
        "colab": {
          "base_uri": "https://localhost:8080/"
        },
        "id": "ZO0xy1XjA9L6",
        "outputId": "626b8b6c-3948-4870-934b-e97f42ed05e1"
      },
      "source": [
        "def sum_dice(d): return Dist(sum(dice) for dice in itertools.product(D, repeat=d))\n",
        "\n",
        "def is_prime(n): return (n > 1 and not any(n % i == 0 for i in range(2, n)))\n",
        "\n",
        "for d in range(1, 9):\n",
        "    p = P(is_prime, sum_dice(d))\n",
        "    print(\"P(is_prime, sum_dice({})) = {}\".format(d, round(p, 3)))"
      ],
      "execution_count": null,
      "outputs": [
        {
          "output_type": "stream",
          "name": "stdout",
          "text": [
            "P(is_prime, sum_dice(1)) = 0.5\n",
            "P(is_prime, sum_dice(2)) = 0.417\n",
            "P(is_prime, sum_dice(3)) = 0.338\n",
            "P(is_prime, sum_dice(4)) = 0.333\n",
            "P(is_prime, sum_dice(5)) = 0.317\n",
            "P(is_prime, sum_dice(6)) = 0.272\n",
            "P(is_prime, sum_dice(7)) = 0.242\n",
            "P(is_prime, sum_dice(8)) = 0.236\n"
          ]
        }
      ]
    },
    {
      "cell_type": "markdown",
      "metadata": {
        "cell_id": "c45eb08550234ca0af0dc931734f13ce",
        "deepnote_cell_type": "markdown",
        "id": "FrGsTB6FA9L6"
      },
      "source": [
        "# Fermat and Pascal: The Unfinished Game\n",
        "\n",
        "<table>\n",
        "<tr><td><img src=\"https://upload.wikimedia.org/wikipedia/commons/thumb/9/98/Pierre_de_Fermat2.png/140px-Pierre_de_Fermat2.png\"><center><a href=\"https://en.wikipedia.org/wiki/Pierre_de_Fermat\">Pierre de Fermat</a><br>1654\n",
        "<td><img src=\"https://www.umass.edu/wsp/images/pascal.jpg\"><center><a href=\"https://en.wikipedia.org/wiki/Blaise_Pascal\">Blaise Pascal]</a><br>1654\n",
        "</table>\n",
        "\n",
        "Consider a gambling game consisting of tossing a coin repeatedly. Player H wins the game as soon as a total of 10 heads come up, and T wins if a total of 10 tails come up before H wins. If the game is interrupted when H has 8 heads and T has 7 tails, how should the pot of money (which happens to be 100 Francs) be split?  Here are some proposals, and arguments against them:\n",
        "- It is uncertain, so just split the pot 50-50.\n",
        "<br>*No, because surely H is more likely to win.*\n",
        "- In proportion to each player's current score, so H gets a 8/(8+7) share.\n",
        "<br>*No, because if the score was 0 heads to 1 tail, H should get more than 0/1.*\n",
        "- In proportion to how many tosses the opponent needs to win, so H gets 3/(3+2).\n",
        "<br>*This seems better, but no, if H is 9 away and T is only 1 away from winning, then it seems that giving H a 1/10 share is too much.*\n",
        "\n",
        "In 1654, Blaise Pascal and Pierre de Fermat corresponded on this problem, with Fermat [writing](http://mathforum.org/isaac/problems/prob1.html):\n",
        "\n",
        ">Dearest Blaise,\n",
        "\n",
        ">As to the problem of how to divide the 100 Francs, I think I have found a solution that you will find to be fair. Seeing as I needed only two points to win the game, and you needed 3, I think we can establish that after four more tosses of the coin, the game would have been over. For, in those four tosses, if you did not get the necessary 3 points for your victory, this would imply that I had in fact gained the necessary 2 points for my victory. In a similar manner, if I had not achieved the necessary 2 points for my victory, this would imply that you had in fact achieved at least 3 points and had therefore won the game. Thus, I believe the following list of possible endings to the game is exhaustive. I have denoted 'heads' by an 'h', and tails by a 't.' I have starred the outcomes that indicate a win for myself.\n",
        "\n",
        ">       h h h h *       h h h t *       h h t h *       h h t t *\n",
        ">       h t h h *       h t h t *       h t t h *       h t t t\n",
        ">       t h h h *       t h h t *       t h t h *       t h t t\n",
        ">       t t h h *       t t h t         t t t h         t t t t\n",
        "\n",
        ">I think you will agree that all of these outcomes are equally likely. Thus I believe that we should divide the stakes by the ration 11:5 in my favor, that is, I should receive (11/16)&times;100 = 68.75 Francs, while you should receive 31.25 Francs.\n",
        "\n",
        "\n",
        ">I hope all is well in Paris,\n",
        "\n",
        ">Your friend and colleague,\n",
        "\n",
        ">Pierre\n",
        "\n",
        "Pascal agreed with this solution, and [replied](http://mathforum.org/isaac/problems/prob2.html) with a generalization that made use of his previous invention, Pascal's Triangle. There's even [a book](https://smile.amazon.com/Unfinished-Game-Pascal-Fermat-Seventeenth-Century/dp/0465018963?sa-no-redirect=1) about it.\n",
        "\n",
        "We can solve the problem with the tools we have:"
      ]
    },
    {
      "cell_type": "code",
      "metadata": {
        "collapsed": true,
        "cell_id": "9b5a7f8b37f74f3681a42b5947b77058",
        "deepnote_cell_type": "code",
        "id": "mmffyGP5A9L6"
      },
      "source": [
        "def win_unfinished_game(h, t):\n",
        "    \"The probability that H will win the unfinished game, given the number of points needed by H and T to win.\"\n",
        "    return P(at_least(h, 'h'), finishes(h, t))\n",
        "\n",
        "def at_least(n, item):\n",
        "    \"The event of getting at least n instances of item in an outcome.\"\n",
        "    return lambda outcome: outcome.count(item) >= n\n",
        "\n",
        "def finishes(h, t):\n",
        "    \"All finishes of a game where player H needs h points to win and T needs t.\"\n",
        "    tosses = ['ht'] * (h + t - 1)\n",
        "    return set(itertools.product(*tosses))"
      ],
      "execution_count": null,
      "outputs": []
    },
    {
      "cell_type": "markdown",
      "metadata": {
        "cell_id": "1b4f4fd7297c43ee9798f33174373bd1",
        "deepnote_cell_type": "markdown",
        "id": "ulytqx2iA9L6"
      },
      "source": [
        "We can generate the 16 equiprobable finished that Pierre wrote about:"
      ]
    },
    {
      "cell_type": "code",
      "metadata": {
        "cell_id": "f7265aa596ee41d28f3d466aa8b526a7",
        "deepnote_cell_type": "code",
        "colab": {
          "base_uri": "https://localhost:8080/"
        },
        "id": "p8tuyeXJA9L6",
        "outputId": "fd7214e1-a6d7-433c-bedc-e39cb5ed9b74"
      },
      "source": [
        "finishes(2, 3)"
      ],
      "execution_count": null,
      "outputs": [
        {
          "output_type": "execute_result",
          "data": {
            "text/plain": [
              "{('h', 'h', 'h', 'h'),\n",
              " ('h', 'h', 'h', 't'),\n",
              " ('h', 'h', 't', 'h'),\n",
              " ('h', 'h', 't', 't'),\n",
              " ('h', 't', 'h', 'h'),\n",
              " ('h', 't', 'h', 't'),\n",
              " ('h', 't', 't', 'h'),\n",
              " ('h', 't', 't', 't'),\n",
              " ('t', 'h', 'h', 'h'),\n",
              " ('t', 'h', 'h', 't'),\n",
              " ('t', 'h', 't', 'h'),\n",
              " ('t', 'h', 't', 't'),\n",
              " ('t', 't', 'h', 'h'),\n",
              " ('t', 't', 'h', 't'),\n",
              " ('t', 't', 't', 'h'),\n",
              " ('t', 't', 't', 't')}"
            ]
          },
          "metadata": {},
          "execution_count": 51
        }
      ]
    },
    {
      "cell_type": "markdown",
      "metadata": {
        "cell_id": "e6f2158c87b140ad858edf8ef1665c58",
        "deepnote_cell_type": "markdown",
        "id": "Cc5UZYe1A9L6"
      },
      "source": [
        "And we can find the 11 of them that are favorable to player `H`:"
      ]
    },
    {
      "cell_type": "code",
      "metadata": {
        "cell_id": "855ff6bbe5fa4b2a9f95aec20e49019b",
        "deepnote_cell_type": "code",
        "colab": {
          "base_uri": "https://localhost:8080/"
        },
        "id": "ddKBLUVoA9L6",
        "outputId": "b26ae3e7-81a6-486a-9fa2-02c2e1f1decc"
      },
      "source": [
        "favorable(at_least(2, 'h'), finishes(2, 3))"
      ],
      "execution_count": null,
      "outputs": [
        {
          "output_type": "execute_result",
          "data": {
            "text/plain": [
              "Dist({('h', 't', 'h', 'h'): 1,\n",
              "      ('h', 'h', 't', 'h'): 1,\n",
              "      ('t', 'h', 'h', 'h'): 1,\n",
              "      ('h', 't', 't', 'h'): 1,\n",
              "      ('h', 'h', 'h', 'h'): 1,\n",
              "      ('t', 't', 'h', 'h'): 1,\n",
              "      ('h', 't', 'h', 't'): 1,\n",
              "      ('t', 'h', 't', 'h'): 1,\n",
              "      ('h', 'h', 't', 't'): 1,\n",
              "      ('h', 'h', 'h', 't'): 1,\n",
              "      ('t', 'h', 'h', 't'): 1})"
            ]
          },
          "metadata": {},
          "execution_count": 54
        }
      ]
    },
    {
      "cell_type": "markdown",
      "metadata": {
        "collapsed": false,
        "cell_id": "7cefd219e17c4703954e74d50e499556",
        "deepnote_cell_type": "markdown",
        "id": "DCifys1uA9L7"
      },
      "source": [
        "Finally, we can answer the question:"
      ]
    },
    {
      "cell_type": "code",
      "metadata": {
        "cell_id": "2c27f0436bf24b1d951959cfbbfef711",
        "deepnote_cell_type": "code",
        "colab": {
          "base_uri": "https://localhost:8080/"
        },
        "id": "RpNO7Un6A9L7",
        "outputId": "c5a63bfc-f520-4b16-d9fb-7b01b3b613ac"
      },
      "source": [
        "100 * win_unfinished_game(2, 3)"
      ],
      "execution_count": null,
      "outputs": [
        {
          "output_type": "execute_result",
          "data": {
            "text/plain": [
              "68.75"
            ]
          },
          "metadata": {},
          "execution_count": 56
        }
      ]
    },
    {
      "cell_type": "markdown",
      "metadata": {
        "cell_id": "42544c9af405463f96e7cb4f9e6e446c",
        "deepnote_cell_type": "markdown",
        "id": "vGAdrk7zA9L7"
      },
      "source": [
        "We agree with Pascal and Fermat; we're in good company!"
      ]
    },
    {
      "cell_type": "markdown",
      "metadata": {
        "cell_id": "6ff8230d4fb447a9ac405f5fce5c3552",
        "deepnote_cell_type": "markdown",
        "id": "mezdZMbYA9L7"
      },
      "source": [
        "# Newton's Answer to a Problem by Pepys\n",
        "\n",
        "<table>\n",
        "<tr><td><img src=\"http://scienceworld.wolfram.com/biography/pics/Newton.jpg\"><center><a href=\"https://en.wikipedia.org/wiki/Isaac_Newton\">Isaac Newton</a><br>1693</center>\n",
        "<td><img src=\"https://upload.wikimedia.org/wikipedia/commons/thumb/f/f8/Samuel_Pepys_portrait.jpg/148px-Samuel_Pepys_portrait.jpg\"><center><a href=\"https://en.wikipedia.org/wiki/Samuel_Pepys\">Samuel Pepys</a><br>1693</center>\n",
        "</table>\n",
        "\n",
        "Let's jump ahead from 1654 all the way to 1693, [when](http://fermatslibrary.com/s/isaac-newton-as-a-probabilist) Samuel Pepys wrote to Isaac Newton posing the problem:\n",
        "\n",
        "> Which of the following three propositions has the greatest chance of success?\n",
        "  1. Six fair dice are tossed independently and at least one “6” appears.\n",
        "  2. Twelve fair dice are tossed independently and at least two “6”s appear.\n",
        "  3. Eighteen fair dice are tossed independently and at least three “6”s appear.\n",
        "  \n",
        "Newton was able to answer the question correctly (although his reasoning was not quite right); let's see how we can do. Since we're only interested in whether a die comes up as \"6\" or not, we can define a single die like this:"
      ]
    },
    {
      "cell_type": "code",
      "metadata": {
        "cell_id": "d91e8abcfef149e5a2bbe509782edda5",
        "deepnote_cell_type": "code",
        "id": "5XKlQEIsA9L8"
      },
      "source": [
        "die6 = Dist({6: 1/6, '-': 5/6})"
      ],
      "execution_count": null,
      "outputs": []
    },
    {
      "cell_type": "markdown",
      "metadata": {
        "cell_id": "a2e904082c7c48a89d557b00f675e0ae",
        "deepnote_cell_type": "markdown",
        "id": "T1NRsTz-A9L8"
      },
      "source": [
        "Next we can define the joint distribution formed by combining two independent distribution like this:"
      ]
    },
    {
      "cell_type": "code",
      "metadata": {
        "cell_id": "bbee2c579f7143c5b83473b2408a4702",
        "deepnote_cell_type": "code",
        "colab": {
          "base_uri": "https://localhost:8080/"
        },
        "id": "w1l2ZNp6A9L8",
        "outputId": "863e8a07-03ff-4191-e359-5f55d9fe9b81"
      },
      "source": [
        "def joint(A, B, combine='{}{}'.format):\n",
        "    \"\"\"The joint distribution of two independent distributions.\n",
        "    Result is all entries of the form {'ab': frequency(a) * frequency(b)}\"\"\"\n",
        "    return Dist({combine(a, b): A[a] * B[b]\n",
        "                 for a in A for b in B})\n",
        "\n",
        "joint(die6, die6)"
      ],
      "execution_count": null,
      "outputs": [
        {
          "output_type": "execute_result",
          "data": {
            "text/plain": [
              "Dist({'66': 0.027777777777777776,\n",
              "      '6-': 0.1388888888888889,\n",
              "      '-6': 0.1388888888888889,\n",
              "      '--': 0.6944444444444445})"
            ]
          },
          "metadata": {},
          "execution_count": 58
        }
      ]
    },
    {
      "cell_type": "markdown",
      "metadata": {
        "collapsed": false,
        "cell_id": "eab2f26f93b642e7b2382a93be74cb65",
        "deepnote_cell_type": "markdown",
        "id": "239JJYw4A9L8"
      },
      "source": [
        "And the joint distribution from rolling *n* dice:"
      ]
    },
    {
      "cell_type": "code",
      "metadata": {
        "cell_id": "5d22aceff2da4b5bb55c65c7130d13c5",
        "deepnote_cell_type": "code",
        "colab": {
          "base_uri": "https://localhost:8080/"
        },
        "id": "phTUDVg0A9L8",
        "outputId": "ccb7cb31-8ea4-4d0e-b5a7-bd6d5b63914e"
      },
      "source": [
        "def dice(n, die):\n",
        "    \"Joint probability distribution from rolling `n` dice.\"\n",
        "    if n == 1:\n",
        "        return die\n",
        "    else:\n",
        "        return joint(die, dice(n - 1, die))\n",
        "\n",
        "dice(4, die6)"
      ],
      "execution_count": null,
      "outputs": [
        {
          "output_type": "execute_result",
          "data": {
            "text/plain": [
              "Dist({'6666': 0.0007716049382716049,\n",
              "      '666-': 0.0038580246913580245,\n",
              "      '66-6': 0.0038580246913580245,\n",
              "      '66--': 0.019290123456790126,\n",
              "      '6-66': 0.0038580246913580245,\n",
              "      '6-6-': 0.019290123456790126,\n",
              "      '6--6': 0.019290123456790126,\n",
              "      '6---': 0.09645061728395063,\n",
              "      '-666': 0.0038580246913580245,\n",
              "      '-66-': 0.019290123456790122,\n",
              "      '-6-6': 0.019290123456790122,\n",
              "      '-6--': 0.09645061728395063,\n",
              "      '--66': 0.019290123456790122,\n",
              "      '--6-': 0.09645061728395063,\n",
              "      '---6': 0.09645061728395063,\n",
              "      '----': 0.48225308641975323})"
            ]
          },
          "metadata": {},
          "execution_count": 59
        }
      ]
    },
    {
      "cell_type": "markdown",
      "metadata": {
        "cell_id": "e9fd544dc32a476aaa0f5b5d2e7a89cd",
        "deepnote_cell_type": "markdown",
        "id": "0JaVJAV0A9L8"
      },
      "source": [
        "Now we are ready to determine which proposition is more likely to have the required number of sixes:"
      ]
    },
    {
      "cell_type": "code",
      "metadata": {
        "cell_id": "17c7a88335ed46ce885f1ef138a55dd1",
        "deepnote_cell_type": "code",
        "colab": {
          "base_uri": "https://localhost:8080/"
        },
        "id": "_khLkYPmA9L8",
        "outputId": "4ae10091-bd9b-4a07-97be-56f2923c9f19"
      },
      "source": [
        "P(at_least(1, '6'), dice(6, die6))"
      ],
      "execution_count": null,
      "outputs": [
        {
          "output_type": "execute_result",
          "data": {
            "text/plain": [
              "0.665102023319616"
            ]
          },
          "metadata": {},
          "execution_count": 60
        }
      ]
    },
    {
      "cell_type": "code",
      "metadata": {
        "cell_id": "3a694edcba604744af689b179b3d056c",
        "deepnote_cell_type": "code",
        "colab": {
          "base_uri": "https://localhost:8080/"
        },
        "id": "I8Biem1eA9L9",
        "outputId": "7c2555f8-29b7-4301-e3e8-3d8339d3caf9"
      },
      "source": [
        "P(at_least(2, '6'), dice(12, die6))"
      ],
      "execution_count": null,
      "outputs": [
        {
          "output_type": "execute_result",
          "data": {
            "text/plain": [
              "0.61866737373231"
            ]
          },
          "metadata": {},
          "execution_count": 61
        }
      ]
    },
    {
      "cell_type": "code",
      "metadata": {
        "cell_id": "a885f0ff52bb47b49ad38f7f9e59cd8a",
        "deepnote_cell_type": "code",
        "colab": {
          "base_uri": "https://localhost:8080/"
        },
        "id": "ASXD17-iA9L9",
        "outputId": "ddf6e9fb-82db-458b-b509-4d258f343804"
      },
      "source": [
        "P(at_least(3, '6'), dice(18, die6))"
      ],
      "execution_count": null,
      "outputs": [
        {
          "output_type": "execute_result",
          "data": {
            "text/plain": [
              "0.5973456859477678"
            ]
          },
          "metadata": {},
          "execution_count": 62
        }
      ]
    },
    {
      "cell_type": "markdown",
      "metadata": {
        "cell_id": "2ca5814000d04695a920007cfaaca61b",
        "deepnote_cell_type": "markdown",
        "id": "ayVb-0CMA9L9"
      },
      "source": [
        "We reach the same conclusion Newton did, that the best chance is rolling six dice."
      ]
    },
    {
      "cell_type": "markdown",
      "metadata": {
        "button": false,
        "new_sheet": false,
        "run_control": {
          "read_only": false
        },
        "cell_id": "09c15d8986b440b882b75a3fc2556256",
        "deepnote_cell_type": "markdown",
        "id": "ydOnEo4-A9L9"
      },
      "source": [
        "# More Urn Problems: M&Ms and Bayes\n",
        "\n",
        "Here's another urn problem (actually a \"bag\" problem) [from](http://allendowney.blogspot.com/2011/10/my-favorite-bayess-theorem-problems.html) prolific Python/Probability pundit [Allen Downey ](http://allendowney.blogspot.com/):\n",
        "\n",
        "> The blue M&M was introduced in 1995.  Before then, the color mix in a bag of plain M&Ms was (30% Brown, 20% Yellow, 20% Red, 10% Green, 10% Orange, 10% Tan).  Afterward it was (24% Blue , 20% Green, 16% Orange, 14% Yellow, 13% Red, 13% Brown).\n",
        "A friend of mine has two bags of M&Ms, and he tells me that one is from 1994 and one from 1996.  He won't tell me which is which, but he gives me one M&M from each bag.  One is yellow and one is green.  What is the probability that the yellow M&M came from the 1994 bag?\n",
        "\n",
        "To solve this problem, we'll first create distributions for each bag: `bag94` and `bag96`:"
      ]
    },
    {
      "cell_type": "code",
      "metadata": {
        "button": false,
        "new_sheet": false,
        "run_control": {
          "read_only": false
        },
        "cell_id": "43bdb53e80704da5813246e046e9e9fd",
        "deepnote_cell_type": "code",
        "id": "2lQ2ynsYA9L9"
      },
      "source": [
        "bag94 = Dist(brown=30, yellow=20, red=20, green=10, orange=10, tan=10)\n",
        "bag96 = Dist(blue=24, green=20, orange=16, yellow=14, red=13, brown=13)"
      ],
      "execution_count": null,
      "outputs": []
    },
    {
      "cell_type": "markdown",
      "metadata": {
        "button": false,
        "new_sheet": false,
        "run_control": {
          "read_only": false
        },
        "cell_id": "0bbaa32cac254881a5d7251974dbcb92",
        "deepnote_cell_type": "markdown",
        "id": "7L9k1jiqA9L9"
      },
      "source": [
        "Next, define `MM` as the joint distribution&mdash;the sample space for picking one M&M from each bag. The outcome `'94:yellow 96:green'` means that a yellow M&M was selected from the 1994 bag and a green one from the 1996 bag. In this problem we don't get to see the actual outcome; we just see some evidence about the outcome, that it contains a yellow and a green."
      ]
    },
    {
      "cell_type": "code",
      "metadata": {
        "button": false,
        "new_sheet": false,
        "run_control": {
          "read_only": false
        },
        "cell_id": "d8addbb91f214a049ede1d4054f1d6c2",
        "deepnote_cell_type": "code",
        "colab": {
          "base_uri": "https://localhost:8080/"
        },
        "id": "zK6yGeWdA9L9",
        "outputId": "64616a5f-2ba5-4574-bce1-b1091503172a"
      },
      "source": [
        "MM = joint(bag94, bag96, '94:{} 96:{}'.format)\n",
        "MM"
      ],
      "execution_count": null,
      "outputs": [
        {
          "output_type": "execute_result",
          "data": {
            "text/plain": [
              "Dist({'94:brown 96:blue': 720,\n",
              "      '94:brown 96:green': 600,\n",
              "      '94:brown 96:orange': 480,\n",
              "      '94:brown 96:yellow': 420,\n",
              "      '94:brown 96:red': 390,\n",
              "      '94:brown 96:brown': 390,\n",
              "      '94:yellow 96:blue': 480,\n",
              "      '94:yellow 96:green': 400,\n",
              "      '94:yellow 96:orange': 320,\n",
              "      '94:yellow 96:yellow': 280,\n",
              "      '94:yellow 96:red': 260,\n",
              "      '94:yellow 96:brown': 260,\n",
              "      '94:red 96:blue': 480,\n",
              "      '94:red 96:green': 400,\n",
              "      '94:red 96:orange': 320,\n",
              "      '94:red 96:yellow': 280,\n",
              "      '94:red 96:red': 260,\n",
              "      '94:red 96:brown': 260,\n",
              "      '94:green 96:blue': 240,\n",
              "      '94:green 96:green': 200,\n",
              "      '94:green 96:orange': 160,\n",
              "      '94:green 96:yellow': 140,\n",
              "      '94:green 96:red': 130,\n",
              "      '94:green 96:brown': 130,\n",
              "      '94:orange 96:blue': 240,\n",
              "      '94:orange 96:green': 200,\n",
              "      '94:orange 96:orange': 160,\n",
              "      '94:orange 96:yellow': 140,\n",
              "      '94:orange 96:red': 130,\n",
              "      '94:orange 96:brown': 130,\n",
              "      '94:tan 96:blue': 240,\n",
              "      '94:tan 96:green': 200,\n",
              "      '94:tan 96:orange': 160,\n",
              "      '94:tan 96:yellow': 140,\n",
              "      '94:tan 96:red': 130,\n",
              "      '94:tan 96:brown': 130})"
            ]
          },
          "metadata": {},
          "execution_count": 64
        }
      ]
    },
    {
      "cell_type": "markdown",
      "metadata": {
        "button": false,
        "new_sheet": false,
        "run_control": {
          "read_only": false
        },
        "cell_id": "551b57d99f644d0dbefdab29ccf248af",
        "deepnote_cell_type": "markdown",
        "id": "cPlCLQQNA9L9"
      },
      "source": [
        "We observe that \"One is yellow and one is green\":"
      ]
    },
    {
      "cell_type": "code",
      "metadata": {
        "button": false,
        "new_sheet": false,
        "run_control": {
          "read_only": false
        },
        "cell_id": "96a290c91dac4b97a6a796d610686693",
        "deepnote_cell_type": "code",
        "colab": {
          "base_uri": "https://localhost:8080/"
        },
        "id": "Rx5p7mZRA9L-",
        "outputId": "0ada88da-6b40-4a53-effe-04846f15edd3"
      },
      "source": [
        "def yellow_and_green(outcome): return 'yellow' in outcome and 'green' in outcome\n",
        "\n",
        "favorable(yellow_and_green, MM)"
      ],
      "execution_count": null,
      "outputs": [
        {
          "output_type": "execute_result",
          "data": {
            "text/plain": [
              "Dist({'94:yellow 96:green': 400, '94:green 96:yellow': 140})"
            ]
          },
          "metadata": {},
          "execution_count": 65
        }
      ]
    },
    {
      "cell_type": "markdown",
      "metadata": {
        "cell_id": "e243e865639f48d6a669d8f78bdf5fd3",
        "deepnote_cell_type": "markdown",
        "id": "eD8Eehu1A9L-"
      },
      "source": [
        "Given this observation, we want to know \"What is the probability that the yellow M&M came from the 1994 bag?\""
      ]
    },
    {
      "cell_type": "code",
      "metadata": {
        "button": false,
        "new_sheet": false,
        "run_control": {
          "read_only": false
        },
        "cell_id": "ae55fba06d724271ab70033eac06f272",
        "deepnote_cell_type": "code",
        "colab": {
          "base_uri": "https://localhost:8080/"
        },
        "id": "geFT-erJA9L-",
        "outputId": "2ae77624-2d35-4c2f-d774-5caddd06f6a3"
      },
      "source": [
        "def yellow94(outcome): return '94:yellow' in outcome\n",
        "\n",
        "P(yellow94, favorable(yellow_and_green, MM))"
      ],
      "execution_count": null,
      "outputs": [
        {
          "output_type": "execute_result",
          "data": {
            "text/plain": [
              "0.7407407407407407"
            ]
          },
          "metadata": {},
          "execution_count": 66
        }
      ]
    },
    {
      "cell_type": "markdown",
      "metadata": {
        "button": false,
        "new_sheet": false,
        "run_control": {
          "read_only": false
        },
        "cell_id": "49b4312a632d42e6be1eeaae613fb012",
        "deepnote_cell_type": "markdown",
        "id": "aMQFlOvDA9L_"
      },
      "source": [
        "So there is a 74% chance that the yellow comes from the 1994 bag.\n",
        "\n",
        "Answering this question was straightforward: just like all the other probability problems, we simply create a sample space, and use `P` to pick out the probability of the event in question, given what we know about the outcome.\n",
        "But in a sense it is curious that we were able to solve this problem with the same methodology as the others: this problem comes from a section titled **My favorite Bayes's Theorem Problems**, so one would expect that we'd need to invoke Bayes Theorem to solve it.  The computation above shows that that is not necessary.\n",
        "\n",
        "![Bayes](http://img1.ph.126.net/xKZAzeOv_mI8a4Lwq7PHmw==/2547911489202312541.jpg)\n",
        "<center><a href=\"https://en.wikipedia.org/wiki/Thomas_Bayes\">Rev. Thomas Bayes</a><br>1701-1761\n",
        "</center>\n",
        "\n",
        "Of course, we *could* solve it using Bayes Theorem. Why is Bayes Theorem recommended? Because we are asked about the probability of an outcome given the evidence&mdash;the probability the yellow came from the 94 bag, given that there is a yellow and a green. But the problem statement doesn't directly tell us the probability of that outcome given the evidence; it just tells us the probability of the evidence given the outcome.\n",
        "\n",
        "Before we see the colors of the M&Ms, there are two hypotheses, `A` and `B`, both with equal probability:\n",
        "\n",
        "    A: first M&M from 94 bag, second from 96 bag\n",
        "    B: first M&M from 96 bag, second from 94 bag\n",
        "    P(A) = P(B) = 0.5\n",
        "    \n",
        "Then we get some evidence:\n",
        "    \n",
        "    E: first M&M yellow, second green\n",
        "    \n",
        "We want to know the probability of hypothesis `A`, given the evidence:\n",
        "    \n",
        "    P(A | E)\n",
        "    \n",
        "That's not easy to calculate (except by enumerating the sample space, which our `P` function does). But Bayes Theorem says:\n",
        "    \n",
        "    P(A | E) = P(E | A) * P(A) / P(E)\n",
        "    \n",
        "The quantities on the right-hand-side are easier to calculate:\n",
        "    \n",
        "    P(E | A) = 0.20 * 0.20 = 0.04\n",
        "    P(E | B) = 0.10 * 0.14 = 0.014\n",
        "    P(A)     = 0.5\n",
        "    P(B)     = 0.5\n",
        "    P(E)     = P(E | A) * P(A) + P(E | B) * P(B)\n",
        "             = 0.04     * 0.5  + 0.014    * 0.5   =   0.027\n",
        "    \n",
        "And we can get a final answer:\n",
        "    \n",
        "    P(A | E) = P(E | A) * P(A) / P(E)\n",
        "             = 0.04     * 0.5  / 0.027\n",
        "             = 0.7407407407\n",
        "             \n",
        "You have a choice: Bayes Theorem allows you to do less calculation at the cost of more algebra; that is a great trade-off if you are working with pencil and paper. Enumerating the sample space allows you to do less algebra at the cost of more calculation; usually a good trade-off if you have a computer. But regardless of the approach you use, it is important to understand Bayes theorem and how it works.\n",
        "\n",
        "There is one important question that Allen Downey does not address: *would you  eat twenty-year-old M&Ms*?\n",
        "&#128552;"
      ]
    },
    {
      "cell_type": "markdown",
      "metadata": {
        "button": false,
        "deletable": true,
        "new_sheet": false,
        "run_control": {
          "read_only": false
        },
        "cell_id": "55d1e57f924f46919f1eab219cb6f442",
        "deepnote_cell_type": "markdown",
        "id": "XEAwfn7xA9L_"
      },
      "source": [
        "<hr>\n",
        "\n",
        "# Simulation\n",
        "\n",
        "Sometimes it is inconvenient, difficult, or even impossible to explicitly enumerate a sample space. Perhaps the sample space is infinite, or perhaps it is just very large and complicated (perhaps with a bunch of low-probability outcomes that don't seem very important). In that case, we might feel more confident in writing a program to *simulate* a random outcome. *Random sampling* from such a simulation\n",
        "can give an accurate estimate of probability.\n",
        "\n",
        "# Simulating Monopoly\n",
        "\n",
        "![Mr. Monopoly](http://buckwolf.org/a.abcnews.com/images/Entertainment/ho_hop_go_050111_t.jpg)<center>[Mr. Monopoly](https://en.wikipedia.org/wiki/Rich_Uncle_Pennybags)<br>1940&mdash;\n",
        "\n",
        "Consider [problem 84](https://projecteuler.net/problem=84) from the excellent [Project Euler](https://projecteuler.net), which asks for the probability that a player in the game Monopoly ends a roll on each of the squares on the board.  To answer this we need to take into account die rolls, chance and community chest cards, and going to jail (from the \"go to jail\" space, from a card, or from rolling doubles three times in a row). We do not need to take into account anything about acquiring properties or exchanging money or winning or losing the game, because these events don't change a player's location.\n",
        "\n",
        "A game of Monopoly can go on forever, so the sample space is infinite. Even if we limit the sample space to say, 1000 rolls, there are $21^{1000}$ such sequences of rolls, and even more possibilities when we consider drawing cards. So it is infeasible to explicitly represent the sample space. There are techniques for representing the problem as\n",
        "a Markov decision problem (MDP) and solving it, but the math is complex (a [paper](https://faculty.math.illinois.edu/~bishop/monopoly.pdf) on the subject runs 15 pages).\n",
        "\n",
        "The simplest approach is to implement a simulation and run it for, say, a million rolls.  Here is the code for a simulation:"
      ]
    },
    {
      "cell_type": "code",
      "metadata": {
        "cell_id": "128d20640f8347788946df105fe7acf3",
        "deepnote_cell_type": "code",
        "id": "f3lbZK3tA9L_"
      },
      "source": [
        "from collections import deque as Deck # a Deck of community chest or chance cards\n",
        "\n",
        "# The Monopoly board, as specified by https://projecteuler.net/problem=84\n",
        "(GO,   A1, CC1, A2,  T1, R1, B1,  CH1, B2, B3,\n",
        " JAIL, C1, U1,  C2,  C3, R2, D1,  CC2, D2, D3,\n",
        " FP,   E1, CH2, E2,  E3, R3, F1,  F2,  U2, F3,\n",
        " G2J,  G1, G2,  CC3, G3, R4, CH3, H1,  T2, H2) = board = range(40)\n",
        "\n",
        "# A card is either a square, a set of squares meaning advance to the nearest,\n",
        "# a -3 to go back 3 spaces, or None meaning no change to location.\n",
        "CC_deck = Deck([GO, JAIL] +  14 * [None])\n",
        "CH_deck = Deck([GO, JAIL, C1, E3, H2, R1, -3, {U1, U2}]\n",
        "               + 2 * [{R1, R2, R3, R4}] + 6 * [None])\n",
        "\n",
        "def monopoly(rolls):\n",
        "    \"\"\"Simulate given number of dice rolls of a Monopoly game,\n",
        "    and return the counts of how often each square is visited.\"\"\"\n",
        "    counts = [0] * len(board)\n",
        "    doubles = 0 # Number of consecutive doubles rolled\n",
        "    random.shuffle(CC_deck)\n",
        "    random.shuffle(CH_deck)\n",
        "    goto(GO)\n",
        "    for _ in range(rolls):\n",
        "        d1, d2 = random.randint(1, 6), random.randint(1, 6)\n",
        "        doubles = (doubles + 1 if d1 == d2 else 0)\n",
        "        goto(here + d1 + d2)\n",
        "        if here == G2J or doubles == 3:\n",
        "            goto(JAIL)\n",
        "            doubles = 0\n",
        "        elif here in (CC1, CC2, CC3):\n",
        "            do_card(CC_deck)\n",
        "        elif here in (CH1, CH2, CH3):\n",
        "            do_card(CH_deck)\n",
        "        counts[here] += 1\n",
        "    return counts\n",
        "\n",
        "def goto(square):\n",
        "    \"Update 'here' to be this square (and handle passing GO).\"\n",
        "    global here\n",
        "    here = square % len(board)\n",
        "\n",
        "def do_card(deck):\n",
        "    \"Take the top card from deck and do what it says.\"\n",
        "    card = deck.popleft()       # The top card\n",
        "    deck.append(card)           # Move top card to bottom of deck\n",
        "    if card == None:            # Don't move\n",
        "        pass\n",
        "    elif card == -3:            # Go back 3 spaces\n",
        "        goto(here - 3)\n",
        "    elif isinstance(card, set): # Advance to next railroad or utility\n",
        "        next1 = min({place for place in card if place > here} or card)\n",
        "        goto(next1)\n",
        "    else:                       # Go to destination named on card\n",
        "        goto(card)"
      ],
      "execution_count": null,
      "outputs": []
    },
    {
      "cell_type": "markdown",
      "metadata": {
        "button": false,
        "deletable": true,
        "new_sheet": false,
        "run_control": {
          "read_only": false
        },
        "cell_id": "29eb961f239243bb81c9e9a83812fd58",
        "deepnote_cell_type": "markdown",
        "id": "_om5oQgjA9L_"
      },
      "source": [
        "Let's run the simulation for a million dice rolls:"
      ]
    },
    {
      "cell_type": "code",
      "metadata": {
        "button": false,
        "deletable": true,
        "new_sheet": false,
        "run_control": {
          "read_only": false
        },
        "cell_id": "5cc32c046a954e998557da170ad329d2",
        "deepnote_cell_type": "code",
        "id": "duMet-phA9L_"
      },
      "source": [
        "counts = monopoly(10**6)"
      ],
      "execution_count": null,
      "outputs": []
    },
    {
      "cell_type": "markdown",
      "metadata": {
        "button": false,
        "deletable": true,
        "new_sheet": false,
        "run_control": {
          "read_only": false
        },
        "cell_id": "dc2d02fe51c84101bf7285b0f9cf9130",
        "deepnote_cell_type": "markdown",
        "id": "J5CpJR1yA9L_"
      },
      "source": [
        "And print a table of square names and their percentages:"
      ]
    },
    {
      "cell_type": "code",
      "metadata": {
        "button": false,
        "deletable": true,
        "new_sheet": false,
        "run_control": {
          "read_only": false
        },
        "cell_id": "c39be1ed7427493c84d0b0e010a4602f",
        "deepnote_cell_type": "code",
        "colab": {
          "base_uri": "https://localhost:8080/"
        },
        "id": "-3q-RY8MA9L_",
        "outputId": "36bc7d29-3bbc-4cf8-bf4e-15f0821bead6"
      },
      "source": [
        "property_names = \"\"\"\n",
        " GO,   A1, CC1, A2,  T1, R1, B1,  CH1, B2, B3,\n",
        " JAIL, C1, U1,  C2,  C3, R2, D1,  CC2, D2, D3,\n",
        " FP,   E1, CH2, E2,  E3, R3, F1,  F2,  U2, F3,\n",
        " G2J,  G1, G2,  CC3, G3, R4, CH3, H1,  T2, H2\"\"\".replace(',', ' ').split()\n",
        "\n",
        "for (c, n) in sorted(zip(counts, property_names), reverse=True):\n",
        "    print('{:4} {:.2%}'.format(n, c / sum(counts)))"
      ],
      "execution_count": null,
      "outputs": [
        {
          "output_type": "stream",
          "name": "stdout",
          "text": [
            "JAIL 6.22%\n",
            "E3   3.20%\n",
            "GO   3.11%\n",
            "D3   3.07%\n",
            "R3   3.06%\n",
            "R1   2.95%\n",
            "R2   2.94%\n",
            "D2   2.92%\n",
            "FP   2.89%\n",
            "E1   2.86%\n",
            "U2   2.80%\n",
            "D1   2.79%\n",
            "E2   2.73%\n",
            "F1   2.71%\n",
            "C1   2.71%\n",
            "G1   2.68%\n",
            "F2   2.67%\n",
            "H2   2.63%\n",
            "G2   2.62%\n",
            "U1   2.61%\n",
            "CC2  2.60%\n",
            "F3   2.59%\n",
            "C3   2.48%\n",
            "G3   2.48%\n",
            "R4   2.45%\n",
            "CC3  2.40%\n",
            "C2   2.36%\n",
            "T1   2.33%\n",
            "B2   2.32%\n",
            "B3   2.28%\n",
            "B1   2.23%\n",
            "A2   2.20%\n",
            "H1   2.18%\n",
            "T2   2.17%\n",
            "A1   2.11%\n",
            "CC1  1.88%\n",
            "CH2  1.05%\n",
            "CH1  0.88%\n",
            "CH3  0.86%\n",
            "G2J  0.00%\n"
          ]
        }
      ]
    },
    {
      "cell_type": "markdown",
      "metadata": {
        "button": false,
        "deletable": true,
        "new_sheet": false,
        "run_control": {
          "read_only": false
        },
        "cell_id": "7d0cf0289f76431a850378a8f511966f",
        "deepnote_cell_type": "markdown",
        "id": "ty0rS9dRA9MA"
      },
      "source": [
        "There is one square far above average: `JAIL`, at a little over 6%. There are four squares far below average: the three chance squares, `CH1`, `CH2`, and `CH3`, at around 1% (because 10 of the 16 chance cards send the player away from the square), and the \"Go to Jail\" square, which has a frequency of 0 because you can't end a turn there. The other squares are around 2% to 3% each, which you would expect, because 100% / 40 = 2.5%."
      ]
    },
    {
      "cell_type": "markdown",
      "metadata": {
        "cell_id": "649c04c7fe55485abe328f4c19f9555d",
        "deepnote_cell_type": "markdown",
        "id": "hbzntDhpA9MA"
      },
      "source": [
        "# The Central Limit Theorem\n",
        "\n",
        "We have covered the concept of *distributions* of outcomes. You may have heard of the *normal distribution*, the *bell-shaped curve.* In Python it is called `random.normalvariate` (also `random.gauss`). We can plot it with the help of the `repeated_hist` function defined below, which samples a distribution `n` times and displays a histogram of the results. (*Note:* in this section I am using \"distribution\" to mean a function that, each time it is called, returns a random sample from a distribution. I am not using it to mean a mapping of type `Dist`.)"
      ]
    },
    {
      "cell_type": "code",
      "metadata": {
        "cell_id": "d262772b2dc5404fb13e4cb7aaf56651",
        "deepnote_cell_type": "code",
        "id": "FdK_EhSUA9MA"
      },
      "source": [
        "%matplotlib inline\n",
        "import matplotlib.pyplot as plt\n",
        "from statistics import mean\n",
        "from random import normalvariate, triangular, choice, vonmisesvariate, uniform\n",
        "\n",
        "def normal(mu=0, sigma=1): return random.normalvariate(mu, sigma)\n",
        "\n",
        "def repeated_hist(dist, n=10**6, bins=100):\n",
        "    \"Sample the distribution n times and make a histogram of the results.\"\n",
        "    samples = [dist() for _ in range(n)]\n",
        "    plt.hist(samples, bins=bins, density=True)\n",
        "    plt.title('{} (μ = {:.1f})'.format(dist.__name__, mean(samples)))\n",
        "    plt.grid(axis='x')\n",
        "    plt.yticks([], '')\n",
        "    plt.show()"
      ],
      "execution_count": null,
      "outputs": []
    },
    {
      "cell_type": "code",
      "metadata": {
        "cell_id": "737dddcfb16d41bc8cd94d4dabc3b189",
        "deepnote_cell_type": "code",
        "colab": {
          "base_uri": "https://localhost:8080/",
          "height": 452
        },
        "id": "lA-W0LbOA9MA",
        "outputId": "afe8c2b6-bf15-4b6f-f3e4-501cee74dcb7"
      },
      "source": [
        "# Normal distribution\n",
        "repeated_hist(normal)"
      ],
      "execution_count": null,
      "outputs": [
        {
          "output_type": "display_data",
          "data": {
            "text/plain": [
              "<Figure size 640x480 with 1 Axes>"
            ],
            "image/png": "[encoded data removed]"
          },
          "metadata": {}
        }
      ]
    },
    {
      "cell_type": "markdown",
      "metadata": {
        "cell_id": "6321374f3b7c4bcd9d3ee2b15c70a4ce",
        "deepnote_cell_type": "markdown",
        "id": "lsVgsBMVA9MA"
      },
      "source": [
        "Why is this distribution called *normal*? The **Central Limit Theorem** says  that it is the ultimate limit of other distributions, as follows (informally):\n",
        "- Gather *k* independent distributions. They need not be normal-shaped.\n",
        "- Define a new distribution to be the result of sampling one number from each of the *k* independent distributions and adding them up.\n",
        "- As long as *k* is not too small, and the component distributions are not super-pathological, then the new distribution will tend towards a normal distribution.\n",
        "\n",
        "Here's a simple example: summing ten independent die rolls:"
      ]
    },
    {
      "cell_type": "code",
      "metadata": {
        "cell_id": "fd4e335ccfc54f9e9f97227170c9d813",
        "deepnote_cell_type": "code",
        "colab": {
          "base_uri": "https://localhost:8080/",
          "height": 452
        },
        "id": "VW9zYV_cA9MA",
        "outputId": "7b189b07-137d-498c-afa9-fbfccfa45937"
      },
      "source": [
        "def sum10dice(): return sum(random.randint(1, 6) for _ in range(10))\n",
        "\n",
        "repeated_hist(sum10dice, bins=range(10, 61))"
      ],
      "execution_count": null,
      "outputs": [
        {
          "output_type": "display_data",
          "data": {
            "text/plain": [
              "<Figure size 640x480 with 1 Axes>"
            ],
            "image/png": "[encoded data removed]"
          },
          "metadata": {}
        }
      ]
    },
    {
      "cell_type": "markdown",
      "metadata": {
        "cell_id": "1db44ca743cc4aaf8621766e01993659",
        "deepnote_cell_type": "markdown",
        "id": "k-Snzr_4A9MA"
      },
      "source": [
        "As another example, let's take just *k* = 5 component distributions representing the per-game scores of 5 basketball players, and then sum them together to form the new distribution, the team score. I'll be creative in defining the distributions for each player, but [historically accurate](https://www.basketball-reference.com/teams/GSW/2016.html) in the mean for each distribution."
      ]
    },
    {
      "cell_type": "code",
      "metadata": {
        "cell_id": "d970129b89a54b2abce3a5064281b9c3",
        "deepnote_cell_type": "code",
        "id": "jK7MJFYbA9MA"
      },
      "source": [
        "def SC(): return max(0, normal(12.1, 3) + 3 * triangular(1, 13, 4))                     # 30.1\n",
        "def KT(): return max(0, triangular(8, 22, 15.3) + choice((0, 3 * triangular(1, 9, 4)))) # 22.1\n",
        "def DG(): return max(0, vonmisesvariate(30, 2) * 3.08)                                  # 14.0\n",
        "def HB(): return max(0, choice((normal(6.7, 1.5), normal(16.7, 2.5))))                  # 11.7\n",
        "def BE(): return max(0, normal(17, 3) + uniform(0, 40))                                 # 37.0\n",
        "\n",
        "team = (SC, KT, DG, HB, BE)\n",
        "\n",
        "def Team(team=team): return sum(player() for player in team)"
      ],
      "execution_count": null,
      "outputs": []
    },
    {
      "cell_type": "code",
      "metadata": {
        "cell_id": "050a57e34b6d41ecb052202220598887",
        "deepnote_cell_type": "code",
        "colab": {
          "base_uri": "https://localhost:8080/",
          "height": 1000
        },
        "id": "2s-SKP3BA9MA",
        "outputId": "0150cb48-0336-47eb-8b8b-5debab49040f"
      },
      "source": [
        "for player in team:\n",
        "    repeated_hist(player, bins=range(70))"
      ],
      "execution_count": null,
      "outputs": [
        {
          "output_type": "display_data",
          "data": {
            "text/plain": [
              "<Figure size 640x480 with 1 Axes>"
            ],
            "image/png": "[encoded data removed]"
          },
          "metadata": {}
        },
        {
          "output_type": "display_data",
          "data": {
            "text/plain": [
              "<Figure size 640x480 with 1 Axes>"
            ],
            "image/png": "[encoded data removed]"
          },
          "metadata": {}
        },
        {
          "output_type": "display_data",
          "data": {
            "text/plain": [
              "<Figure size 640x480 with 1 Axes>"
            ],
            "image/png": "[encoded data removed]"
          },
          "metadata": {}
        },
        {
          "output_type": "display_data",
          "data": {
            "text/plain": [
              "<Figure size 640x480 with 1 Axes>"
            ],
            "image/png": "[encoded data removed]"
          },
          "metadata": {}
        },
        {
          "output_type": "display_data",
          "data": {
            "text/plain": [
              "<Figure size 640x480 with 1 Axes>"
            ],
            "image/png": "[encoded data removed]"
          },
          "metadata": {}
        }
      ]
    },
    {
      "cell_type": "markdown",
      "metadata": {
        "cell_id": "8860ae8b1af04f84bad68d4c4e163a6c",
        "deepnote_cell_type": "markdown",
        "id": "sMNHeuetA9MB"
      },
      "source": [
        "We can see that none of the players have a distribution that looks like a normal distribution: `SC` is skewed to one side (the mean is 5 points to the right of the peak); the three next players have bimodal distributions; and `BE` is too flat on top.\n",
        "\n",
        "Now we define the team score to be the sum of the *k* = 5 players, and display this new distribution:"
      ]
    },
    {
      "cell_type": "code",
      "metadata": {
        "cell_id": "895ae86b8c5a4ae3808895edf331a21c",
        "deepnote_cell_type": "code",
        "colab": {
          "base_uri": "https://localhost:8080/",
          "height": 452
        },
        "id": "b1YB9TmAA9MB",
        "outputId": "09d35f39-34db-4018-f0f4-387d72581a2b"
      },
      "source": [
        "repeated_hist(Team, bins=range(50, 180))"
      ],
      "execution_count": null,
      "outputs": [
        {
          "output_type": "display_data",
          "data": {
            "text/plain": [
              "<Figure size 640x480 with 1 Axes>"
            ],
            "image/png": "[encoded data removed]"
          },
          "metadata": {}
        }
      ]
    },
    {
      "cell_type": "markdown",
      "metadata": {
        "cell_id": "e703307746d243bc8d64aaaad9715243",
        "deepnote_cell_type": "markdown",
        "id": "ecGnMMr5A9MB"
      },
      "source": [
        "Sure enough, this looks very much like a normal distribution. The **Central Limit Theorem** appears to hold in this case. But I have to say: \"Central Limit\" is not a very evocative name, so I propose we re-name this as the **Strength in Numbers Theorem**, to indicate the fact that if you have a lot of numbers, you tend to get the expected result."
      ]
    },
    {
      "cell_type": "markdown",
      "metadata": {
        "button": false,
        "deletable": true,
        "new_sheet": false,
        "run_control": {
          "read_only": false
        },
        "cell_id": "f94aa48482b04891ae61494d04aea98a",
        "deepnote_cell_type": "markdown",
        "id": "jIUhpOGsA9MC"
      },
      "source": [
        "# Conclusion\n",
        "\n",
        "We've had an interesting tour and met some giants of the field: Laplace, Bernoulli, Fermat, Pascal, Bayes, Newton, ... even Mr. Monopoly and The Count.\n",
        "\n",
        "The conclusion is: be methodical in defining the sample space and the event(s) of interest, and be careful in counting the number of outcomes in the numerator and denominator. and you can't go wrong. Easy as 1-2-3."
      ]
    },
    {
      "cell_type": "markdown",
      "metadata": {
        "cell_id": "5a7953d5f67e48d28f920a122a64d9bc",
        "deepnote_cell_type": "markdown",
        "id": "6ovXuNDwA9MC"
      },
      "source": [
        "<hr>\n",
        "\n",
        "# Appendix: Continuous Sample Spaces\n",
        "\n",
        "Everything up to here has been about discrete, finite sample spaces, where we can *enumerate* all the possible outcomes.\n",
        "\n",
        "But a reader asked about *continuous* sample spaces, such as the space of real numbers. The principles are the same: probability is still the ratio of the favorable cases to all the cases, but now instead of *counting* cases, we have to (in general) compute integrals to compare the sizes of cases.\n",
        "Here we will cover a simple example, which we first solve approximately by simulation, and then exactly by calculation.\n",
        "\n",
        "## The Hot New Game Show Problem: Simulation\n",
        "\n",
        "Oliver Roeder posed [this problem](http://fivethirtyeight.com/features/can-you-win-this-hot-new-game-show/) in the 538 *Riddler* blog:\n",
        "\n",
        ">Two players go on a hot new game show called *Higher Number Wins.* The two go into separate booths, and each presses a button, and a random number between zero and one appears on a screen. (At this point, neither knows the other’s number, but they do know the numbers are chosen from a standard uniform distribution.) They can choose to keep that first number, or to press the button again to discard the first number and get a second random number, which they must keep. Then, they come out of their booths and see the final number for each player on the wall. The lavish grand prize — a case full of gold bullion — is awarded to the player who kept the higher number. Which number is the optimal cutoff for players to discard their first number and choose another? Put another way, within which range should they choose to keep the first number, and within which range should they reject it and try their luck with a second number?\n",
        "\n",
        "We'll use this notation:\n",
        "- **A**, **B**: the two players.\n",
        "- *A*, *B*: the cutoff values they choose: the lower bound of the range of first numbers they will accept.\n",
        "- *a*, *b*: the actual random numbers that appear on the screen.\n",
        "\n",
        "For example, if player **A** chooses a cutoff of *A* = 0.6, that means that **A** would accept any first number greater than 0.6, and reject any number below that cutoff. The question is: What cutoff, *A*, should player **A** choose to maximize the chance of winning, that is, maximize P(*a* > *b*)?\n",
        "\n",
        "First, simulate the number that a player with a given cutoff gets (note that `random.random()` returns a float sampled uniformly from the interval [0..1]):"
      ]
    },
    {
      "cell_type": "code",
      "metadata": {
        "collapsed": true,
        "cell_id": "27931454fd0745908033f171d2d5b968",
        "deepnote_cell_type": "code",
        "id": "xHoWIfMrA9MC"
      },
      "source": [
        "number= random.random\n",
        "\n",
        "def strategy(cutoff):\n",
        "    \"Play the game with given cutoff, returning the first or second random number.\"\n",
        "    first = number()\n",
        "    return first if first > cutoff else number()"
      ],
      "execution_count": null,
      "outputs": []
    },
    {
      "cell_type": "code",
      "metadata": {
        "cell_id": "4b0dcdda633f40c9a5535e5fa17a5ea1",
        "deepnote_cell_type": "code",
        "colab": {
          "base_uri": "https://localhost:8080/"
        },
        "id": "BMrUOuS8A9MC",
        "outputId": "4eed618e-7c08-4afc-fb24-4b74a31f67c1"
      },
      "source": [
        "strategy(.5)"
      ],
      "execution_count": null,
      "outputs": [
        {
          "output_type": "execute_result",
          "data": {
            "text/plain": [
              "0.7490646940219511"
            ]
          },
          "metadata": {},
          "execution_count": 77
        }
      ]
    },
    {
      "cell_type": "markdown",
      "metadata": {
        "cell_id": "7caaa9605be14efb9edf80ec324c44ae",
        "deepnote_cell_type": "markdown",
        "id": "XBy6afshA9MC"
      },
      "source": [
        "Now compare the numbers returned with a cutoff of *A* versus a cutoff of *B*, and repeat for a large number of trials; this gives us an estimate of the probability that cutoff *A* is better than cutoff *B*:"
      ]
    },
    {
      "cell_type": "code",
      "metadata": {
        "collapsed": true,
        "cell_id": "45221d8344af430e91da37e7b36b563f",
        "deepnote_cell_type": "code",
        "id": "zPZ15jkMA9MC"
      },
      "source": [
        "def Pwin(A, B, trials=20000):\n",
        "    \"The probability that cutoff A wins against cutoff B.\"\n",
        "    return mean(strategy(A) > strategy(B)\n",
        "                for _ in range(trials))"
      ],
      "execution_count": null,
      "outputs": []
    },
    {
      "cell_type": "code",
      "metadata": {
        "cell_id": "d01e3477b27b4b709532628584906639",
        "deepnote_cell_type": "code",
        "colab": {
          "base_uri": "https://localhost:8080/"
        },
        "id": "IOiVnGfBA9MC",
        "outputId": "413d672e-47c7-4b3e-9665-1747c80f21cd"
      },
      "source": [
        "Pwin(0.6, 0.9)"
      ],
      "execution_count": null,
      "outputs": [
        {
          "output_type": "execute_result",
          "data": {
            "text/plain": [
              "0.56845"
            ]
          },
          "metadata": {},
          "execution_count": 79
        }
      ]
    },
    {
      "cell_type": "markdown",
      "metadata": {
        "cell_id": "7b7f8a95a071477e87a939d2eb735313",
        "deepnote_cell_type": "markdown",
        "id": "7tSdnDnsA9MC"
      },
      "source": [
        "Now define a function, `top`, that considers a collection of possible cutoffs, estimate the probability for each cutoff playing against each other cutoff, and returns a list with the `N` top cutoffs (the ones that defeated the most number of opponent cutoffs), and the number of opponents they defeat:"
      ]
    },
    {
      "cell_type": "code",
      "metadata": {
        "collapsed": true,
        "cell_id": "41032bc8fe0649ed9ee0d90ff7b60c1e",
        "deepnote_cell_type": "code",
        "id": "oUVTtRy5A9MC"
      },
      "source": [
        "def top(N, cutoffs):\n",
        "    \"Return the N best cutoffs and the number of opponent cutoffs they beat.\"\n",
        "    winners = Counter(A if Pwin(A, B) > 0.5 else B\n",
        "                      for (A, B) in itertools.combinations(cutoffs, 2))\n",
        "    return winners.most_common(N)"
      ],
      "execution_count": null,
      "outputs": []
    },
    {
      "cell_type": "code",
      "metadata": {
        "cell_id": "8df1dec27e1e41b19850d845571d8c67",
        "deepnote_cell_type": "code",
        "colab": {
          "base_uri": "https://localhost:8080/"
        },
        "id": "VVI801KjA9MD",
        "outputId": "54d147e6-d7c3-4398-8ff5-29d20e1bc162"
      },
      "source": [
        "from numpy import arange\n",
        "\n",
        "top(10, arange(0.5, 1.0, 0.01))"
      ],
      "execution_count": null,
      "outputs": [
        {
          "output_type": "execute_result",
          "data": {
            "text/plain": [
              "[(0.6200000000000001, 46),\n",
              " (0.5800000000000001, 44),\n",
              " (0.6000000000000001, 44),\n",
              " (0.5700000000000001, 43),\n",
              " (0.6300000000000001, 43),\n",
              " (0.56, 42),\n",
              " (0.6100000000000001, 42),\n",
              " (0.54, 40),\n",
              " (0.5900000000000001, 40),\n",
              " (0.6400000000000001, 40)]"
            ]
          },
          "metadata": {},
          "execution_count": 81
        }
      ]
    },
    {
      "cell_type": "markdown",
      "metadata": {
        "cell_id": "02facaaa85d84d42aa2e84054278a941",
        "deepnote_cell_type": "markdown",
        "id": "zyeJyaCnA9MD"
      },
      "source": [
        "We get a good idea of the top cutoffs, but they are close to each other, so we can't quite be sure which is best, only that the best is somewhere around 0.60. We could get a better estimate by increasing the number of trials, but that would consume more time.\n",
        "\n",
        "## The Hot New Game Show Problem: Exact Calculation\n",
        "\n",
        "More promising is the possibility of making `Pwin(A, B)` an exact calculation. But before we get to `Pwin(A, B)`, let's solve a simpler problem: assume that both players **A** and **B** have chosen a cutoff, and have each received a number above the cutoff. What is the probability that **A** gets the higher number? We'll call this `Phigher(A, B)`. We can think of this as a two-dimensional sample space of points in the (*a*, *b*) plane, where *a* ranges from the cutoff *A* to 1 and *b* ranges from the cutoff B to 1. Here is a diagram of that two-dimensional sample space, with the cutoffs *A*=0.5 and *B*=0.6:\n",
        "\n",
        "<img src=\"http://norvig.com/ipython/probability2da.jpg\" width=413>\n",
        "\n",
        "The total area of the sample space is 0.5 &times; 0.4 = 0.20, and in general it is (1 - *A*) &middot; (1 - *B*). What about the favorable cases, where **A** beats **B**? That corresponds to the shaded triangle below:\n",
        "\n",
        "<img src=\"http://norvig.com/ipython/probability2d.jpg\" width=413>\n",
        "\n",
        "The area of a triangle is 1/2 the base times the height, or in this case, 0.4<sup>2</sup> / 2 = 0.08, and in general, (1 - *B*)<sup>2</sup> / 2. So in general we have:\n",
        "\n",
        "    Phigher(A, B) = favorable / total\n",
        "    favorable     = ((1 - B) ** 2) / 2\n",
        "    total         = (1 - A) * (1 - B)\n",
        "    Phigher(A, B) = (((1 - B) ** 2) / 2) / ((1 - A) * (1 - B))\n",
        "    Phigher(A, B) = (1 - B) / (2 * (1 - A))\n",
        "    \n",
        "And in this specific case we have:\n",
        "\n",
        "     A = 0.5; B = 0.6\n",
        "     favorable         = 0.4 ** 2 / 2 = 0.08\n",
        "     total             = 0.5 * 0.4    = 0.20\n",
        "     Phigher(0.5, 0.6) = 0.08 / 0.20  = 0.4\n",
        "\n",
        "But note that this only works when the cutoff *A* &le; *B*; when *A* > *B*, we need to reverse things. That gives us the code:"
      ]
    },
    {
      "cell_type": "code",
      "metadata": {
        "collapsed": true,
        "cell_id": "e98ed90f0d684abeb742177674a5edf3",
        "deepnote_cell_type": "code",
        "id": "2blOuARyA9MD"
      },
      "source": [
        "def Phigher(A, B):\n",
        "    \"Probability that a sample from [A..1] is higher than one from [B..1].\"\n",
        "    if A <= B:\n",
        "        return (1 - B) / (2 * (1 - A))\n",
        "    else:\n",
        "        return 1 - Phigher(B, A)"
      ],
      "execution_count": null,
      "outputs": []
    },
    {
      "cell_type": "code",
      "metadata": {
        "cell_id": "72b6e3d10d8242c5a6ba0ab952155ac5",
        "deepnote_cell_type": "code",
        "colab": {
          "base_uri": "https://localhost:8080/"
        },
        "id": "FbqJMQx1A9MD",
        "outputId": "408a1e4d-f4b2-4b15-f40e-3dc26bd4b4cd"
      },
      "source": [
        "Phigher(0.5, 0.6)"
      ],
      "execution_count": null,
      "outputs": [
        {
          "output_type": "execute_result",
          "data": {
            "text/plain": [
              "0.4"
            ]
          },
          "metadata": {},
          "execution_count": 83
        }
      ]
    },
    {
      "cell_type": "markdown",
      "metadata": {
        "cell_id": "37594779e4f04eb4ac85b235e0103342",
        "deepnote_cell_type": "markdown",
        "id": "MIj8eRSlA9MD"
      },
      "source": [
        "We're now ready to tackle the full game. There are four cases to consider, depending on whether **A** and **B** gets a first number that is above or below their cutoff choices:\n",
        "\n",
        "| first *a* | first *b* | P(*a*, *b*) | P(A wins &vert; *a*, *b*) |  Comment |\n",
        "|:-----:|:-----:| ----------- | ------------- | ------------ |\n",
        "| *a* > *A* | *b* > *B* | (1 - *A*) &middot; (1 - *B*) | Phigher(*A*, *B*) | Both above cutoff; both keep first numbers |\n",
        "| *a* < *A* | *b* < *B* | *A* &middot; *B* | Phigher(0, 0)  | Both below cutoff, both get new numbers from [0..1] |\n",
        "| *a* > *A* | *b* < *B* | (1 - *A*) &middot;  *B* | Phigher(*A*, 0) | **A** keeps number; **B** gets new number from [0..1] |\n",
        "| *a* < *A* | *b* > *B* | *A* &middot; (1 - *B*) | Phigher(0, *B*) | **A** gets new number from [0..1]; **B** keeps number |\n",
        "\n",
        "For example, the first row of this table says that the event of both first numbers being above their respective cutoffs has probability (1 - *A*) &middot; (1 - *B*), and if this does occur, then the probability of **A** winning is Phigher(*A*, *B*).\n",
        "We're ready to replace the old simulation-based `Pwin` with a new calculation-based version:"
      ]
    },
    {
      "cell_type": "code",
      "metadata": {
        "collapsed": true,
        "cell_id": "959428360968497d9ebac03d3c3a0bfc",
        "deepnote_cell_type": "code",
        "id": "4eg_aLOwA9MD"
      },
      "source": [
        "def Pwin(A, B):\n",
        "    \"With what probability does cutoff A win against cutoff B?\"\n",
        "    return ((1-A) * (1-B) * Phigher(A, B)  # both above cutoff\n",
        "            + A * B       * Phigher(0, 0)  # both below cutoff\n",
        "            + (1-A) * B   * Phigher(A, 0)  # A above, B below\n",
        "            + A * (1-B)   * Phigher(0, B)) # A below, B above"
      ],
      "execution_count": null,
      "outputs": []
    },
    {
      "cell_type": "code",
      "metadata": {
        "cell_id": "560061110a2c4be48294e065925d96c0",
        "deepnote_cell_type": "code",
        "colab": {
          "base_uri": "https://localhost:8080/"
        },
        "id": "5usrysXAA9MD",
        "outputId": "e8ace45c-63e7-4f14-b5a6-3f27465ca17f"
      },
      "source": [
        "Pwin(0.5, 0.6)"
      ],
      "execution_count": null,
      "outputs": [
        {
          "output_type": "execute_result",
          "data": {
            "text/plain": [
              "0.495"
            ]
          },
          "metadata": {},
          "execution_count": 85
        }
      ]
    },
    {
      "cell_type": "markdown",
      "metadata": {
        "cell_id": "93398e92d05645d19eaf86df19d05e64",
        "deepnote_cell_type": "markdown",
        "id": "_2x15yjlA9MD"
      },
      "source": [
        "`Pwin` relies on a lot of algebra. Let's define a few tests to check for obvious errors:"
      ]
    },
    {
      "cell_type": "code",
      "metadata": {
        "cell_id": "c90be2352644405c93bf2da869339310",
        "deepnote_cell_type": "code",
        "colab": {
          "base_uri": "https://localhost:8080/",
          "height": 35
        },
        "id": "dtWYgcwvA9ME",
        "outputId": "dbcc37fa-9589-441c-ae41-2e41717b1759"
      },
      "source": [
        "def test():\n",
        "    assert Phigher(0.5, 0.5) == Phigher(0.75, 0.75) == Phigher(0, 0) == 0.5\n",
        "    assert Pwin(0.5, 0.5) == Pwin(0.75, 0.75) == 0.5\n",
        "    assert Phigher(.6, .5) == 0.6\n",
        "    assert Phigher(.5, .6) == 0.4\n",
        "    return 'ok'\n",
        "\n",
        "test()"
      ],
      "execution_count": null,
      "outputs": [
        {
          "output_type": "execute_result",
          "data": {
            "text/plain": [
              "'ok'"
            ],
            "application/vnd.google.colaboratory.intrinsic+json": {
              "type": "string"
            }
          },
          "metadata": {},
          "execution_count": 86
        }
      ]
    },
    {
      "cell_type": "markdown",
      "metadata": {
        "cell_id": "6ad161b8608144d5943b7839d5d940bb",
        "deepnote_cell_type": "markdown",
        "id": "Gvf6MGmlA9ME"
      },
      "source": [
        "Let's repeat the calculation with our new, exact `Pwin`:"
      ]
    },
    {
      "cell_type": "code",
      "metadata": {
        "cell_id": "891ba0e9586347f294418d56d87195b7",
        "deepnote_cell_type": "code",
        "colab": {
          "base_uri": "https://localhost:8080/"
        },
        "id": "lk2YxxlNA9ME",
        "outputId": "e030c164-cd98-4a59-ff1f-d7bff2678538"
      },
      "source": [
        "top(10, arange(0.5, 1.0, 0.01))"
      ],
      "execution_count": null,
      "outputs": [
        {
          "output_type": "execute_result",
          "data": {
            "text/plain": [
              "[(0.6200000000000001, 49),\n",
              " (0.6100000000000001, 48),\n",
              " (0.6000000000000001, 47),\n",
              " (0.5900000000000001, 46),\n",
              " (0.6300000000000001, 45),\n",
              " (0.5800000000000001, 44),\n",
              " (0.5700000000000001, 43),\n",
              " (0.6400000000000001, 42),\n",
              " (0.56, 41),\n",
              " (0.55, 40)]"
            ]
          },
          "metadata": {},
          "execution_count": 87
        }
      ]
    },
    {
      "cell_type": "markdown",
      "metadata": {
        "cell_id": "b03a1aa235504b979274aca7526666a6",
        "deepnote_cell_type": "markdown",
        "id": "RrCMK4exA9ME"
      },
      "source": [
        "It is good to see that the simulation and the exact calculation are in rough agreement; that gives me more confidence in both of them. We see here that 0.62 defeats all the other cutoffs, and 0.61 defeats all cutoffs except 0.62. The great thing about the exact calculation code is that it runs fast, regardless of how much accuracy we want. We can zero in on the range around 0.6:"
      ]
    },
    {
      "cell_type": "code",
      "metadata": {
        "cell_id": "053427c38cac4430b8a87deeabc64855",
        "deepnote_cell_type": "code",
        "colab": {
          "base_uri": "https://localhost:8080/"
        },
        "id": "BzSFoqnpA9ME",
        "outputId": "d128034d-03f3-4213-89cb-1d47916419e2"
      },
      "source": [
        "top(10, arange(0.5, 0.7, 0.001))"
      ],
      "execution_count": null,
      "outputs": [
        {
          "output_type": "execute_result",
          "data": {
            "text/plain": [
              "[(0.6180000000000001, 199),\n",
              " (0.6170000000000001, 198),\n",
              " (0.6160000000000001, 197),\n",
              " (0.6190000000000001, 196),\n",
              " (0.6150000000000001, 195),\n",
              " (0.6140000000000001, 194),\n",
              " (0.6130000000000001, 193),\n",
              " (0.6200000000000001, 192),\n",
              " (0.6120000000000001, 191),\n",
              " (0.6110000000000001, 190)]"
            ]
          },
          "metadata": {},
          "execution_count": 88
        }
      ]
    },
    {
      "cell_type": "markdown",
      "metadata": {
        "cell_id": "77acdde3c5af4f86bb623d8e220fc110",
        "deepnote_cell_type": "markdown",
        "id": "4wCUq4bkA9ME"
      },
      "source": [
        "This says 0.618 is best, better than 0.620. We can get even more accuracy:"
      ]
    },
    {
      "cell_type": "code",
      "metadata": {
        "cell_id": "fdf76947cfe64dccbc4d3b1064ce8e93",
        "deepnote_cell_type": "code",
        "colab": {
          "base_uri": "https://localhost:8080/"
        },
        "id": "XP-p0bXQA9ME",
        "outputId": "83c23526-e3ca-42b8-d7d3-7ed8c8a1cbc3"
      },
      "source": [
        "top(10, arange(0.617, 0.619, 0.000001))"
      ],
      "execution_count": null,
      "outputs": [
        {
          "output_type": "execute_result",
          "data": {
            "text/plain": [
              "[(0.6180340000000297, 2000),\n",
              " (0.6180330000000297, 1999),\n",
              " (0.6180320000000297, 1998),\n",
              " (0.6180350000000298, 1997),\n",
              " (0.6180310000000296, 1996),\n",
              " (0.6180300000000296, 1995),\n",
              " (0.6180290000000296, 1994),\n",
              " (0.6180360000000298, 1993),\n",
              " (0.6180280000000296, 1992),\n",
              " (0.6180270000000295, 1991)]"
            ]
          },
          "metadata": {},
          "execution_count": 89
        }
      ]
    },
    {
      "cell_type": "markdown",
      "metadata": {
        "cell_id": "04b1ffb23f1847598db1950837662750",
        "deepnote_cell_type": "markdown",
        "id": "W2QzJ82AA9ME"
      },
      "source": [
        "So 0.618034 is best. Does that number [look familiar](https://en.wikipedia.org/wiki/Golden_ratio)? Can we prove that it is what I think it is?\n",
        "\n",
        "To understand the strategic possibilities, it is helpful to draw a 3D plot of `Pwin(A, B)` for values of *A* and *B* between 0 and 1:"
      ]
    },
    {
      "cell_type": "code",
      "metadata": {
        "cell_id": "fa3c225b3d1a4d76b747a61fc0bd8938",
        "deepnote_cell_type": "code",
        "colab": {
          "base_uri": "https://localhost:8080/",
          "height": 807
        },
        "id": "gp2X-B9LA9ME",
        "outputId": "016cd23d-37f7-4ddc-b5e5-d2b7bdf85e87"
      },
      "source": [
        "import numpy as np\n",
        "from mpl_toolkits.mplot3d.axes3d import Axes3D\n",
        "\n",
        "def map2(fn, A, B):\n",
        "    \"Map fn to corresponding elements of 2D arrays A and B.\"\n",
        "    return np.array([list(map(fn, Arow, Brow))\n",
        "            for (Arow, Brow) in zip(A, B)])\n",
        "\n",
        "cutoffs = arange(0.00, 1.00, 0.02)\n",
        "A, B = np.meshgrid(cutoffs, cutoffs)\n",
        "\n",
        "fig = plt.figure(figsize=(10,10))\n",
        "ax = fig.add_subplot(1, 1, 1, projection='3d')\n",
        "ax.set_xlabel('A')\n",
        "ax.set_ylabel('B')\n",
        "ax.set_zlabel('Pwin(A, B)')\n",
        "ax.plot_surface(A, B, map2(Pwin, A, B));"
      ],
      "execution_count": null,
      "outputs": [
        {
          "output_type": "display_data",
          "data": {
            "text/plain": [
              "<Figure size 1000x1000 with 1 Axes>"
            ],
            "image/png": "[encoded data removed]"
          },
          "metadata": {}
        }
      ]
    },
    {
      "cell_type": "markdown",
      "metadata": {
        "cell_id": "46cb6fc828624f8ea6217d12b8f66f9f",
        "deepnote_cell_type": "markdown",
        "id": "ITcJ9ZQpA9ME"
      },
      "source": [
        "What does this [Pringle of Probability](http://fivethirtyeight.com/features/should-you-shoot-free-throws-underhand/) show us? The highest win percentage for **A**, the peak of the surface, occurs when *A* is around 0.5 and *B* is 0 or 1. We can confirm that, finding the maximum `Pwin(A, B)` for many different cutoff values of `A` and `B`:"
      ]
    },
    {
      "cell_type": "code",
      "metadata": {
        "cell_id": "94164df067ec4ea6a46102ef0e78d1e4",
        "deepnote_cell_type": "code",
        "id": "WbZH_LmvA9MF"
      },
      "source": [
        "cutoffs = (set(arange(0.00,    1.00,    0.01)) |\n",
        "           set(arange(0.500,   0.700,   0.001)) |\n",
        "           set(arange(0.61803, 0.61804, 0.000001)))\n",
        "\n",
        "def Pwin_summary(A, B): return [Pwin(A, B), 'A:', A, 'B:', B]"
      ],
      "execution_count": null,
      "outputs": []
    },
    {
      "cell_type": "code",
      "metadata": {
        "cell_id": "16bfb2f0793f462d936ce1a4c7110c64",
        "deepnote_cell_type": "code",
        "colab": {
          "base_uri": "https://localhost:8080/"
        },
        "id": "5v8Gn1XJA9MF",
        "outputId": "ee445fd9-6903-4621-b67a-859a5fa5b565"
      },
      "source": [
        "max(Pwin_summary(A, B) for A in cutoffs for B in cutoffs)"
      ],
      "execution_count": null,
      "outputs": [
        {
          "output_type": "execute_result",
          "data": {
            "text/plain": [
              "[0.625, 'A:', 0.5, 'B:', 0.0]"
            ]
          },
          "metadata": {},
          "execution_count": 93
        }
      ]
    },
    {
      "cell_type": "markdown",
      "metadata": {
        "cell_id": "1720bfd65c104c05ac2950a52bfecea2",
        "deepnote_cell_type": "markdown",
        "id": "6i0r0cUXA9MF"
      },
      "source": [
        "So **A** could win 62.5% of the time if only **B** would chose a cutoff of 0. But, unfortunately for **A**, a rational player **B** is not going to do that. We can ask what happens if the game is changed so that player **A** has to declare a cutoff first, and then player **B** gets to respond with a cutoff, with full knowledge of **A**'s choice. In other words, what cutoff should **A** choose to maximize `Pwin(A, B)`, given that **B** is going to take that knowledge and pick a cutoff that minimizes `Pwin(A, B)`?"
      ]
    },
    {
      "cell_type": "code",
      "metadata": {
        "cell_id": "6000a683e5cc42d7bde6ec832b7c565b",
        "deepnote_cell_type": "code",
        "colab": {
          "base_uri": "https://localhost:8080/"
        },
        "id": "Gdg5Jm5GA9MF",
        "outputId": "fbd0c7b6-e6d4-44da-b5a3-662e7711a089"
      },
      "source": [
        "max(min(Pwin_summary(A, B) for B in cutoffs)\n",
        "    for A in cutoffs)"
      ],
      "execution_count": null,
      "outputs": [
        {
          "output_type": "execute_result",
          "data": {
            "text/plain": [
              "[0.5, 'A:', 0.6180340000000001, 'B:', 0.6180340000000001]"
            ]
          },
          "metadata": {},
          "execution_count": 98
        }
      ]
    },
    {
      "cell_type": "markdown",
      "metadata": {
        "cell_id": "46121388fb584ad38920f0ad64194d4d",
        "deepnote_cell_type": "markdown",
        "id": "1uVhIuArA9MF"
      },
      "source": [
        "And what if we run it the other way around, where **B** chooses a cutoff first, and then **A** responds?"
      ]
    },
    {
      "cell_type": "code",
      "metadata": {
        "cell_id": "8e83bd3aebd745c1903ef388ce4215d8",
        "deepnote_cell_type": "code",
        "colab": {
          "base_uri": "https://localhost:8080/"
        },
        "id": "PeVQythcA9MF",
        "outputId": "fdfe9df8-c6d3-41ec-b247-d994f981eec3"
      },
      "source": [
        "min(max(Pwin_summary(A, B) for A in cutoffs)\n",
        "    for B in cutoffs)"
      ],
      "execution_count": null,
      "outputs": [
        {
          "output_type": "execute_result",
          "data": {
            "text/plain": [
              "[0.5, 'A:', 0.6180340000000001, 'B:', 0.6180340000000001]"
            ]
          },
          "metadata": {},
          "execution_count": 99
        }
      ]
    },
    {
      "cell_type": "markdown",
      "metadata": {
        "cell_id": "6435c93f223842a2be246cf51ed51379",
        "deepnote_cell_type": "markdown",
        "id": "c-NgiETKA9MF"
      },
      "source": [
        "In both cases, the rational choice for both players in a cutoff of 0.618034, which corresponds to the  \"saddle point\" in the middle of the plot. This is a *stable equilibrium*; consider fixing *B* = 0.618034, and notice that if *A* changes to any other value, we slip off the saddle to the right or left, resulting in a worse win probability for **A**. Similarly, if we fix *A* = 0.618034, then if *B* changes to another value, we ride up the saddle to a higher win percentage for **A**, which is worse for **B**. So neither player will want to move from the saddle point.\n",
        "\n",
        "The moral for continuous spaces is the same as for discrete spaces: be careful about defining your sample space; measure carefully, and let your code take care of the rest."
      ]
    },
    {
      "cell_type": "markdown",
      "source": [
        "<a style='text-decoration:none;line-height:16px;display:flex;color:#5B5B62;padding:10px;justify-content:end;' href='https://deepnote.com?utm_source=created-in-deepnote-cell&projectId=5d6a1af3-6173-4c80-a2da-056926da54ee' target=\"_blank\">\n",
        "<img alt='Created in deepnote.com' style='display:inline;max-height:16px;margin:0px;margin-right:7.5px;' src='data:image/svg+xml;base64,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' > </img>\n",
        "Created in <span style='font-weight:600;margin-left:4px;'>Deepnote</span></a>"
      ],
      "metadata": {
        "created_in_deepnote_cell": true,
        "deepnote_cell_type": "markdown",
        "id": "YZhxGkdNA9MF"
      }
    }
  ],
  "nbformat": 4,
  "nbformat_minor": 0,
  "metadata": {
    "deepnote": {},
    "kernelspec": {
      "name": "python3",
      "language": "python",
      "display_name": "Python 3"
    },
    "language_info": {
      "name": "python",
      "version": "3.6.0",
      "mimetype": "text/x-python",
      "file_extension": ".py",
      "pygments_lexer": "ipython3",
      "codemirror_mode": {
        "name": "ipython",
        "version": 3
      },
      "nbconvert_exporter": "python"
    },
    "deepnote_notebook_id": "334d9b8296c34da793649b6b59b613ac",
    "deepnote_execution_queue": [],
    "colab": {
      "provenance": []
    }
  }
}