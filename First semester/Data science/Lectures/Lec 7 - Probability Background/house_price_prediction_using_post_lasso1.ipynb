{
  "metadata": {
    "kernelspec": {
      "language": "python",
      "display_name": "Python 3",
      "name": "python3"
    },
    "language_info": {
      "pygments_lexer": "ipython3",
      "nbconvert_exporter": "python",
      "version": "3.6.4",
      "file_extension": ".py",
      "codemirror_mode": {
        "name": "ipython",
        "version": 3
      },
      "name": "python",
      "mimetype": "text/x-python"
    },
    "colab": {
      "provenance": []
    }
  },
  "nbformat_minor": 0,
  "nbformat": 4,
  "cells": [
    {
      "cell_type": "code",
      "source": [
        "# This Python 3 environment comes with many helpful analytics libraries installed\n",
        "# It is defined by the kaggle/python Docker image: https://github.com/kaggle/docker-python\n",
        "# For example, here's several helpful packages to load\n",
        "\n",
        "import numpy as np # linear algebra\n",
        "import pandas as pd # data processing, CSV file I/O (e.g. pd.read_csv)\n",
        "\n",
        "# Input data files are available in the read-only \"../input/\" directory\n",
        "# For example, running this (by clicking run or pressing Shift+Enter) will list all files under the input directory\n",
        "\n",
        "import os\n",
        "for dirname, _, filenames in os.walk('/kaggle/input'):\n",
        "    for filename in filenames:\n",
        "        print(os.path.join(dirname, filename))\n",
        "\n",
        "# You can write up to 20GB to the current directory (/kaggle/working/) that gets preserved as output when you create a version using \"Save & Run All\"\n",
        "# You can also write temporary files to /kaggle/temp/, but they won't be saved outside of the current session"
      ],
      "metadata": {
        "_uuid": "8f2839f25d086af736a60e9eeb907d3b93b6e0e5",
        "_cell_guid": "b1076dfc-b9ad-4769-8c92-a6c4dae69d19",
        "execution": {
          "iopub.status.busy": "2023-10-29T18:04:57.268289Z",
          "iopub.execute_input": "2023-10-29T18:04:57.268695Z",
          "iopub.status.idle": "2023-10-29T18:04:57.774293Z",
          "shell.execute_reply.started": "2023-10-29T18:04:57.268636Z",
          "shell.execute_reply": "2023-10-29T18:04:57.773419Z"
        },
        "trusted": true,
        "id": "Ppf7HlKsQ5yn"
      },
      "execution_count": null,
      "outputs": []
    },
    {
      "cell_type": "code",
      "source": [
        "import pandas as pd\n",
        "import numpy as np\n",
        "import matplotlib.pyplot as plt\n",
        "import seaborn as sns\n",
        "from sklearn.linear_model import LassoCV, LinearRegression, Lasso, Ridge, ElasticNet\n",
        "from sklearn.metrics import mean_squared_error, r2_score\n",
        "from sklearn.model_selection import train_test_split, cross_val_score, GridSearchCV\n",
        "from sklearn.preprocessing import StandardScaler\n",
        "from sklearn.svm import SVR"
      ],
      "metadata": {
        "execution": {
          "iopub.status.busy": "2023-10-29T18:12:32.262676Z",
          "iopub.execute_input": "2023-10-29T18:12:32.263099Z",
          "iopub.status.idle": "2023-10-29T18:12:33.772684Z",
          "shell.execute_reply.started": "2023-10-29T18:12:32.263068Z",
          "shell.execute_reply": "2023-10-29T18:12:33.771425Z"
        },
        "trusted": true,
        "id": "1-aqxfahQ5yp"
      },
      "execution_count": null,
      "outputs": []
    },
    {
      "cell_type": "markdown",
      "source": [
        "House Price Prediction\n",
        "=======================\n",
        "\n",
        "## 00. Abstract\n",
        "This study focuses on predicting house prices using the \"House Prices - Advanced Regression Techniques\" dataset from Kaggle, employing a suite of linear and non-linear regression models. Our methodology encompassed key preprocessing steps: post-Lasso feature selection, standardization, and One-Hot Encoding to handle categorical variables effectively. The models applied in this analysis were Linear Regression, Lasso, Ridge, Elastic Net, and Support Vector Machine (SVM).\n",
        "\n",
        "The performance of each model was rigorously assessed based on two primary metrics: Mean Squared Error (MSE) and R-Squared (R²). The results were as follows: The Linear Regression model showed an MSE of 0.013932 and an R² of 0.885240, demonstrating a solid baseline for performance. The Lasso regression, benefiting from post-Lasso feature selection, achieved a marginally better MSE of 0.013429 and an R² of 0.889384. Ridge regression posted an MSE of 0.013825 and an R² of 0.886124, indicating its reliability in handling multicollinearity among predictor variables.\n",
        "\n",
        "Further, the Elastic Net model, which combines features of both Lasso and Ridge, recorded an MSE of 0.013514 and an R² of 0.888686. This outcome suggests its effectiveness in model regularization and feature selection. Notably, the SVM model outperformed the other techniques, yielding the lowest MSE of 0.012983 and the highest R² of 0.893061. This superior performance underscores SVM's robustness in capturing complex, non-linear relationships within the dataset.\n",
        "\n",
        "These findings highlight the nuanced strengths of each regression model in the context of house price prediction. They also emphasize the importance of appropriate feature selection and data preprocessing methods like standardization and encoding in enhancing model performance. The comparative success of the SVM model particularly underlines the potential of more sophisticated, non-linear models in predictive accuracy for real estate market analysis."
      ],
      "metadata": {
        "id": "NtV6xqXEQ5yp"
      }
    },
    {
      "cell_type": "markdown",
      "source": [
        "**Tools / Libraries**: Python / Pandas, Numpy, Matplotlib, Seaborn, Scikit-learn\n",
        "<br/>\n",
        "**Dataset**: Kaggle Competition - House Prices - Advanced Regression Techniques\n",
        "<br/>\n",
        "**Data Preprocessing**: Feature Selection using \"Post-Lasso\", One-Hot Encoding, Standardization\n",
        "<br/>\n",
        "**Analysis Performed**: Correlation, Linear Regression, Lasso, Ridge, Elastic Net, Support Vector Machine"
      ],
      "metadata": {
        "id": "qD6dqDD_Q5yr"
      }
    },
    {
      "cell_type": "code",
      "source": [
        "df = pd.read_csv('train.csv')\n",
        "df.shape # 1460 Columns, 81 Rows"
      ],
      "metadata": {
        "execution": {
          "iopub.status.busy": "2023-10-29T18:21:23.677366Z",
          "iopub.execute_input": "2023-10-29T18:21:23.677807Z",
          "iopub.status.idle": "2023-10-29T18:21:23.711916Z",
          "shell.execute_reply.started": "2023-10-29T18:21:23.677775Z",
          "shell.execute_reply": "2023-10-29T18:21:23.710669Z"
        },
        "trusted": true,
        "colab": {
          "base_uri": "https://localhost:8080/"
        },
        "id": "DTLpfpbiQ5yr",
        "outputId": "4d6deb94-72f6-4189-8161-51bc2bc88829"
      },
      "execution_count": null,
      "outputs": [
        {
          "output_type": "execute_result",
          "data": {
            "text/plain": [
              "(1460, 81)"
            ]
          },
          "metadata": {},
          "execution_count": 5
        }
      ]
    },
    {
      "cell_type": "code",
      "source": [
        "df.head(5)"
      ],
      "metadata": {
        "execution": {
          "iopub.status.busy": "2023-10-29T18:21:25.164954Z",
          "iopub.execute_input": "2023-10-29T18:21:25.16533Z",
          "iopub.status.idle": "2023-10-29T18:21:25.19214Z",
          "shell.execute_reply.started": "2023-10-29T18:21:25.165301Z",
          "shell.execute_reply": "2023-10-29T18:21:25.190886Z"
        },
        "trusted": true,
        "colab": {
          "base_uri": "https://localhost:8080/",
          "height": 256
        },
        "id": "HfoLA53QQ5yr",
        "outputId": "0083b049-e362-4623-9521-91776d17975d"
      },
      "execution_count": null,
      "outputs": [
        {
          "output_type": "execute_result",
          "data": {
            "text/plain": [
              "   Id  MSSubClass MSZoning  LotFrontage  LotArea Street Alley LotShape  \\\n",
              "0   1          60       RL         65.0     8450   Pave   NaN      Reg   \n",
              "1   2          20       RL         80.0     9600   Pave   NaN      Reg   \n",
              "2   3          60       RL         68.0    11250   Pave   NaN      IR1   \n",
              "3   4          70       RL         60.0     9550   Pave   NaN      IR1   \n",
              "4   5          60       RL         84.0    14260   Pave   NaN      IR1   \n",
              "\n",
              "  LandContour Utilities  ... PoolArea PoolQC Fence MiscFeature MiscVal MoSold  \\\n",
              "0         Lvl    AllPub  ...        0    NaN   NaN         NaN       0      2   \n",
              "1         Lvl    AllPub  ...        0    NaN   NaN         NaN       0      5   \n",
              "2         Lvl    AllPub  ...        0    NaN   NaN         NaN       0      9   \n",
              "3         Lvl    AllPub  ...        0    NaN   NaN         NaN       0      2   \n",
              "4         Lvl    AllPub  ...        0    NaN   NaN         NaN       0     12   \n",
              "\n",
              "  YrSold  SaleType  SaleCondition  SalePrice  \n",
              "0   2008        WD         Normal     208500  \n",
              "1   2007        WD         Normal     181500  \n",
              "2   2008        WD         Normal     223500  \n",
              "3   2006        WD        Abnorml     140000  \n",
              "4   2008        WD         Normal     250000  \n",
              "\n",
              "[5 rows x 81 columns]"
            ],
            "text/html": [
              "\n",
              "  <div id=\"df-ce8143e1-cd19-4b60-86ce-3b82b1e62fc0\" class=\"colab-df-container\">\n",
              "    <div>\n",
              "<style scoped>\n",
              "    .dataframe tbody tr th:only-of-type {\n",
              "        vertical-align: middle;\n",
              "    }\n",
              "\n",
              "    .dataframe tbody tr th {\n",
              "        vertical-align: top;\n",
              "    }\n",
              "\n",
              "    .dataframe thead th {\n",
              "        text-align: right;\n",
              "    }\n",
              "</style>\n",
              "<table border=\"1\" class=\"dataframe\">\n",
              "  <thead>\n",
              "    <tr style=\"text-align: right;\">\n",
              "      <th></th>\n",
              "      <th>Id</th>\n",
              "      <th>MSSubClass</th>\n",
              "      <th>MSZoning</th>\n",
              "      <th>LotFrontage</th>\n",
              "      <th>LotArea</th>\n",
              "      <th>Street</th>\n",
              "      <th>Alley</th>\n",
              "      <th>LotShape</th>\n",
              "      <th>LandContour</th>\n",
              "      <th>Utilities</th>\n",
              "      <th>...</th>\n",
              "      <th>PoolArea</th>\n",
              "      <th>PoolQC</th>\n",
              "      <th>Fence</th>\n",
              "      <th>MiscFeature</th>\n",
              "      <th>MiscVal</th>\n",
              "      <th>MoSold</th>\n",
              "      <th>YrSold</th>\n",
              "      <th>SaleType</th>\n",
              "      <th>SaleCondition</th>\n",
              "      <th>SalePrice</th>\n",
              "    </tr>\n",
              "  </thead>\n",
              "  <tbody>\n",
              "    <tr>\n",
              "      <th>0</th>\n",
              "      <td>1</td>\n",
              "      <td>60</td>\n",
              "      <td>RL</td>\n",
              "      <td>65.0</td>\n",
              "      <td>8450</td>\n",
              "      <td>Pave</td>\n",
              "      <td>NaN</td>\n",
              "      <td>Reg</td>\n",
              "      <td>Lvl</td>\n",
              "      <td>AllPub</td>\n",
              "      <td>...</td>\n",
              "      <td>0</td>\n",
              "      <td>NaN</td>\n",
              "      <td>NaN</td>\n",
              "      <td>NaN</td>\n",
              "      <td>0</td>\n",
              "      <td>2</td>\n",
              "      <td>2008</td>\n",
              "      <td>WD</td>\n",
              "      <td>Normal</td>\n",
              "      <td>208500</td>\n",
              "    </tr>\n",
              "    <tr>\n",
              "      <th>1</th>\n",
              "      <td>2</td>\n",
              "      <td>20</td>\n",
              "      <td>RL</td>\n",
              "      <td>80.0</td>\n",
              "      <td>9600</td>\n",
              "      <td>Pave</td>\n",
              "      <td>NaN</td>\n",
              "      <td>Reg</td>\n",
              "      <td>Lvl</td>\n",
              "      <td>AllPub</td>\n",
              "      <td>...</td>\n",
              "      <td>0</td>\n",
              "      <td>NaN</td>\n",
              "      <td>NaN</td>\n",
              "      <td>NaN</td>\n",
              "      <td>0</td>\n",
              "      <td>5</td>\n",
              "      <td>2007</td>\n",
              "      <td>WD</td>\n",
              "      <td>Normal</td>\n",
              "      <td>181500</td>\n",
              "    </tr>\n",
              "    <tr>\n",
              "      <th>2</th>\n",
              "      <td>3</td>\n",
              "      <td>60</td>\n",
              "      <td>RL</td>\n",
              "      <td>68.0</td>\n",
              "      <td>11250</td>\n",
              "      <td>Pave</td>\n",
              "      <td>NaN</td>\n",
              "      <td>IR1</td>\n",
              "      <td>Lvl</td>\n",
              "      <td>AllPub</td>\n",
              "      <td>...</td>\n",
              "      <td>0</td>\n",
              "      <td>NaN</td>\n",
              "      <td>NaN</td>\n",
              "      <td>NaN</td>\n",
              "      <td>0</td>\n",
              "      <td>9</td>\n",
              "      <td>2008</td>\n",
              "      <td>WD</td>\n",
              "      <td>Normal</td>\n",
              "      <td>223500</td>\n",
              "    </tr>\n",
              "    <tr>\n",
              "      <th>3</th>\n",
              "      <td>4</td>\n",
              "      <td>70</td>\n",
              "      <td>RL</td>\n",
              "      <td>60.0</td>\n",
              "      <td>9550</td>\n",
              "      <td>Pave</td>\n",
              "      <td>NaN</td>\n",
              "      <td>IR1</td>\n",
              "      <td>Lvl</td>\n",
              "      <td>AllPub</td>\n",
              "      <td>...</td>\n",
              "      <td>0</td>\n",
              "      <td>NaN</td>\n",
              "      <td>NaN</td>\n",
              "      <td>NaN</td>\n",
              "      <td>0</td>\n",
              "      <td>2</td>\n",
              "      <td>2006</td>\n",
              "      <td>WD</td>\n",
              "      <td>Abnorml</td>\n",
              "      <td>140000</td>\n",
              "    </tr>\n",
              "    <tr>\n",
              "      <th>4</th>\n",
              "      <td>5</td>\n",
              "      <td>60</td>\n",
              "      <td>RL</td>\n",
              "      <td>84.0</td>\n",
              "      <td>14260</td>\n",
              "      <td>Pave</td>\n",
              "      <td>NaN</td>\n",
              "      <td>IR1</td>\n",
              "      <td>Lvl</td>\n",
              "      <td>AllPub</td>\n",
              "      <td>...</td>\n",
              "      <td>0</td>\n",
              "      <td>NaN</td>\n",
              "      <td>NaN</td>\n",
              "      <td>NaN</td>\n",
              "      <td>0</td>\n",
              "      <td>12</td>\n",
              "      <td>2008</td>\n",
              "      <td>WD</td>\n",
              "      <td>Normal</td>\n",
              "      <td>250000</td>\n",
              "    </tr>\n",
              "  </tbody>\n",
              "</table>\n",
              "<p>5 rows × 81 columns</p>\n",
              "</div>\n",
              "    <div class=\"colab-df-buttons\">\n",
              "\n",
              "  <div class=\"colab-df-container\">\n",
              "    <button class=\"colab-df-convert\" onclick=\"convertToInteractive('df-ce8143e1-cd19-4b60-86ce-3b82b1e62fc0')\"\n",
              "            title=\"Convert this dataframe to an interactive table.\"\n",
              "            style=\"display:none;\">\n",
              "\n",
              "  <svg xmlns=\"http://www.w3.org/2000/svg\" height=\"24px\" viewBox=\"0 -960 960 960\">\n",
              "    <path d=\"M120-120v-720h720v720H120Zm60-500h600v-160H180v160Zm220 220h160v-160H400v160Zm0 220h160v-160H400v160ZM180-400h160v-160H180v160Zm440 0h160v-160H620v160ZM180-180h160v-160H180v160Zm440 0h160v-160H620v160Z\"/>\n",
              "  </svg>\n",
              "    </button>\n",
              "\n",
              "  <style>\n",
              "    .colab-df-container {\n",
              "      display:flex;\n",
              "      gap: 12px;\n",
              "    }\n",
              "\n",
              "    .colab-df-convert {\n",
              "      background-color: #E8F0FE;\n",
              "      border: none;\n",
              "      border-radius: 50%;\n",
              "      cursor: pointer;\n",
              "      display: none;\n",
              "      fill: #1967D2;\n",
              "      height: 32px;\n",
              "      padding: 0 0 0 0;\n",
              "      width: 32px;\n",
              "    }\n",
              "\n",
              "    .colab-df-convert:hover {\n",
              "      background-color: #E2EBFA;\n",
              "      box-shadow: 0px 1px 2px rgba(60, 64, 67, 0.3), 0px 1px 3px 1px rgba(60, 64, 67, 0.15);\n",
              "      fill: #174EA6;\n",
              "    }\n",
              "\n",
              "    .colab-df-buttons div {\n",
              "      margin-bottom: 4px;\n",
              "    }\n",
              "\n",
              "    [theme=dark] .colab-df-convert {\n",
              "      background-color: #3B4455;\n",
              "      fill: #D2E3FC;\n",
              "    }\n",
              "\n",
              "    [theme=dark] .colab-df-convert:hover {\n",
              "      background-color: #434B5C;\n",
              "      box-shadow: 0px 1px 3px 1px rgba(0, 0, 0, 0.15);\n",
              "      filter: drop-shadow(0px 1px 2px rgba(0, 0, 0, 0.3));\n",
              "      fill: #FFFFFF;\n",
              "    }\n",
              "  </style>\n",
              "\n",
              "    <script>\n",
              "      const buttonEl =\n",
              "        document.querySelector('#df-ce8143e1-cd19-4b60-86ce-3b82b1e62fc0 button.colab-df-convert');\n",
              "      buttonEl.style.display =\n",
              "        google.colab.kernel.accessAllowed ? 'block' : 'none';\n",
              "\n",
              "      async function convertToInteractive(key) {\n",
              "        const element = document.querySelector('#df-ce8143e1-cd19-4b60-86ce-3b82b1e62fc0');\n",
              "        const dataTable =\n",
              "          await google.colab.kernel.invokeFunction('convertToInteractive',\n",
              "                                                    [key], {});\n",
              "        if (!dataTable) return;\n",
              "\n",
              "        const docLinkHtml = 'Like what you see? Visit the ' +\n",
              "          '<a target=\"_blank\" href=https://colab.research.google.com/notebooks/data_table.ipynb>data table notebook</a>'\n",
              "          + ' to learn more about interactive tables.';\n",
              "        element.innerHTML = '';\n",
              "        dataTable['output_type'] = 'display_data';\n",
              "        await google.colab.output.renderOutput(dataTable, element);\n",
              "        const docLink = document.createElement('div');\n",
              "        docLink.innerHTML = docLinkHtml;\n",
              "        element.appendChild(docLink);\n",
              "      }\n",
              "    </script>\n",
              "  </div>\n",
              "\n",
              "\n",
              "<div id=\"df-70193b83-b4be-4546-a6fb-191181289d5b\">\n",
              "  <button class=\"colab-df-quickchart\" onclick=\"quickchart('df-70193b83-b4be-4546-a6fb-191181289d5b')\"\n",
              "            title=\"Suggest charts.\"\n",
              "            style=\"display:none;\">\n",
              "\n",
              "<svg xmlns=\"http://www.w3.org/2000/svg\" height=\"24px\"viewBox=\"0 0 24 24\"\n",
              "     width=\"24px\">\n",
              "    <g>\n",
              "        <path d=\"M19 3H5c-1.1 0-2 .9-2 2v14c0 1.1.9 2 2 2h14c1.1 0 2-.9 2-2V5c0-1.1-.9-2-2-2zM9 17H7v-7h2v7zm4 0h-2V7h2v10zm4 0h-2v-4h2v4z\"/>\n",
              "    </g>\n",
              "</svg>\n",
              "  </button>\n",
              "\n",
              "<style>\n",
              "  .colab-df-quickchart {\n",
              "      --bg-color: #E8F0FE;\n",
              "      --fill-color: #1967D2;\n",
              "      --hover-bg-color: #E2EBFA;\n",
              "      --hover-fill-color: #174EA6;\n",
              "      --disabled-fill-color: #AAA;\n",
              "      --disabled-bg-color: #DDD;\n",
              "  }\n",
              "\n",
              "  [theme=dark] .colab-df-quickchart {\n",
              "      --bg-color: #3B4455;\n",
              "      --fill-color: #D2E3FC;\n",
              "      --hover-bg-color: #434B5C;\n",
              "      --hover-fill-color: #FFFFFF;\n",
              "      --disabled-bg-color: #3B4455;\n",
              "      --disabled-fill-color: #666;\n",
              "  }\n",
              "\n",
              "  .colab-df-quickchart {\n",
              "    background-color: var(--bg-color);\n",
              "    border: none;\n",
              "    border-radius: 50%;\n",
              "    cursor: pointer;\n",
              "    display: none;\n",
              "    fill: var(--fill-color);\n",
              "    height: 32px;\n",
              "    padding: 0;\n",
              "    width: 32px;\n",
              "  }\n",
              "\n",
              "  .colab-df-quickchart:hover {\n",
              "    background-color: var(--hover-bg-color);\n",
              "    box-shadow: 0 1px 2px rgba(60, 64, 67, 0.3), 0 1px 3px 1px rgba(60, 64, 67, 0.15);\n",
              "    fill: var(--button-hover-fill-color);\n",
              "  }\n",
              "\n",
              "  .colab-df-quickchart-complete:disabled,\n",
              "  .colab-df-quickchart-complete:disabled:hover {\n",
              "    background-color: var(--disabled-bg-color);\n",
              "    fill: var(--disabled-fill-color);\n",
              "    box-shadow: none;\n",
              "  }\n",
              "\n",
              "  .colab-df-spinner {\n",
              "    border: 2px solid var(--fill-color);\n",
              "    border-color: transparent;\n",
              "    border-bottom-color: var(--fill-color);\n",
              "    animation:\n",
              "      spin 1s steps(1) infinite;\n",
              "  }\n",
              "\n",
              "  @keyframes spin {\n",
              "    0% {\n",
              "      border-color: transparent;\n",
              "      border-bottom-color: var(--fill-color);\n",
              "      border-left-color: var(--fill-color);\n",
              "    }\n",
              "    20% {\n",
              "      border-color: transparent;\n",
              "      border-left-color: var(--fill-color);\n",
              "      border-top-color: var(--fill-color);\n",
              "    }\n",
              "    30% {\n",
              "      border-color: transparent;\n",
              "      border-left-color: var(--fill-color);\n",
              "      border-top-color: var(--fill-color);\n",
              "      border-right-color: var(--fill-color);\n",
              "    }\n",
              "    40% {\n",
              "      border-color: transparent;\n",
              "      border-right-color: var(--fill-color);\n",
              "      border-top-color: var(--fill-color);\n",
              "    }\n",
              "    60% {\n",
              "      border-color: transparent;\n",
              "      border-right-color: var(--fill-color);\n",
              "    }\n",
              "    80% {\n",
              "      border-color: transparent;\n",
              "      border-right-color: var(--fill-color);\n",
              "      border-bottom-color: var(--fill-color);\n",
              "    }\n",
              "    90% {\n",
              "      border-color: transparent;\n",
              "      border-bottom-color: var(--fill-color);\n",
              "    }\n",
              "  }\n",
              "</style>\n",
              "\n",
              "  <script>\n",
              "    async function quickchart(key) {\n",
              "      const quickchartButtonEl =\n",
              "        document.querySelector('#' + key + ' button');\n",
              "      quickchartButtonEl.disabled = true;  // To prevent multiple clicks.\n",
              "      quickchartButtonEl.classList.add('colab-df-spinner');\n",
              "      try {\n",
              "        const charts = await google.colab.kernel.invokeFunction(\n",
              "            'suggestCharts', [key], {});\n",
              "      } catch (error) {\n",
              "        console.error('Error during call to suggestCharts:', error);\n",
              "      }\n",
              "      quickchartButtonEl.classList.remove('colab-df-spinner');\n",
              "      quickchartButtonEl.classList.add('colab-df-quickchart-complete');\n",
              "    }\n",
              "    (() => {\n",
              "      let quickchartButtonEl =\n",
              "        document.querySelector('#df-70193b83-b4be-4546-a6fb-191181289d5b button');\n",
              "      quickchartButtonEl.style.display =\n",
              "        google.colab.kernel.accessAllowed ? 'block' : 'none';\n",
              "    })();\n",
              "  </script>\n",
              "</div>\n",
              "    </div>\n",
              "  </div>\n"
            ]
          },
          "metadata": {},
          "execution_count": 6
        }
      ]
    },
    {
      "cell_type": "code",
      "source": [
        "df.describe()"
      ],
      "metadata": {
        "execution": {
          "iopub.status.busy": "2023-10-29T18:21:27.192146Z",
          "iopub.execute_input": "2023-10-29T18:21:27.19254Z",
          "iopub.status.idle": "2023-10-29T18:21:27.306348Z",
          "shell.execute_reply.started": "2023-10-29T18:21:27.192501Z",
          "shell.execute_reply": "2023-10-29T18:21:27.304961Z"
        },
        "trusted": true,
        "colab": {
          "base_uri": "https://localhost:8080/",
          "height": 350
        },
        "id": "S5NWsXpIQ5yr",
        "outputId": "89ee3db8-3314-4b8e-b78e-bccdab97359e"
      },
      "execution_count": null,
      "outputs": [
        {
          "output_type": "execute_result",
          "data": {
            "text/plain": [
              "                Id   MSSubClass  LotFrontage        LotArea  OverallQual  \\\n",
              "count  1460.000000  1460.000000  1201.000000    1460.000000  1460.000000   \n",
              "mean    730.500000    56.897260    70.049958   10516.828082     6.099315   \n",
              "std     421.610009    42.300571    24.284752    9981.264932     1.382997   \n",
              "min       1.000000    20.000000    21.000000    1300.000000     1.000000   \n",
              "25%     365.750000    20.000000    59.000000    7553.500000     5.000000   \n",
              "50%     730.500000    50.000000    69.000000    9478.500000     6.000000   \n",
              "75%    1095.250000    70.000000    80.000000   11601.500000     7.000000   \n",
              "max    1460.000000   190.000000   313.000000  215245.000000    10.000000   \n",
              "\n",
              "       OverallCond    YearBuilt  YearRemodAdd   MasVnrArea   BsmtFinSF1  ...  \\\n",
              "count  1460.000000  1460.000000   1460.000000  1452.000000  1460.000000  ...   \n",
              "mean      5.575342  1971.267808   1984.865753   103.685262   443.639726  ...   \n",
              "std       1.112799    30.202904     20.645407   181.066207   456.098091  ...   \n",
              "min       1.000000  1872.000000   1950.000000     0.000000     0.000000  ...   \n",
              "25%       5.000000  1954.000000   1967.000000     0.000000     0.000000  ...   \n",
              "50%       5.000000  1973.000000   1994.000000     0.000000   383.500000  ...   \n",
              "75%       6.000000  2000.000000   2004.000000   166.000000   712.250000  ...   \n",
              "max       9.000000  2010.000000   2010.000000  1600.000000  5644.000000  ...   \n",
              "\n",
              "        WoodDeckSF  OpenPorchSF  EnclosedPorch    3SsnPorch  ScreenPorch  \\\n",
              "count  1460.000000  1460.000000    1460.000000  1460.000000  1460.000000   \n",
              "mean     94.244521    46.660274      21.954110     3.409589    15.060959   \n",
              "std     125.338794    66.256028      61.119149    29.317331    55.757415   \n",
              "min       0.000000     0.000000       0.000000     0.000000     0.000000   \n",
              "25%       0.000000     0.000000       0.000000     0.000000     0.000000   \n",
              "50%       0.000000    25.000000       0.000000     0.000000     0.000000   \n",
              "75%     168.000000    68.000000       0.000000     0.000000     0.000000   \n",
              "max     857.000000   547.000000     552.000000   508.000000   480.000000   \n",
              "\n",
              "          PoolArea       MiscVal       MoSold       YrSold      SalePrice  \n",
              "count  1460.000000   1460.000000  1460.000000  1460.000000    1460.000000  \n",
              "mean      2.758904     43.489041     6.321918  2007.815753  180921.195890  \n",
              "std      40.177307    496.123024     2.703626     1.328095   79442.502883  \n",
              "min       0.000000      0.000000     1.000000  2006.000000   34900.000000  \n",
              "25%       0.000000      0.000000     5.000000  2007.000000  129975.000000  \n",
              "50%       0.000000      0.000000     6.000000  2008.000000  163000.000000  \n",
              "75%       0.000000      0.000000     8.000000  2009.000000  214000.000000  \n",
              "max     738.000000  15500.000000    12.000000  2010.000000  755000.000000  \n",
              "\n",
              "[8 rows x 38 columns]"
            ],
            "text/html": [
              "\n",
              "  <div id=\"df-dc60b385-ce36-48c8-a6a5-f662a3610abb\" class=\"colab-df-container\">\n",
              "    <div>\n",
              "<style scoped>\n",
              "    .dataframe tbody tr th:only-of-type {\n",
              "        vertical-align: middle;\n",
              "    }\n",
              "\n",
              "    .dataframe tbody tr th {\n",
              "        vertical-align: top;\n",
              "    }\n",
              "\n",
              "    .dataframe thead th {\n",
              "        text-align: right;\n",
              "    }\n",
              "</style>\n",
              "<table border=\"1\" class=\"dataframe\">\n",
              "  <thead>\n",
              "    <tr style=\"text-align: right;\">\n",
              "      <th></th>\n",
              "      <th>Id</th>\n",
              "      <th>MSSubClass</th>\n",
              "      <th>LotFrontage</th>\n",
              "      <th>LotArea</th>\n",
              "      <th>OverallQual</th>\n",
              "      <th>OverallCond</th>\n",
              "      <th>YearBuilt</th>\n",
              "      <th>YearRemodAdd</th>\n",
              "      <th>MasVnrArea</th>\n",
              "      <th>BsmtFinSF1</th>\n",
              "      <th>...</th>\n",
              "      <th>WoodDeckSF</th>\n",
              "      <th>OpenPorchSF</th>\n",
              "      <th>EnclosedPorch</th>\n",
              "      <th>3SsnPorch</th>\n",
              "      <th>ScreenPorch</th>\n",
              "      <th>PoolArea</th>\n",
              "      <th>MiscVal</th>\n",
              "      <th>MoSold</th>\n",
              "      <th>YrSold</th>\n",
              "      <th>SalePrice</th>\n",
              "    </tr>\n",
              "  </thead>\n",
              "  <tbody>\n",
              "    <tr>\n",
              "      <th>count</th>\n",
              "      <td>1460.000000</td>\n",
              "      <td>1460.000000</td>\n",
              "      <td>1201.000000</td>\n",
              "      <td>1460.000000</td>\n",
              "      <td>1460.000000</td>\n",
              "      <td>1460.000000</td>\n",
              "      <td>1460.000000</td>\n",
              "      <td>1460.000000</td>\n",
              "      <td>1452.000000</td>\n",
              "      <td>1460.000000</td>\n",
              "      <td>...</td>\n",
              "      <td>1460.000000</td>\n",
              "      <td>1460.000000</td>\n",
              "      <td>1460.000000</td>\n",
              "      <td>1460.000000</td>\n",
              "      <td>1460.000000</td>\n",
              "      <td>1460.000000</td>\n",
              "      <td>1460.000000</td>\n",
              "      <td>1460.000000</td>\n",
              "      <td>1460.000000</td>\n",
              "      <td>1460.000000</td>\n",
              "    </tr>\n",
              "    <tr>\n",
              "      <th>mean</th>\n",
              "      <td>730.500000</td>\n",
              "      <td>56.897260</td>\n",
              "      <td>70.049958</td>\n",
              "      <td>10516.828082</td>\n",
              "      <td>6.099315</td>\n",
              "      <td>5.575342</td>\n",
              "      <td>1971.267808</td>\n",
              "      <td>1984.865753</td>\n",
              "      <td>103.685262</td>\n",
              "      <td>443.639726</td>\n",
              "      <td>...</td>\n",
              "      <td>94.244521</td>\n",
              "      <td>46.660274</td>\n",
              "      <td>21.954110</td>\n",
              "      <td>3.409589</td>\n",
              "      <td>15.060959</td>\n",
              "      <td>2.758904</td>\n",
              "      <td>43.489041</td>\n",
              "      <td>6.321918</td>\n",
              "      <td>2007.815753</td>\n",
              "      <td>180921.195890</td>\n",
              "    </tr>\n",
              "    <tr>\n",
              "      <th>std</th>\n",
              "      <td>421.610009</td>\n",
              "      <td>42.300571</td>\n",
              "      <td>24.284752</td>\n",
              "      <td>9981.264932</td>\n",
              "      <td>1.382997</td>\n",
              "      <td>1.112799</td>\n",
              "      <td>30.202904</td>\n",
              "      <td>20.645407</td>\n",
              "      <td>181.066207</td>\n",
              "      <td>456.098091</td>\n",
              "      <td>...</td>\n",
              "      <td>125.338794</td>\n",
              "      <td>66.256028</td>\n",
              "      <td>61.119149</td>\n",
              "      <td>29.317331</td>\n",
              "      <td>55.757415</td>\n",
              "      <td>40.177307</td>\n",
              "      <td>496.123024</td>\n",
              "      <td>2.703626</td>\n",
              "      <td>1.328095</td>\n",
              "      <td>79442.502883</td>\n",
              "    </tr>\n",
              "    <tr>\n",
              "      <th>min</th>\n",
              "      <td>1.000000</td>\n",
              "      <td>20.000000</td>\n",
              "      <td>21.000000</td>\n",
              "      <td>1300.000000</td>\n",
              "      <td>1.000000</td>\n",
              "      <td>1.000000</td>\n",
              "      <td>1872.000000</td>\n",
              "      <td>1950.000000</td>\n",
              "      <td>0.000000</td>\n",
              "      <td>0.000000</td>\n",
              "      <td>...</td>\n",
              "      <td>0.000000</td>\n",
              "      <td>0.000000</td>\n",
              "      <td>0.000000</td>\n",
              "      <td>0.000000</td>\n",
              "      <td>0.000000</td>\n",
              "      <td>0.000000</td>\n",
              "      <td>0.000000</td>\n",
              "      <td>1.000000</td>\n",
              "      <td>2006.000000</td>\n",
              "      <td>34900.000000</td>\n",
              "    </tr>\n",
              "    <tr>\n",
              "      <th>25%</th>\n",
              "      <td>365.750000</td>\n",
              "      <td>20.000000</td>\n",
              "      <td>59.000000</td>\n",
              "      <td>7553.500000</td>\n",
              "      <td>5.000000</td>\n",
              "      <td>5.000000</td>\n",
              "      <td>1954.000000</td>\n",
              "      <td>1967.000000</td>\n",
              "      <td>0.000000</td>\n",
              "      <td>0.000000</td>\n",
              "      <td>...</td>\n",
              "      <td>0.000000</td>\n",
              "      <td>0.000000</td>\n",
              "      <td>0.000000</td>\n",
              "      <td>0.000000</td>\n",
              "      <td>0.000000</td>\n",
              "      <td>0.000000</td>\n",
              "      <td>0.000000</td>\n",
              "      <td>5.000000</td>\n",
              "      <td>2007.000000</td>\n",
              "      <td>129975.000000</td>\n",
              "    </tr>\n",
              "    <tr>\n",
              "      <th>50%</th>\n",
              "      <td>730.500000</td>\n",
              "      <td>50.000000</td>\n",
              "      <td>69.000000</td>\n",
              "      <td>9478.500000</td>\n",
              "      <td>6.000000</td>\n",
              "      <td>5.000000</td>\n",
              "      <td>1973.000000</td>\n",
              "      <td>1994.000000</td>\n",
              "      <td>0.000000</td>\n",
              "      <td>383.500000</td>\n",
              "      <td>...</td>\n",
              "      <td>0.000000</td>\n",
              "      <td>25.000000</td>\n",
              "      <td>0.000000</td>\n",
              "      <td>0.000000</td>\n",
              "      <td>0.000000</td>\n",
              "      <td>0.000000</td>\n",
              "      <td>0.000000</td>\n",
              "      <td>6.000000</td>\n",
              "      <td>2008.000000</td>\n",
              "      <td>163000.000000</td>\n",
              "    </tr>\n",
              "    <tr>\n",
              "      <th>75%</th>\n",
              "      <td>1095.250000</td>\n",
              "      <td>70.000000</td>\n",
              "      <td>80.000000</td>\n",
              "      <td>11601.500000</td>\n",
              "      <td>7.000000</td>\n",
              "      <td>6.000000</td>\n",
              "      <td>2000.000000</td>\n",
              "      <td>2004.000000</td>\n",
              "      <td>166.000000</td>\n",
              "      <td>712.250000</td>\n",
              "      <td>...</td>\n",
              "      <td>168.000000</td>\n",
              "      <td>68.000000</td>\n",
              "      <td>0.000000</td>\n",
              "      <td>0.000000</td>\n",
              "      <td>0.000000</td>\n",
              "      <td>0.000000</td>\n",
              "      <td>0.000000</td>\n",
              "      <td>8.000000</td>\n",
              "      <td>2009.000000</td>\n",
              "      <td>214000.000000</td>\n",
              "    </tr>\n",
              "    <tr>\n",
              "      <th>max</th>\n",
              "      <td>1460.000000</td>\n",
              "      <td>190.000000</td>\n",
              "      <td>313.000000</td>\n",
              "      <td>215245.000000</td>\n",
              "      <td>10.000000</td>\n",
              "      <td>9.000000</td>\n",
              "      <td>2010.000000</td>\n",
              "      <td>2010.000000</td>\n",
              "      <td>1600.000000</td>\n",
              "      <td>5644.000000</td>\n",
              "      <td>...</td>\n",
              "      <td>857.000000</td>\n",
              "      <td>547.000000</td>\n",
              "      <td>552.000000</td>\n",
              "      <td>508.000000</td>\n",
              "      <td>480.000000</td>\n",
              "      <td>738.000000</td>\n",
              "      <td>15500.000000</td>\n",
              "      <td>12.000000</td>\n",
              "      <td>2010.000000</td>\n",
              "      <td>755000.000000</td>\n",
              "    </tr>\n",
              "  </tbody>\n",
              "</table>\n",
              "<p>8 rows × 38 columns</p>\n",
              "</div>\n",
              "    <div class=\"colab-df-buttons\">\n",
              "\n",
              "  <div class=\"colab-df-container\">\n",
              "    <button class=\"colab-df-convert\" onclick=\"convertToInteractive('df-dc60b385-ce36-48c8-a6a5-f662a3610abb')\"\n",
              "            title=\"Convert this dataframe to an interactive table.\"\n",
              "            style=\"display:none;\">\n",
              "\n",
              "  <svg xmlns=\"http://www.w3.org/2000/svg\" height=\"24px\" viewBox=\"0 -960 960 960\">\n",
              "    <path d=\"M120-120v-720h720v720H120Zm60-500h600v-160H180v160Zm220 220h160v-160H400v160Zm0 220h160v-160H400v160ZM180-400h160v-160H180v160Zm440 0h160v-160H620v160ZM180-180h160v-160H180v160Zm440 0h160v-160H620v160Z\"/>\n",
              "  </svg>\n",
              "    </button>\n",
              "\n",
              "  <style>\n",
              "    .colab-df-container {\n",
              "      display:flex;\n",
              "      gap: 12px;\n",
              "    }\n",
              "\n",
              "    .colab-df-convert {\n",
              "      background-color: #E8F0FE;\n",
              "      border: none;\n",
              "      border-radius: 50%;\n",
              "      cursor: pointer;\n",
              "      display: none;\n",
              "      fill: #1967D2;\n",
              "      height: 32px;\n",
              "      padding: 0 0 0 0;\n",
              "      width: 32px;\n",
              "    }\n",
              "\n",
              "    .colab-df-convert:hover {\n",
              "      background-color: #E2EBFA;\n",
              "      box-shadow: 0px 1px 2px rgba(60, 64, 67, 0.3), 0px 1px 3px 1px rgba(60, 64, 67, 0.15);\n",
              "      fill: #174EA6;\n",
              "    }\n",
              "\n",
              "    .colab-df-buttons div {\n",
              "      margin-bottom: 4px;\n",
              "    }\n",
              "\n",
              "    [theme=dark] .colab-df-convert {\n",
              "      background-color: #3B4455;\n",
              "      fill: #D2E3FC;\n",
              "    }\n",
              "\n",
              "    [theme=dark] .colab-df-convert:hover {\n",
              "      background-color: #434B5C;\n",
              "      box-shadow: 0px 1px 3px 1px rgba(0, 0, 0, 0.15);\n",
              "      filter: drop-shadow(0px 1px 2px rgba(0, 0, 0, 0.3));\n",
              "      fill: #FFFFFF;\n",
              "    }\n",
              "  </style>\n",
              "\n",
              "    <script>\n",
              "      const buttonEl =\n",
              "        document.querySelector('#df-dc60b385-ce36-48c8-a6a5-f662a3610abb button.colab-df-convert');\n",
              "      buttonEl.style.display =\n",
              "        google.colab.kernel.accessAllowed ? 'block' : 'none';\n",
              "\n",
              "      async function convertToInteractive(key) {\n",
              "        const element = document.querySelector('#df-dc60b385-ce36-48c8-a6a5-f662a3610abb');\n",
              "        const dataTable =\n",
              "          await google.colab.kernel.invokeFunction('convertToInteractive',\n",
              "                                                    [key], {});\n",
              "        if (!dataTable) return;\n",
              "\n",
              "        const docLinkHtml = 'Like what you see? Visit the ' +\n",
              "          '<a target=\"_blank\" href=https://colab.research.google.com/notebooks/data_table.ipynb>data table notebook</a>'\n",
              "          + ' to learn more about interactive tables.';\n",
              "        element.innerHTML = '';\n",
              "        dataTable['output_type'] = 'display_data';\n",
              "        await google.colab.output.renderOutput(dataTable, element);\n",
              "        const docLink = document.createElement('div');\n",
              "        docLink.innerHTML = docLinkHtml;\n",
              "        element.appendChild(docLink);\n",
              "      }\n",
              "    </script>\n",
              "  </div>\n",
              "\n",
              "\n",
              "<div id=\"df-60073e58-bac4-4491-b2d8-39f040e743e4\">\n",
              "  <button class=\"colab-df-quickchart\" onclick=\"quickchart('df-60073e58-bac4-4491-b2d8-39f040e743e4')\"\n",
              "            title=\"Suggest charts.\"\n",
              "            style=\"display:none;\">\n",
              "\n",
              "<svg xmlns=\"http://www.w3.org/2000/svg\" height=\"24px\"viewBox=\"0 0 24 24\"\n",
              "     width=\"24px\">\n",
              "    <g>\n",
              "        <path d=\"M19 3H5c-1.1 0-2 .9-2 2v14c0 1.1.9 2 2 2h14c1.1 0 2-.9 2-2V5c0-1.1-.9-2-2-2zM9 17H7v-7h2v7zm4 0h-2V7h2v10zm4 0h-2v-4h2v4z\"/>\n",
              "    </g>\n",
              "</svg>\n",
              "  </button>\n",
              "\n",
              "<style>\n",
              "  .colab-df-quickchart {\n",
              "      --bg-color: #E8F0FE;\n",
              "      --fill-color: #1967D2;\n",
              "      --hover-bg-color: #E2EBFA;\n",
              "      --hover-fill-color: #174EA6;\n",
              "      --disabled-fill-color: #AAA;\n",
              "      --disabled-bg-color: #DDD;\n",
              "  }\n",
              "\n",
              "  [theme=dark] .colab-df-quickchart {\n",
              "      --bg-color: #3B4455;\n",
              "      --fill-color: #D2E3FC;\n",
              "      --hover-bg-color: #434B5C;\n",
              "      --hover-fill-color: #FFFFFF;\n",
              "      --disabled-bg-color: #3B4455;\n",
              "      --disabled-fill-color: #666;\n",
              "  }\n",
              "\n",
              "  .colab-df-quickchart {\n",
              "    background-color: var(--bg-color);\n",
              "    border: none;\n",
              "    border-radius: 50%;\n",
              "    cursor: pointer;\n",
              "    display: none;\n",
              "    fill: var(--fill-color);\n",
              "    height: 32px;\n",
              "    padding: 0;\n",
              "    width: 32px;\n",
              "  }\n",
              "\n",
              "  .colab-df-quickchart:hover {\n",
              "    background-color: var(--hover-bg-color);\n",
              "    box-shadow: 0 1px 2px rgba(60, 64, 67, 0.3), 0 1px 3px 1px rgba(60, 64, 67, 0.15);\n",
              "    fill: var(--button-hover-fill-color);\n",
              "  }\n",
              "\n",
              "  .colab-df-quickchart-complete:disabled,\n",
              "  .colab-df-quickchart-complete:disabled:hover {\n",
              "    background-color: var(--disabled-bg-color);\n",
              "    fill: var(--disabled-fill-color);\n",
              "    box-shadow: none;\n",
              "  }\n",
              "\n",
              "  .colab-df-spinner {\n",
              "    border: 2px solid var(--fill-color);\n",
              "    border-color: transparent;\n",
              "    border-bottom-color: var(--fill-color);\n",
              "    animation:\n",
              "      spin 1s steps(1) infinite;\n",
              "  }\n",
              "\n",
              "  @keyframes spin {\n",
              "    0% {\n",
              "      border-color: transparent;\n",
              "      border-bottom-color: var(--fill-color);\n",
              "      border-left-color: var(--fill-color);\n",
              "    }\n",
              "    20% {\n",
              "      border-color: transparent;\n",
              "      border-left-color: var(--fill-color);\n",
              "      border-top-color: var(--fill-color);\n",
              "    }\n",
              "    30% {\n",
              "      border-color: transparent;\n",
              "      border-left-color: var(--fill-color);\n",
              "      border-top-color: var(--fill-color);\n",
              "      border-right-color: var(--fill-color);\n",
              "    }\n",
              "    40% {\n",
              "      border-color: transparent;\n",
              "      border-right-color: var(--fill-color);\n",
              "      border-top-color: var(--fill-color);\n",
              "    }\n",
              "    60% {\n",
              "      border-color: transparent;\n",
              "      border-right-color: var(--fill-color);\n",
              "    }\n",
              "    80% {\n",
              "      border-color: transparent;\n",
              "      border-right-color: var(--fill-color);\n",
              "      border-bottom-color: var(--fill-color);\n",
              "    }\n",
              "    90% {\n",
              "      border-color: transparent;\n",
              "      border-bottom-color: var(--fill-color);\n",
              "    }\n",
              "  }\n",
              "</style>\n",
              "\n",
              "  <script>\n",
              "    async function quickchart(key) {\n",
              "      const quickchartButtonEl =\n",
              "        document.querySelector('#' + key + ' button');\n",
              "      quickchartButtonEl.disabled = true;  // To prevent multiple clicks.\n",
              "      quickchartButtonEl.classList.add('colab-df-spinner');\n",
              "      try {\n",
              "        const charts = await google.colab.kernel.invokeFunction(\n",
              "            'suggestCharts', [key], {});\n",
              "      } catch (error) {\n",
              "        console.error('Error during call to suggestCharts:', error);\n",
              "      }\n",
              "      quickchartButtonEl.classList.remove('colab-df-spinner');\n",
              "      quickchartButtonEl.classList.add('colab-df-quickchart-complete');\n",
              "    }\n",
              "    (() => {\n",
              "      let quickchartButtonEl =\n",
              "        document.querySelector('#df-60073e58-bac4-4491-b2d8-39f040e743e4 button');\n",
              "      quickchartButtonEl.style.display =\n",
              "        google.colab.kernel.accessAllowed ? 'block' : 'none';\n",
              "    })();\n",
              "  </script>\n",
              "</div>\n",
              "    </div>\n",
              "  </div>\n"
            ]
          },
          "metadata": {},
          "execution_count": 7
        }
      ]
    },
    {
      "cell_type": "markdown",
      "source": [
        "## 01. Data Preprocessing\n",
        "### 01) Null Vallues"
      ],
      "metadata": {
        "id": "13u4R1j1Q5ys"
      }
    },
    {
      "cell_type": "code",
      "source": [
        "df_na = df.isna().sum().to_frame().reset_index()\n",
        "df_na.columns = [\"Column Name\", \"Null Count\"]\n",
        "df_na[\"Null Percentage\"] = round((df_na[\"Null Count\"] / len(df))*100, 2)\n",
        "df_na"
      ],
      "metadata": {
        "execution": {
          "iopub.status.busy": "2023-10-29T18:21:29.759029Z",
          "iopub.execute_input": "2023-10-29T18:21:29.759474Z",
          "iopub.status.idle": "2023-10-29T18:21:29.785372Z",
          "shell.execute_reply.started": "2023-10-29T18:21:29.759441Z",
          "shell.execute_reply": "2023-10-29T18:21:29.784488Z"
        },
        "trusted": true,
        "colab": {
          "base_uri": "https://localhost:8080/",
          "height": 424
        },
        "id": "xzB6vUD3Q5ys",
        "outputId": "735ca1fd-74ce-4887-9953-1ba3c546b542"
      },
      "execution_count": null,
      "outputs": [
        {
          "output_type": "execute_result",
          "data": {
            "text/plain": [
              "      Column Name  Null Count  Null Percentage\n",
              "0              Id           0             0.00\n",
              "1      MSSubClass           0             0.00\n",
              "2        MSZoning           0             0.00\n",
              "3     LotFrontage         259            17.74\n",
              "4         LotArea           0             0.00\n",
              "..            ...         ...              ...\n",
              "76         MoSold           0             0.00\n",
              "77         YrSold           0             0.00\n",
              "78       SaleType           0             0.00\n",
              "79  SaleCondition           0             0.00\n",
              "80      SalePrice           0             0.00\n",
              "\n",
              "[81 rows x 3 columns]"
            ],
            "text/html": [
              "\n",
              "  <div id=\"df-2f1df878-c0d9-4888-aacb-6dd0baab3ace\" class=\"colab-df-container\">\n",
              "    <div>\n",
              "<style scoped>\n",
              "    .dataframe tbody tr th:only-of-type {\n",
              "        vertical-align: middle;\n",
              "    }\n",
              "\n",
              "    .dataframe tbody tr th {\n",
              "        vertical-align: top;\n",
              "    }\n",
              "\n",
              "    .dataframe thead th {\n",
              "        text-align: right;\n",
              "    }\n",
              "</style>\n",
              "<table border=\"1\" class=\"dataframe\">\n",
              "  <thead>\n",
              "    <tr style=\"text-align: right;\">\n",
              "      <th></th>\n",
              "      <th>Column Name</th>\n",
              "      <th>Null Count</th>\n",
              "      <th>Null Percentage</th>\n",
              "    </tr>\n",
              "  </thead>\n",
              "  <tbody>\n",
              "    <tr>\n",
              "      <th>0</th>\n",
              "      <td>Id</td>\n",
              "      <td>0</td>\n",
              "      <td>0.00</td>\n",
              "    </tr>\n",
              "    <tr>\n",
              "      <th>1</th>\n",
              "      <td>MSSubClass</td>\n",
              "      <td>0</td>\n",
              "      <td>0.00</td>\n",
              "    </tr>\n",
              "    <tr>\n",
              "      <th>2</th>\n",
              "      <td>MSZoning</td>\n",
              "      <td>0</td>\n",
              "      <td>0.00</td>\n",
              "    </tr>\n",
              "    <tr>\n",
              "      <th>3</th>\n",
              "      <td>LotFrontage</td>\n",
              "      <td>259</td>\n",
              "      <td>17.74</td>\n",
              "    </tr>\n",
              "    <tr>\n",
              "      <th>4</th>\n",
              "      <td>LotArea</td>\n",
              "      <td>0</td>\n",
              "      <td>0.00</td>\n",
              "    </tr>\n",
              "    <tr>\n",
              "      <th>...</th>\n",
              "      <td>...</td>\n",
              "      <td>...</td>\n",
              "      <td>...</td>\n",
              "    </tr>\n",
              "    <tr>\n",
              "      <th>76</th>\n",
              "      <td>MoSold</td>\n",
              "      <td>0</td>\n",
              "      <td>0.00</td>\n",
              "    </tr>\n",
              "    <tr>\n",
              "      <th>77</th>\n",
              "      <td>YrSold</td>\n",
              "      <td>0</td>\n",
              "      <td>0.00</td>\n",
              "    </tr>\n",
              "    <tr>\n",
              "      <th>78</th>\n",
              "      <td>SaleType</td>\n",
              "      <td>0</td>\n",
              "      <td>0.00</td>\n",
              "    </tr>\n",
              "    <tr>\n",
              "      <th>79</th>\n",
              "      <td>SaleCondition</td>\n",
              "      <td>0</td>\n",
              "      <td>0.00</td>\n",
              "    </tr>\n",
              "    <tr>\n",
              "      <th>80</th>\n",
              "      <td>SalePrice</td>\n",
              "      <td>0</td>\n",
              "      <td>0.00</td>\n",
              "    </tr>\n",
              "  </tbody>\n",
              "</table>\n",
              "<p>81 rows × 3 columns</p>\n",
              "</div>\n",
              "    <div class=\"colab-df-buttons\">\n",
              "\n",
              "  <div class=\"colab-df-container\">\n",
              "    <button class=\"colab-df-convert\" onclick=\"convertToInteractive('df-2f1df878-c0d9-4888-aacb-6dd0baab3ace')\"\n",
              "            title=\"Convert this dataframe to an interactive table.\"\n",
              "            style=\"display:none;\">\n",
              "\n",
              "  <svg xmlns=\"http://www.w3.org/2000/svg\" height=\"24px\" viewBox=\"0 -960 960 960\">\n",
              "    <path d=\"M120-120v-720h720v720H120Zm60-500h600v-160H180v160Zm220 220h160v-160H400v160Zm0 220h160v-160H400v160ZM180-400h160v-160H180v160Zm440 0h160v-160H620v160ZM180-180h160v-160H180v160Zm440 0h160v-160H620v160Z\"/>\n",
              "  </svg>\n",
              "    </button>\n",
              "\n",
              "  <style>\n",
              "    .colab-df-container {\n",
              "      display:flex;\n",
              "      gap: 12px;\n",
              "    }\n",
              "\n",
              "    .colab-df-convert {\n",
              "      background-color: #E8F0FE;\n",
              "      border: none;\n",
              "      border-radius: 50%;\n",
              "      cursor: pointer;\n",
              "      display: none;\n",
              "      fill: #1967D2;\n",
              "      height: 32px;\n",
              "      padding: 0 0 0 0;\n",
              "      width: 32px;\n",
              "    }\n",
              "\n",
              "    .colab-df-convert:hover {\n",
              "      background-color: #E2EBFA;\n",
              "      box-shadow: 0px 1px 2px rgba(60, 64, 67, 0.3), 0px 1px 3px 1px rgba(60, 64, 67, 0.15);\n",
              "      fill: #174EA6;\n",
              "    }\n",
              "\n",
              "    .colab-df-buttons div {\n",
              "      margin-bottom: 4px;\n",
              "    }\n",
              "\n",
              "    [theme=dark] .colab-df-convert {\n",
              "      background-color: #3B4455;\n",
              "      fill: #D2E3FC;\n",
              "    }\n",
              "\n",
              "    [theme=dark] .colab-df-convert:hover {\n",
              "      background-color: #434B5C;\n",
              "      box-shadow: 0px 1px 3px 1px rgba(0, 0, 0, 0.15);\n",
              "      filter: drop-shadow(0px 1px 2px rgba(0, 0, 0, 0.3));\n",
              "      fill: #FFFFFF;\n",
              "    }\n",
              "  </style>\n",
              "\n",
              "    <script>\n",
              "      const buttonEl =\n",
              "        document.querySelector('#df-2f1df878-c0d9-4888-aacb-6dd0baab3ace button.colab-df-convert');\n",
              "      buttonEl.style.display =\n",
              "        google.colab.kernel.accessAllowed ? 'block' : 'none';\n",
              "\n",
              "      async function convertToInteractive(key) {\n",
              "        const element = document.querySelector('#df-2f1df878-c0d9-4888-aacb-6dd0baab3ace');\n",
              "        const dataTable =\n",
              "          await google.colab.kernel.invokeFunction('convertToInteractive',\n",
              "                                                    [key], {});\n",
              "        if (!dataTable) return;\n",
              "\n",
              "        const docLinkHtml = 'Like what you see? Visit the ' +\n",
              "          '<a target=\"_blank\" href=https://colab.research.google.com/notebooks/data_table.ipynb>data table notebook</a>'\n",
              "          + ' to learn more about interactive tables.';\n",
              "        element.innerHTML = '';\n",
              "        dataTable['output_type'] = 'display_data';\n",
              "        await google.colab.output.renderOutput(dataTable, element);\n",
              "        const docLink = document.createElement('div');\n",
              "        docLink.innerHTML = docLinkHtml;\n",
              "        element.appendChild(docLink);\n",
              "      }\n",
              "    </script>\n",
              "  </div>\n",
              "\n",
              "\n",
              "<div id=\"df-5b6d0860-2177-4a69-bbf9-94865dcc182b\">\n",
              "  <button class=\"colab-df-quickchart\" onclick=\"quickchart('df-5b6d0860-2177-4a69-bbf9-94865dcc182b')\"\n",
              "            title=\"Suggest charts.\"\n",
              "            style=\"display:none;\">\n",
              "\n",
              "<svg xmlns=\"http://www.w3.org/2000/svg\" height=\"24px\"viewBox=\"0 0 24 24\"\n",
              "     width=\"24px\">\n",
              "    <g>\n",
              "        <path d=\"M19 3H5c-1.1 0-2 .9-2 2v14c0 1.1.9 2 2 2h14c1.1 0 2-.9 2-2V5c0-1.1-.9-2-2-2zM9 17H7v-7h2v7zm4 0h-2V7h2v10zm4 0h-2v-4h2v4z\"/>\n",
              "    </g>\n",
              "</svg>\n",
              "  </button>\n",
              "\n",
              "<style>\n",
              "  .colab-df-quickchart {\n",
              "      --bg-color: #E8F0FE;\n",
              "      --fill-color: #1967D2;\n",
              "      --hover-bg-color: #E2EBFA;\n",
              "      --hover-fill-color: #174EA6;\n",
              "      --disabled-fill-color: #AAA;\n",
              "      --disabled-bg-color: #DDD;\n",
              "  }\n",
              "\n",
              "  [theme=dark] .colab-df-quickchart {\n",
              "      --bg-color: #3B4455;\n",
              "      --fill-color: #D2E3FC;\n",
              "      --hover-bg-color: #434B5C;\n",
              "      --hover-fill-color: #FFFFFF;\n",
              "      --disabled-bg-color: #3B4455;\n",
              "      --disabled-fill-color: #666;\n",
              "  }\n",
              "\n",
              "  .colab-df-quickchart {\n",
              "    background-color: var(--bg-color);\n",
              "    border: none;\n",
              "    border-radius: 50%;\n",
              "    cursor: pointer;\n",
              "    display: none;\n",
              "    fill: var(--fill-color);\n",
              "    height: 32px;\n",
              "    padding: 0;\n",
              "    width: 32px;\n",
              "  }\n",
              "\n",
              "  .colab-df-quickchart:hover {\n",
              "    background-color: var(--hover-bg-color);\n",
              "    box-shadow: 0 1px 2px rgba(60, 64, 67, 0.3), 0 1px 3px 1px rgba(60, 64, 67, 0.15);\n",
              "    fill: var(--button-hover-fill-color);\n",
              "  }\n",
              "\n",
              "  .colab-df-quickchart-complete:disabled,\n",
              "  .colab-df-quickchart-complete:disabled:hover {\n",
              "    background-color: var(--disabled-bg-color);\n",
              "    fill: var(--disabled-fill-color);\n",
              "    box-shadow: none;\n",
              "  }\n",
              "\n",
              "  .colab-df-spinner {\n",
              "    border: 2px solid var(--fill-color);\n",
              "    border-color: transparent;\n",
              "    border-bottom-color: var(--fill-color);\n",
              "    animation:\n",
              "      spin 1s steps(1) infinite;\n",
              "  }\n",
              "\n",
              "  @keyframes spin {\n",
              "    0% {\n",
              "      border-color: transparent;\n",
              "      border-bottom-color: var(--fill-color);\n",
              "      border-left-color: var(--fill-color);\n",
              "    }\n",
              "    20% {\n",
              "      border-color: transparent;\n",
              "      border-left-color: var(--fill-color);\n",
              "      border-top-color: var(--fill-color);\n",
              "    }\n",
              "    30% {\n",
              "      border-color: transparent;\n",
              "      border-left-color: var(--fill-color);\n",
              "      border-top-color: var(--fill-color);\n",
              "      border-right-color: var(--fill-color);\n",
              "    }\n",
              "    40% {\n",
              "      border-color: transparent;\n",
              "      border-right-color: var(--fill-color);\n",
              "      border-top-color: var(--fill-color);\n",
              "    }\n",
              "    60% {\n",
              "      border-color: transparent;\n",
              "      border-right-color: var(--fill-color);\n",
              "    }\n",
              "    80% {\n",
              "      border-color: transparent;\n",
              "      border-right-color: var(--fill-color);\n",
              "      border-bottom-color: var(--fill-color);\n",
              "    }\n",
              "    90% {\n",
              "      border-color: transparent;\n",
              "      border-bottom-color: var(--fill-color);\n",
              "    }\n",
              "  }\n",
              "</style>\n",
              "\n",
              "  <script>\n",
              "    async function quickchart(key) {\n",
              "      const quickchartButtonEl =\n",
              "        document.querySelector('#' + key + ' button');\n",
              "      quickchartButtonEl.disabled = true;  // To prevent multiple clicks.\n",
              "      quickchartButtonEl.classList.add('colab-df-spinner');\n",
              "      try {\n",
              "        const charts = await google.colab.kernel.invokeFunction(\n",
              "            'suggestCharts', [key], {});\n",
              "      } catch (error) {\n",
              "        console.error('Error during call to suggestCharts:', error);\n",
              "      }\n",
              "      quickchartButtonEl.classList.remove('colab-df-spinner');\n",
              "      quickchartButtonEl.classList.add('colab-df-quickchart-complete');\n",
              "    }\n",
              "    (() => {\n",
              "      let quickchartButtonEl =\n",
              "        document.querySelector('#df-5b6d0860-2177-4a69-bbf9-94865dcc182b button');\n",
              "      quickchartButtonEl.style.display =\n",
              "        google.colab.kernel.accessAllowed ? 'block' : 'none';\n",
              "    })();\n",
              "  </script>\n",
              "</div>\n",
              "    </div>\n",
              "  </div>\n"
            ]
          },
          "metadata": {},
          "execution_count": 8
        }
      ]
    },
    {
      "cell_type": "code",
      "source": [
        "df_many_na_columns = df_na[df_na[\"Null Count\"] >= 200][\"Column Name\"].tolist()\n",
        "df_many_na_columns"
      ],
      "metadata": {
        "execution": {
          "iopub.status.busy": "2023-10-29T18:21:34.440969Z",
          "iopub.execute_input": "2023-10-29T18:21:34.441366Z",
          "iopub.status.idle": "2023-10-29T18:21:34.451331Z",
          "shell.execute_reply.started": "2023-10-29T18:21:34.441336Z",
          "shell.execute_reply": "2023-10-29T18:21:34.450005Z"
        },
        "trusted": true,
        "colab": {
          "base_uri": "https://localhost:8080/"
        },
        "id": "agUTTwgzQ5yt",
        "outputId": "d9c34604-5045-4188-a411-64d57b0b5ff9"
      },
      "execution_count": null,
      "outputs": [
        {
          "output_type": "execute_result",
          "data": {
            "text/plain": [
              "['LotFrontage', 'Alley', 'FireplaceQu', 'PoolQC', 'Fence', 'MiscFeature']"
            ]
          },
          "metadata": {},
          "execution_count": 9
        }
      ]
    },
    {
      "cell_type": "code",
      "source": [
        "df_v1 = df.drop(columns=df_many_na_columns, axis=1)\n",
        "df_v1.shape # 1460 Rows 74 Columns (81 Columns -> 74 Columns)"
      ],
      "metadata": {
        "execution": {
          "iopub.status.busy": "2023-10-29T18:21:55.924744Z",
          "iopub.execute_input": "2023-10-29T18:21:55.925936Z",
          "iopub.status.idle": "2023-10-29T18:21:55.936057Z",
          "shell.execute_reply.started": "2023-10-29T18:21:55.925886Z",
          "shell.execute_reply": "2023-10-29T18:21:55.934726Z"
        },
        "trusted": true,
        "colab": {
          "base_uri": "https://localhost:8080/"
        },
        "id": "90zcPYD0Q5yu",
        "outputId": "8cb5fe03-9475-4a34-df69-6839b5066fce"
      },
      "execution_count": null,
      "outputs": [
        {
          "output_type": "execute_result",
          "data": {
            "text/plain": [
              "(1460, 75)"
            ]
          },
          "metadata": {},
          "execution_count": 18
        }
      ]
    },
    {
      "cell_type": "code",
      "source": [
        "df_few_na_columns = df_na[(df_na[\"Null Count\"] < 200) & (df_na[\"Null Count\"] > 0)][\"Column Name\"].tolist()\n",
        "df_na[df_na[\"Column Name\"].isin(df_few_na_columns)]"
      ],
      "metadata": {
        "execution": {
          "iopub.status.busy": "2023-10-29T18:22:08.813218Z",
          "iopub.execute_input": "2023-10-29T18:22:08.81363Z",
          "iopub.status.idle": "2023-10-29T18:22:08.831323Z",
          "shell.execute_reply.started": "2023-10-29T18:22:08.813599Z",
          "shell.execute_reply": "2023-10-29T18:22:08.829913Z"
        },
        "trusted": true,
        "colab": {
          "base_uri": "https://localhost:8080/",
          "height": 457
        },
        "id": "x-2I9mDyQ5yu",
        "outputId": "34ffd7fb-da36-4049-e5c7-c45860bcbd47"
      },
      "execution_count": null,
      "outputs": [
        {
          "output_type": "execute_result",
          "data": {
            "text/plain": [
              "     Column Name  Null Count  Null Percentage\n",
              "25    MasVnrType           8             0.55\n",
              "26    MasVnrArea           8             0.55\n",
              "30      BsmtQual          37             2.53\n",
              "31      BsmtCond          37             2.53\n",
              "32  BsmtExposure          38             2.60\n",
              "33  BsmtFinType1          37             2.53\n",
              "35  BsmtFinType2          38             2.60\n",
              "42    Electrical           1             0.07\n",
              "58    GarageType          81             5.55\n",
              "59   GarageYrBlt          81             5.55\n",
              "60  GarageFinish          81             5.55\n",
              "63    GarageQual          81             5.55\n",
              "64    GarageCond          81             5.55"
            ],
            "text/html": [
              "\n",
              "  <div id=\"df-43e71f41-82a3-4c18-8687-b74aa4fe7677\" class=\"colab-df-container\">\n",
              "    <div>\n",
              "<style scoped>\n",
              "    .dataframe tbody tr th:only-of-type {\n",
              "        vertical-align: middle;\n",
              "    }\n",
              "\n",
              "    .dataframe tbody tr th {\n",
              "        vertical-align: top;\n",
              "    }\n",
              "\n",
              "    .dataframe thead th {\n",
              "        text-align: right;\n",
              "    }\n",
              "</style>\n",
              "<table border=\"1\" class=\"dataframe\">\n",
              "  <thead>\n",
              "    <tr style=\"text-align: right;\">\n",
              "      <th></th>\n",
              "      <th>Column Name</th>\n",
              "      <th>Null Count</th>\n",
              "      <th>Null Percentage</th>\n",
              "    </tr>\n",
              "  </thead>\n",
              "  <tbody>\n",
              "    <tr>\n",
              "      <th>25</th>\n",
              "      <td>MasVnrType</td>\n",
              "      <td>8</td>\n",
              "      <td>0.55</td>\n",
              "    </tr>\n",
              "    <tr>\n",
              "      <th>26</th>\n",
              "      <td>MasVnrArea</td>\n",
              "      <td>8</td>\n",
              "      <td>0.55</td>\n",
              "    </tr>\n",
              "    <tr>\n",
              "      <th>30</th>\n",
              "      <td>BsmtQual</td>\n",
              "      <td>37</td>\n",
              "      <td>2.53</td>\n",
              "    </tr>\n",
              "    <tr>\n",
              "      <th>31</th>\n",
              "      <td>BsmtCond</td>\n",
              "      <td>37</td>\n",
              "      <td>2.53</td>\n",
              "    </tr>\n",
              "    <tr>\n",
              "      <th>32</th>\n",
              "      <td>BsmtExposure</td>\n",
              "      <td>38</td>\n",
              "      <td>2.60</td>\n",
              "    </tr>\n",
              "    <tr>\n",
              "      <th>33</th>\n",
              "      <td>BsmtFinType1</td>\n",
              "      <td>37</td>\n",
              "      <td>2.53</td>\n",
              "    </tr>\n",
              "    <tr>\n",
              "      <th>35</th>\n",
              "      <td>BsmtFinType2</td>\n",
              "      <td>38</td>\n",
              "      <td>2.60</td>\n",
              "    </tr>\n",
              "    <tr>\n",
              "      <th>42</th>\n",
              "      <td>Electrical</td>\n",
              "      <td>1</td>\n",
              "      <td>0.07</td>\n",
              "    </tr>\n",
              "    <tr>\n",
              "      <th>58</th>\n",
              "      <td>GarageType</td>\n",
              "      <td>81</td>\n",
              "      <td>5.55</td>\n",
              "    </tr>\n",
              "    <tr>\n",
              "      <th>59</th>\n",
              "      <td>GarageYrBlt</td>\n",
              "      <td>81</td>\n",
              "      <td>5.55</td>\n",
              "    </tr>\n",
              "    <tr>\n",
              "      <th>60</th>\n",
              "      <td>GarageFinish</td>\n",
              "      <td>81</td>\n",
              "      <td>5.55</td>\n",
              "    </tr>\n",
              "    <tr>\n",
              "      <th>63</th>\n",
              "      <td>GarageQual</td>\n",
              "      <td>81</td>\n",
              "      <td>5.55</td>\n",
              "    </tr>\n",
              "    <tr>\n",
              "      <th>64</th>\n",
              "      <td>GarageCond</td>\n",
              "      <td>81</td>\n",
              "      <td>5.55</td>\n",
              "    </tr>\n",
              "  </tbody>\n",
              "</table>\n",
              "</div>\n",
              "    <div class=\"colab-df-buttons\">\n",
              "\n",
              "  <div class=\"colab-df-container\">\n",
              "    <button class=\"colab-df-convert\" onclick=\"convertToInteractive('df-43e71f41-82a3-4c18-8687-b74aa4fe7677')\"\n",
              "            title=\"Convert this dataframe to an interactive table.\"\n",
              "            style=\"display:none;\">\n",
              "\n",
              "  <svg xmlns=\"http://www.w3.org/2000/svg\" height=\"24px\" viewBox=\"0 -960 960 960\">\n",
              "    <path d=\"M120-120v-720h720v720H120Zm60-500h600v-160H180v160Zm220 220h160v-160H400v160Zm0 220h160v-160H400v160ZM180-400h160v-160H180v160Zm440 0h160v-160H620v160ZM180-180h160v-160H180v160Zm440 0h160v-160H620v160Z\"/>\n",
              "  </svg>\n",
              "    </button>\n",
              "\n",
              "  <style>\n",
              "    .colab-df-container {\n",
              "      display:flex;\n",
              "      gap: 12px;\n",
              "    }\n",
              "\n",
              "    .colab-df-convert {\n",
              "      background-color: #E8F0FE;\n",
              "      border: none;\n",
              "      border-radius: 50%;\n",
              "      cursor: pointer;\n",
              "      display: none;\n",
              "      fill: #1967D2;\n",
              "      height: 32px;\n",
              "      padding: 0 0 0 0;\n",
              "      width: 32px;\n",
              "    }\n",
              "\n",
              "    .colab-df-convert:hover {\n",
              "      background-color: #E2EBFA;\n",
              "      box-shadow: 0px 1px 2px rgba(60, 64, 67, 0.3), 0px 1px 3px 1px rgba(60, 64, 67, 0.15);\n",
              "      fill: #174EA6;\n",
              "    }\n",
              "\n",
              "    .colab-df-buttons div {\n",
              "      margin-bottom: 4px;\n",
              "    }\n",
              "\n",
              "    [theme=dark] .colab-df-convert {\n",
              "      background-color: #3B4455;\n",
              "      fill: #D2E3FC;\n",
              "    }\n",
              "\n",
              "    [theme=dark] .colab-df-convert:hover {\n",
              "      background-color: #434B5C;\n",
              "      box-shadow: 0px 1px 3px 1px rgba(0, 0, 0, 0.15);\n",
              "      filter: drop-shadow(0px 1px 2px rgba(0, 0, 0, 0.3));\n",
              "      fill: #FFFFFF;\n",
              "    }\n",
              "  </style>\n",
              "\n",
              "    <script>\n",
              "      const buttonEl =\n",
              "        document.querySelector('#df-43e71f41-82a3-4c18-8687-b74aa4fe7677 button.colab-df-convert');\n",
              "      buttonEl.style.display =\n",
              "        google.colab.kernel.accessAllowed ? 'block' : 'none';\n",
              "\n",
              "      async function convertToInteractive(key) {\n",
              "        const element = document.querySelector('#df-43e71f41-82a3-4c18-8687-b74aa4fe7677');\n",
              "        const dataTable =\n",
              "          await google.colab.kernel.invokeFunction('convertToInteractive',\n",
              "                                                    [key], {});\n",
              "        if (!dataTable) return;\n",
              "\n",
              "        const docLinkHtml = 'Like what you see? Visit the ' +\n",
              "          '<a target=\"_blank\" href=https://colab.research.google.com/notebooks/data_table.ipynb>data table notebook</a>'\n",
              "          + ' to learn more about interactive tables.';\n",
              "        element.innerHTML = '';\n",
              "        dataTable['output_type'] = 'display_data';\n",
              "        await google.colab.output.renderOutput(dataTable, element);\n",
              "        const docLink = document.createElement('div');\n",
              "        docLink.innerHTML = docLinkHtml;\n",
              "        element.appendChild(docLink);\n",
              "      }\n",
              "    </script>\n",
              "  </div>\n",
              "\n",
              "\n",
              "<div id=\"df-4bc06b21-b7b7-4ab0-90bc-e69421e0c26b\">\n",
              "  <button class=\"colab-df-quickchart\" onclick=\"quickchart('df-4bc06b21-b7b7-4ab0-90bc-e69421e0c26b')\"\n",
              "            title=\"Suggest charts.\"\n",
              "            style=\"display:none;\">\n",
              "\n",
              "<svg xmlns=\"http://www.w3.org/2000/svg\" height=\"24px\"viewBox=\"0 0 24 24\"\n",
              "     width=\"24px\">\n",
              "    <g>\n",
              "        <path d=\"M19 3H5c-1.1 0-2 .9-2 2v14c0 1.1.9 2 2 2h14c1.1 0 2-.9 2-2V5c0-1.1-.9-2-2-2zM9 17H7v-7h2v7zm4 0h-2V7h2v10zm4 0h-2v-4h2v4z\"/>\n",
              "    </g>\n",
              "</svg>\n",
              "  </button>\n",
              "\n",
              "<style>\n",
              "  .colab-df-quickchart {\n",
              "      --bg-color: #E8F0FE;\n",
              "      --fill-color: #1967D2;\n",
              "      --hover-bg-color: #E2EBFA;\n",
              "      --hover-fill-color: #174EA6;\n",
              "      --disabled-fill-color: #AAA;\n",
              "      --disabled-bg-color: #DDD;\n",
              "  }\n",
              "\n",
              "  [theme=dark] .colab-df-quickchart {\n",
              "      --bg-color: #3B4455;\n",
              "      --fill-color: #D2E3FC;\n",
              "      --hover-bg-color: #434B5C;\n",
              "      --hover-fill-color: #FFFFFF;\n",
              "      --disabled-bg-color: #3B4455;\n",
              "      --disabled-fill-color: #666;\n",
              "  }\n",
              "\n",
              "  .colab-df-quickchart {\n",
              "    background-color: var(--bg-color);\n",
              "    border: none;\n",
              "    border-radius: 50%;\n",
              "    cursor: pointer;\n",
              "    display: none;\n",
              "    fill: var(--fill-color);\n",
              "    height: 32px;\n",
              "    padding: 0;\n",
              "    width: 32px;\n",
              "  }\n",
              "\n",
              "  .colab-df-quickchart:hover {\n",
              "    background-color: var(--hover-bg-color);\n",
              "    box-shadow: 0 1px 2px rgba(60, 64, 67, 0.3), 0 1px 3px 1px rgba(60, 64, 67, 0.15);\n",
              "    fill: var(--button-hover-fill-color);\n",
              "  }\n",
              "\n",
              "  .colab-df-quickchart-complete:disabled,\n",
              "  .colab-df-quickchart-complete:disabled:hover {\n",
              "    background-color: var(--disabled-bg-color);\n",
              "    fill: var(--disabled-fill-color);\n",
              "    box-shadow: none;\n",
              "  }\n",
              "\n",
              "  .colab-df-spinner {\n",
              "    border: 2px solid var(--fill-color);\n",
              "    border-color: transparent;\n",
              "    border-bottom-color: var(--fill-color);\n",
              "    animation:\n",
              "      spin 1s steps(1) infinite;\n",
              "  }\n",
              "\n",
              "  @keyframes spin {\n",
              "    0% {\n",
              "      border-color: transparent;\n",
              "      border-bottom-color: var(--fill-color);\n",
              "      border-left-color: var(--fill-color);\n",
              "    }\n",
              "    20% {\n",
              "      border-color: transparent;\n",
              "      border-left-color: var(--fill-color);\n",
              "      border-top-color: var(--fill-color);\n",
              "    }\n",
              "    30% {\n",
              "      border-color: transparent;\n",
              "      border-left-color: var(--fill-color);\n",
              "      border-top-color: var(--fill-color);\n",
              "      border-right-color: var(--fill-color);\n",
              "    }\n",
              "    40% {\n",
              "      border-color: transparent;\n",
              "      border-right-color: var(--fill-color);\n",
              "      border-top-color: var(--fill-color);\n",
              "    }\n",
              "    60% {\n",
              "      border-color: transparent;\n",
              "      border-right-color: var(--fill-color);\n",
              "    }\n",
              "    80% {\n",
              "      border-color: transparent;\n",
              "      border-right-color: var(--fill-color);\n",
              "      border-bottom-color: var(--fill-color);\n",
              "    }\n",
              "    90% {\n",
              "      border-color: transparent;\n",
              "      border-bottom-color: var(--fill-color);\n",
              "    }\n",
              "  }\n",
              "</style>\n",
              "\n",
              "  <script>\n",
              "    async function quickchart(key) {\n",
              "      const quickchartButtonEl =\n",
              "        document.querySelector('#' + key + ' button');\n",
              "      quickchartButtonEl.disabled = true;  // To prevent multiple clicks.\n",
              "      quickchartButtonEl.classList.add('colab-df-spinner');\n",
              "      try {\n",
              "        const charts = await google.colab.kernel.invokeFunction(\n",
              "            'suggestCharts', [key], {});\n",
              "      } catch (error) {\n",
              "        console.error('Error during call to suggestCharts:', error);\n",
              "      }\n",
              "      quickchartButtonEl.classList.remove('colab-df-spinner');\n",
              "      quickchartButtonEl.classList.add('colab-df-quickchart-complete');\n",
              "    }\n",
              "    (() => {\n",
              "      let quickchartButtonEl =\n",
              "        document.querySelector('#df-4bc06b21-b7b7-4ab0-90bc-e69421e0c26b button');\n",
              "      quickchartButtonEl.style.display =\n",
              "        google.colab.kernel.accessAllowed ? 'block' : 'none';\n",
              "    })();\n",
              "  </script>\n",
              "</div>\n",
              "    </div>\n",
              "  </div>\n"
            ]
          },
          "metadata": {},
          "execution_count": 11
        }
      ]
    },
    {
      "cell_type": "code",
      "source": [
        "df_v2 = df_v1.dropna()\n",
        "df_v2.shape # 1338 Rows 74 Columns (1460 Rows -> 1338 Rows)"
      ],
      "metadata": {
        "execution": {
          "iopub.status.busy": "2023-10-29T18:22:12.331729Z",
          "iopub.execute_input": "2023-10-29T18:22:12.332118Z",
          "iopub.status.idle": "2023-10-29T18:22:12.349037Z",
          "shell.execute_reply.started": "2023-10-29T18:22:12.33209Z",
          "shell.execute_reply": "2023-10-29T18:22:12.347542Z"
        },
        "trusted": true,
        "colab": {
          "base_uri": "https://localhost:8080/"
        },
        "id": "YM6GQTRmQ5yu",
        "outputId": "00a844c8-030a-46ff-c0cf-986a53fc3cf3"
      },
      "execution_count": null,
      "outputs": [
        {
          "output_type": "execute_result",
          "data": {
            "text/plain": [
              "(1338, 75)"
            ]
          },
          "metadata": {},
          "execution_count": 12
        }
      ]
    },
    {
      "cell_type": "markdown",
      "source": [
        "### 02) Useless Columns\n",
        "#### [01] Id\n",
        "Id Column did not contain meaningful value since it was solely for \"Numbering\" the observations (rows)."
      ],
      "metadata": {
        "id": "_sjVhX_kQ5yu"
      }
    },
    {
      "cell_type": "code",
      "source": [
        "df_v3 = df_v2.drop(\"Id\", axis=1)\n",
        "df_v3.shape # 1338 Rows 73 Columns (75 Columns -> 73 Columns)"
      ],
      "metadata": {
        "execution": {
          "iopub.status.busy": "2023-10-29T18:22:18.624865Z",
          "iopub.execute_input": "2023-10-29T18:22:18.625798Z",
          "iopub.status.idle": "2023-10-29T18:22:18.636873Z",
          "shell.execute_reply.started": "2023-10-29T18:22:18.625747Z",
          "shell.execute_reply": "2023-10-29T18:22:18.635577Z"
        },
        "trusted": true,
        "colab": {
          "base_uri": "https://localhost:8080/"
        },
        "id": "RKFJ3W5pQ5yu",
        "outputId": "277f9a4e-e9d5-4d38-a860-3d8ad3bb636f"
      },
      "execution_count": null,
      "outputs": [
        {
          "output_type": "execute_result",
          "data": {
            "text/plain": [
              "(1338, 74)"
            ]
          },
          "metadata": {},
          "execution_count": 13
        }
      ]
    },
    {
      "cell_type": "markdown",
      "source": [
        "#### [02] Utilities\n",
        "Vast majority of observations are in \"AllPub\", meaning that this column couldn't contribute to our model.\n",
        "<br/>Thus, we dropped this column."
      ],
      "metadata": {
        "id": "4_OIp9BIQ5yu"
      }
    },
    {
      "cell_type": "code",
      "source": [
        "plt.figure(figsize=(10, 6))\n",
        "sns.boxplot(data=df_v3, x=\"Utilities\", y=\"SalePrice\")\n",
        "plt.title(\"House Prices by Utilities\")\n",
        "plt.show()"
      ],
      "metadata": {
        "execution": {
          "iopub.status.busy": "2023-10-29T18:22:24.499274Z",
          "iopub.execute_input": "2023-10-29T18:22:24.500955Z",
          "iopub.status.idle": "2023-10-29T18:22:24.750134Z",
          "shell.execute_reply.started": "2023-10-29T18:22:24.500878Z",
          "shell.execute_reply": "2023-10-29T18:22:24.748927Z"
        },
        "trusted": true,
        "colab": {
          "base_uri": "https://localhost:8080/",
          "height": 564
        },
        "id": "wjfBCmi3Q5yu",
        "outputId": "2a22748a-7e0a-4c33-97ab-6a3d387f18ef"
      },
      "execution_count": null,
      "outputs": [
        {
          "output_type": "display_data",
          "data": {
            "text/plain": [
              "<Figure size 1000x600 with 1 Axes>"
            ],
            "image/png": "[encoded data removed]"
          },
          "metadata": {}
        }
      ]
    },
    {
      "cell_type": "code",
      "source": [
        "df_v4 = df_v3.drop(\"Utilities\", axis = 1)\n",
        "df_v4.shape # 1338 Rows 72 Columns (74 Columns -> 72 Columns)"
      ],
      "metadata": {
        "execution": {
          "iopub.status.busy": "2023-10-29T18:22:27.959991Z",
          "iopub.execute_input": "2023-10-29T18:22:27.960434Z",
          "iopub.status.idle": "2023-10-29T18:22:27.969928Z",
          "shell.execute_reply.started": "2023-10-29T18:22:27.960402Z",
          "shell.execute_reply": "2023-10-29T18:22:27.968939Z"
        },
        "trusted": true,
        "colab": {
          "base_uri": "https://localhost:8080/"
        },
        "id": "umSdUY2rQ5yu",
        "outputId": "8dc8f784-3a24-4b45-f24a-b7dbc66cc20d"
      },
      "execution_count": null,
      "outputs": [
        {
          "output_type": "execute_result",
          "data": {
            "text/plain": [
              "(1338, 73)"
            ]
          },
          "metadata": {},
          "execution_count": 15
        }
      ]
    },
    {
      "cell_type": "markdown",
      "source": [
        "### 03) Outliers\n",
        "Removing outliers for every variable could lead to significant decrease in the size of dataset, hence we decided to remove outliers from our dependent variable."
      ],
      "metadata": {
        "id": "MAd5Mc2nQ5yu"
      }
    },
    {
      "cell_type": "code",
      "source": [
        "print(df_v4.sort_values(by=\"SalePrice\", ascending=False)[\"SalePrice\"].head(10))"
      ],
      "metadata": {
        "execution": {
          "iopub.status.busy": "2023-10-29T18:22:34.484307Z",
          "iopub.execute_input": "2023-10-29T18:22:34.484831Z",
          "iopub.status.idle": "2023-10-29T18:22:34.49619Z",
          "shell.execute_reply.started": "2023-10-29T18:22:34.484792Z",
          "shell.execute_reply": "2023-10-29T18:22:34.494907Z"
        },
        "trusted": true,
        "colab": {
          "base_uri": "https://localhost:8080/"
        },
        "id": "1Q7AtZoLQ5yu",
        "outputId": "43cdb23a-3e26-4699-ee91-050da5dca4a8"
      },
      "execution_count": null,
      "outputs": [
        {
          "output_type": "stream",
          "name": "stdout",
          "text": [
            "691     755000\n",
            "1182    745000\n",
            "1169    625000\n",
            "898     611657\n",
            "803     582933\n",
            "1046    556581\n",
            "440     555000\n",
            "769     538000\n",
            "178     501837\n",
            "798     485000\n",
            "Name: SalePrice, dtype: int64\n"
          ]
        }
      ]
    },
    {
      "cell_type": "code",
      "source": [
        "print(df_v4.sort_values(by=\"SalePrice\", ascending=True)[\"SalePrice\"].head(10))"
      ],
      "metadata": {
        "execution": {
          "iopub.status.busy": "2023-10-29T18:22:37.399166Z",
          "iopub.execute_input": "2023-10-29T18:22:37.399571Z",
          "iopub.status.idle": "2023-10-29T18:22:37.410063Z",
          "shell.execute_reply.started": "2023-10-29T18:22:37.399542Z",
          "shell.execute_reply": "2023-10-29T18:22:37.408621Z"
        },
        "trusted": true,
        "colab": {
          "base_uri": "https://localhost:8080/"
        },
        "id": "-hBHJQSCQ5yu",
        "outputId": "178e00f3-3b6d-43ab-9292-af724fadfde5"
      },
      "execution_count": null,
      "outputs": [
        {
          "output_type": "stream",
          "name": "stdout",
          "text": [
            "916     35311\n",
            "30      40000\n",
            "812     55993\n",
            "1380    58500\n",
            "410     60000\n",
            "1100    60000\n",
            "462     62383\n",
            "1432    64500\n",
            "874     66500\n",
            "398     67000\n",
            "Name: SalePrice, dtype: int64\n"
          ]
        }
      ]
    },
    {
      "cell_type": "code",
      "source": [
        "expensive_top2 = df_v4.sort_values(by=\"SalePrice\", ascending=False).head(2).index\n",
        "cheap_top2 = df_v4.sort_values(by=\"SalePrice\", ascending=True).head(2).index\n",
        "drop_index = expensive_top2.union(cheap_top2)\n",
        "\n",
        "df_v5 = df_v4.drop(drop_index)\n",
        "df_v5.shape # 1334 Rows 72 Columns (1338 Rows -> 1334 Rows)"
      ],
      "metadata": {
        "execution": {
          "iopub.status.busy": "2023-10-29T18:22:40.531873Z",
          "iopub.execute_input": "2023-10-29T18:22:40.532315Z",
          "iopub.status.idle": "2023-10-29T18:22:40.548383Z",
          "shell.execute_reply.started": "2023-10-29T18:22:40.532283Z",
          "shell.execute_reply": "2023-10-29T18:22:40.547124Z"
        },
        "trusted": true,
        "id": "8keQdbpBQ5yv"
      },
      "execution_count": null,
      "outputs": []
    },
    {
      "cell_type": "markdown",
      "source": [
        "### 04) Correlation Matrix"
      ],
      "metadata": {
        "id": "y4poQ6PdQ5yv"
      }
    },
    {
      "cell_type": "code",
      "source": [
        "# Numerical Variables\n",
        "numerical_columns = df_v5.select_dtypes(include=np.number).columns.tolist()\n",
        "print(numerical_columns)\n",
        "print(len(numerical_columns)) # 36 Columns"
      ],
      "metadata": {
        "execution": {
          "iopub.status.busy": "2023-10-29T18:22:45.573387Z",
          "iopub.execute_input": "2023-10-29T18:22:45.573855Z",
          "iopub.status.idle": "2023-10-29T18:22:45.582621Z",
          "shell.execute_reply.started": "2023-10-29T18:22:45.573821Z",
          "shell.execute_reply": "2023-10-29T18:22:45.581335Z"
        },
        "trusted": true,
        "id": "Aw5pDICMQ5yv"
      },
      "execution_count": null,
      "outputs": []
    },
    {
      "cell_type": "code",
      "source": [
        "corr_matrix = df_v5[numerical_columns].corr()"
      ],
      "metadata": {
        "execution": {
          "iopub.status.busy": "2023-10-29T18:22:49.173209Z",
          "iopub.execute_input": "2023-10-29T18:22:49.17378Z",
          "iopub.status.idle": "2023-10-29T18:22:49.187526Z",
          "shell.execute_reply.started": "2023-10-29T18:22:49.173735Z",
          "shell.execute_reply": "2023-10-29T18:22:49.186664Z"
        },
        "trusted": true,
        "id": "6xRgMLZgQ5yv"
      },
      "execution_count": null,
      "outputs": []
    },
    {
      "cell_type": "markdown",
      "source": [
        "Pearson Coefficient with the value less than 0.2 is considered to be tricial correlation, so that we decided to remove the variables with low coefficient to enhance our model."
      ],
      "metadata": {
        "id": "t5M_yGqkQ5yv"
      }
    },
    {
      "cell_type": "code",
      "source": [
        "# Low Correaltion ( < 0.2)\n",
        "low_corr = corr_matrix[corr_matrix[\"SalePrice\"].abs() < 0.2].index.tolist()\n",
        "print(low_corr)\n",
        "print(len(low_corr)) # 15 Columns"
      ],
      "metadata": {
        "execution": {
          "iopub.status.busy": "2023-10-29T18:22:51.535495Z",
          "iopub.execute_input": "2023-10-29T18:22:51.535899Z",
          "iopub.status.idle": "2023-10-29T18:22:51.543517Z",
          "shell.execute_reply.started": "2023-10-29T18:22:51.535866Z",
          "shell.execute_reply": "2023-10-29T18:22:51.542713Z"
        },
        "trusted": true,
        "id": "PPI0s3BxQ5yv"
      },
      "execution_count": null,
      "outputs": []
    },
    {
      "cell_type": "code",
      "source": [
        "df_v6 = df_v5.drop(columns=low_corr, axis=1)\n",
        "df_v6.shape # 1334 Rows 57 Columns (73 Columns -> 57 Columns)"
      ],
      "metadata": {
        "execution": {
          "iopub.status.busy": "2023-10-29T18:22:53.829839Z",
          "iopub.execute_input": "2023-10-29T18:22:53.830224Z",
          "iopub.status.idle": "2023-10-29T18:22:53.841038Z",
          "shell.execute_reply.started": "2023-10-29T18:22:53.830195Z",
          "shell.execute_reply": "2023-10-29T18:22:53.839554Z"
        },
        "trusted": true,
        "id": "ybEzI-dvQ5yv"
      },
      "execution_count": null,
      "outputs": []
    },
    {
      "cell_type": "markdown",
      "source": [
        "In an analysis of **multicollinearity** within a housing dataset, high correlations (Pearson's correlation coefficient above 0.8) were identified between three pairs of independent variables. To address this, the variable in each pair with the lower correlation to the sale price (SalePrice) was removed. The pairs and their likely reasons for multicollinearity are summarized as follows:\n",
        "\n",
        "**TotalBsmtSF and 1stFlrSF (Correlation: 0.83)**\n",
        "<br/>TotalBsmtSF: Total square feet of basement area.\n",
        "1stFlrSF: First floor square feet.\n",
        "The high correlation is logical since the area of the first floor (1stFlrSF) is often similar or identical to the basement area (TotalBsmtSF), especially in houses where the basement covers the entire footprint of the first floor.\n",
        "GarageYrBlt and YearBuilt (Correlation: 0.82)\n",
        "\n",
        "**YearBuilt: Original construction date.**\n",
        "<br/>GarageYrBlt: Year garage was built.\n",
        "This correlation is reasonable because garages are typically built at the same time as the house, leading to a close association between the construction year of the house (YearBuilt) and the year the garage was built (GarageYrBlt).\n",
        "TotRmsAbvGrd and GrLivArea (Correlation: 0.83)\n",
        "\n",
        "**TotRmsAbvGrd: Total rooms above grade (excluding bathrooms).**\n",
        "<br/>GrLivArea: Above grade (ground) living area square feet.\n",
        "The correlation here can be explained by the fact that a larger living area (GrLivArea) usually contains more rooms (TotRmsAbvGrd). Hence, as the living area increases, the number of rooms above grade typically increases as well."
      ],
      "metadata": {
        "id": "7-Xsq00EQ5yv"
      }
    },
    {
      "cell_type": "code",
      "source": [
        "# high Correlation ( >= 0.2)\n",
        "high_corr = corr_matrix[corr_matrix[\"SalePrice\"].abs() >= 0.2].index.tolist()\n",
        "print(high_corr)\n",
        "print(len(high_corr)) # 21 Columns"
      ],
      "metadata": {
        "execution": {
          "iopub.status.busy": "2023-10-29T18:23:01.58382Z",
          "iopub.execute_input": "2023-10-29T18:23:01.584205Z",
          "iopub.status.idle": "2023-10-29T18:23:01.592995Z",
          "shell.execute_reply.started": "2023-10-29T18:23:01.584176Z",
          "shell.execute_reply": "2023-10-29T18:23:01.591722Z"
        },
        "trusted": true,
        "id": "xAiFnpFOQ5yv"
      },
      "execution_count": null,
      "outputs": []
    },
    {
      "cell_type": "code",
      "source": [
        "high_correlation = df_v6[high_corr].corr()\n",
        "\n",
        "plt.figure(figsize=(12, 9))\n",
        "sns.heatmap(high_correlation, annot=True, cmap=\"coolwarm\", vmin=-1, vmax=1)\n",
        "plt.title(\"High Correlation Heatmap\")\n",
        "plt.show()"
      ],
      "metadata": {
        "execution": {
          "iopub.status.busy": "2023-10-29T18:23:03.760527Z",
          "iopub.execute_input": "2023-10-29T18:23:03.761139Z",
          "iopub.status.idle": "2023-10-29T18:23:05.760261Z",
          "shell.execute_reply.started": "2023-10-29T18:23:03.761093Z",
          "shell.execute_reply": "2023-10-29T18:23:05.758862Z"
        },
        "trusted": true,
        "id": "8S8jnSUYQ5yw"
      },
      "execution_count": null,
      "outputs": []
    },
    {
      "cell_type": "code",
      "source": [
        "df_v7 = df_v6.drop(columns=[\"TotalBsmtSF\", \"GarageYrBlt\", \"TotRmsAbvGrd\"], axis=1)\n",
        "df_v7.shape # 1334 Rows 54 Columns (58 columns -> 54 columns)"
      ],
      "metadata": {
        "execution": {
          "iopub.status.busy": "2023-10-29T18:23:09.124522Z",
          "iopub.execute_input": "2023-10-29T18:23:09.124988Z",
          "iopub.status.idle": "2023-10-29T18:23:09.136027Z",
          "shell.execute_reply.started": "2023-10-29T18:23:09.124954Z",
          "shell.execute_reply": "2023-10-29T18:23:09.134576Z"
        },
        "trusted": true,
        "id": "XO8D2QXdQ5yw"
      },
      "execution_count": null,
      "outputs": []
    },
    {
      "cell_type": "markdown",
      "source": [
        "### 05) Log Transformation - Dependent Variable"
      ],
      "metadata": {
        "id": "588_D624Q5yw"
      }
    },
    {
      "cell_type": "code",
      "source": [
        "plt.figure(figsize=(10,6))\n",
        "sns.histplot(df_v7[\"SalePrice\"], kde=True, bins=50)\n",
        "plt.title(\"Distribution of SalePrice\")\n",
        "plt.grid(True)\n",
        "plt.show()\n",
        "\n",
        "# Right-Skewed"
      ],
      "metadata": {
        "execution": {
          "iopub.status.busy": "2023-10-29T18:23:16.049016Z",
          "iopub.execute_input": "2023-10-29T18:23:16.049487Z",
          "iopub.status.idle": "2023-10-29T18:23:16.559787Z",
          "shell.execute_reply.started": "2023-10-29T18:23:16.049449Z",
          "shell.execute_reply": "2023-10-29T18:23:16.558158Z"
        },
        "trusted": true,
        "id": "4rtVg09fQ5yw"
      },
      "execution_count": null,
      "outputs": []
    },
    {
      "cell_type": "code",
      "source": [
        "df_v7[\"Log_SalePrice\"] = np.log(df_v7[\"SalePrice\"])\n",
        "df_v7.shape # 1334 Rows 55 Columns (54 Columns -> 55 Columns)"
      ],
      "metadata": {
        "execution": {
          "iopub.status.busy": "2023-10-29T18:23:19.076335Z",
          "iopub.execute_input": "2023-10-29T18:23:19.076789Z",
          "iopub.status.idle": "2023-10-29T18:23:19.08708Z",
          "shell.execute_reply.started": "2023-10-29T18:23:19.076754Z",
          "shell.execute_reply": "2023-10-29T18:23:19.08561Z"
        },
        "trusted": true,
        "id": "Hkiu511CQ5yw"
      },
      "execution_count": null,
      "outputs": []
    },
    {
      "cell_type": "code",
      "source": [
        "# After Log Transformation\n",
        "plt.figure(figsize=(10,6))\n",
        "sns.histplot(df_v7[\"Log_SalePrice\"], kde=True, bins=50)\n",
        "plt.title(\"Distribution of Log_SalePrice\")\n",
        "plt.grid(True)\n",
        "plt.show()"
      ],
      "metadata": {
        "execution": {
          "iopub.status.busy": "2023-10-29T18:23:27.460137Z",
          "iopub.execute_input": "2023-10-29T18:23:27.460523Z",
          "iopub.status.idle": "2023-10-29T18:23:27.933809Z",
          "shell.execute_reply.started": "2023-10-29T18:23:27.460492Z",
          "shell.execute_reply": "2023-10-29T18:23:27.932873Z"
        },
        "trusted": true,
        "id": "ZLudXzeFQ5yw"
      },
      "execution_count": null,
      "outputs": []
    },
    {
      "cell_type": "markdown",
      "source": [
        "### 06) One-Hot Encoing (Creating Dummy Variables)"
      ],
      "metadata": {
        "id": "YSFmeEgBQ5yw"
      }
    },
    {
      "cell_type": "code",
      "source": [
        "# Categorical Variables\n",
        "categorical_columns = df_v7.select_dtypes(include=['object']).columns.tolist()\n",
        "print(categorical_columns)\n",
        "print(len(categorical_columns)) # 36"
      ],
      "metadata": {
        "execution": {
          "iopub.status.busy": "2023-10-29T18:23:45.173033Z",
          "iopub.execute_input": "2023-10-29T18:23:45.173458Z",
          "iopub.status.idle": "2023-10-29T18:23:45.183076Z",
          "shell.execute_reply.started": "2023-10-29T18:23:45.173427Z",
          "shell.execute_reply": "2023-10-29T18:23:45.181614Z"
        },
        "trusted": true,
        "id": "wDY2umBmQ5yx"
      },
      "execution_count": null,
      "outputs": []
    },
    {
      "cell_type": "code",
      "source": [
        "df_v8 = pd.get_dummies(df_v7, columns=categorical_columns, drop_first=True)\n",
        "df_v8.shape # 1334 Rows 206 Columns (56 Columns -> 206 Columns)"
      ],
      "metadata": {
        "execution": {
          "iopub.status.busy": "2023-10-29T18:23:54.459039Z",
          "iopub.execute_input": "2023-10-29T18:23:54.459811Z",
          "iopub.status.idle": "2023-10-29T18:23:54.502754Z",
          "shell.execute_reply.started": "2023-10-29T18:23:54.459772Z",
          "shell.execute_reply": "2023-10-29T18:23:54.501494Z"
        },
        "trusted": true,
        "id": "VdyYZ36YQ5yx"
      },
      "execution_count": null,
      "outputs": []
    },
    {
      "cell_type": "markdown",
      "source": [
        "## 02. Post Lasso\n",
        "\n",
        "**\"Post Lasso\"** is a methodology used in linear regression analysis, particularly effective in high-dimensional datasets with a large number of potential predictors. It encompasses a two-step process aimed at improving model accuracy and interpretability.\n",
        "\n",
        "The first step involves applying Lasso (Least Absolute Shrinkage and Selection Operator) regression, which integrates both variable selection and regularization. Lasso's key feature is its penalty on the absolute size of coefficients, leading to some coefficients being entirely reduced to zero. This attribute allows Lasso to exclude irrelevant variables, thus selecting a more manageable subset of significant predictors from a vast array.\n",
        "\n",
        "The subsequent step is refitting a traditional linear regression model, but only with the variables identified by the Lasso step. This action is crucial because Lasso, while effective for variable selection, can introduce bias due to its coefficient shrinkage. Refitting with linear regression aims to address this bias, thereby potentially enhancing the accuracy of parameter estimates.\n",
        "\n",
        "Post Lasso is especially useful in scenarios where the number of variables surpasses the number of observations, or the data complexity is high. It offers a balanced approach: reducing model variance by eliminating insignificant predictors through Lasso and then decreasing bias with linear regression on the selected predictors. The result is a model that is both simplified and less prone to overfitting, without sacrificing interpretability or robustness."
      ],
      "metadata": {
        "id": "vy2dcSH2Q5yy"
      }
    },
    {
      "cell_type": "code",
      "source": [
        "# Dataset\n",
        "X = df_v8.drop(columns=[\"SalePrice\", \"Log_SalePrice\"], axis=1)\n",
        "y = df_v8[\"Log_SalePrice\"]\n",
        "\n",
        "# Split\n",
        "X_train, X_test, y_train, y_test = train_test_split(X, y, test_size=0.2, random_state=42)\n",
        "\n",
        "# Standardization\n",
        "scaler = StandardScaler()\n",
        "X_train_scaled = scaler.fit_transform(X_train)\n",
        "X_test_scaled = scaler.fit_transform(X_test)"
      ],
      "metadata": {
        "execution": {
          "iopub.status.busy": "2023-10-29T18:24:44.079908Z",
          "iopub.execute_input": "2023-10-29T18:24:44.080369Z",
          "iopub.status.idle": "2023-10-29T18:24:44.138303Z",
          "shell.execute_reply.started": "2023-10-29T18:24:44.080337Z",
          "shell.execute_reply": "2023-10-29T18:24:44.137413Z"
        },
        "trusted": true,
        "id": "0TV5jS8IQ5yy"
      },
      "execution_count": null,
      "outputs": []
    },
    {
      "cell_type": "code",
      "source": [
        "# LassoCV\n",
        "alphas = np.logspace(-4, 4, 50)\n",
        "lasso_cv = LassoCV(alphas=alphas, cv=5, max_iter=10000, random_state=42)\n",
        "lasso_cv.fit(X_train_scaled, y_train)"
      ],
      "metadata": {
        "execution": {
          "iopub.status.busy": "2023-10-29T18:24:54.081348Z",
          "iopub.execute_input": "2023-10-29T18:24:54.081872Z",
          "iopub.status.idle": "2023-10-29T18:24:55.503356Z",
          "shell.execute_reply.started": "2023-10-29T18:24:54.081835Z",
          "shell.execute_reply": "2023-10-29T18:24:55.502163Z"
        },
        "trusted": true,
        "id": "tGY8-SzxQ5yy"
      },
      "execution_count": null,
      "outputs": []
    },
    {
      "cell_type": "code",
      "source": [
        "print(f\"Optimal Alpha Value: {lasso_cv.alpha_}\") # Optimal Alpha Value: 0.004291934260128779"
      ],
      "metadata": {
        "execution": {
          "iopub.status.busy": "2023-10-29T18:25:01.92323Z",
          "iopub.execute_input": "2023-10-29T18:25:01.923676Z",
          "iopub.status.idle": "2023-10-29T18:25:01.930521Z",
          "shell.execute_reply.started": "2023-10-29T18:25:01.923628Z",
          "shell.execute_reply": "2023-10-29T18:25:01.929153Z"
        },
        "trusted": true,
        "id": "YdfgY1VXQ5yy"
      },
      "execution_count": null,
      "outputs": []
    },
    {
      "cell_type": "code",
      "source": [
        "remove_features = np.array(X.columns)[lasso_cv.coef_ == 0]\n",
        "print(remove_features)\n",
        "print(len(remove_features)) # 109"
      ],
      "metadata": {
        "execution": {
          "iopub.status.busy": "2023-10-29T18:25:07.975362Z",
          "iopub.execute_input": "2023-10-29T18:25:07.975783Z",
          "iopub.status.idle": "2023-10-29T18:25:07.983984Z",
          "shell.execute_reply.started": "2023-10-29T18:25:07.975753Z",
          "shell.execute_reply": "2023-10-29T18:25:07.982407Z"
        },
        "trusted": true,
        "id": "WdpYMguDQ5yy"
      },
      "execution_count": null,
      "outputs": []
    },
    {
      "cell_type": "code",
      "source": [
        "df_lasso = df_v8.drop(columns=remove_features, axis=1)\n",
        "df_lasso.shape # 1334 Rows 97 Columns (206 Columns -> 97 Columns)"
      ],
      "metadata": {
        "execution": {
          "iopub.status.busy": "2023-10-29T18:25:19.529673Z",
          "iopub.execute_input": "2023-10-29T18:25:19.530059Z",
          "iopub.status.idle": "2023-10-29T18:25:19.542037Z",
          "shell.execute_reply.started": "2023-10-29T18:25:19.530029Z",
          "shell.execute_reply": "2023-10-29T18:25:19.540357Z"
        },
        "trusted": true,
        "id": "cWZie1BgQ5yy"
      },
      "execution_count": null,
      "outputs": []
    },
    {
      "cell_type": "markdown",
      "source": [
        "## 03.Modeling\n",
        "### 01) Linear Regression"
      ],
      "metadata": {
        "id": "de_gxBAzQ5yy"
      }
    },
    {
      "cell_type": "code",
      "source": [
        "# Data\n",
        "X = df_lasso.drop(columns = [\"SalePrice\", \"Log_SalePrice\"])\n",
        "y = df_lasso[\"Log_SalePrice\"]\n",
        "\n",
        "# Split\n",
        "X_train, X_test, y_train, y_test = train_test_split(X, y, test_size=0.2, random_state=42)\n",
        "\n",
        "# Standardization\n",
        "scaler = StandardScaler()\n",
        "X_train_scaled = scaler.fit_transform(X_train)\n",
        "X_test_scaled = scaler.fit_transform(X_test)"
      ],
      "metadata": {
        "execution": {
          "iopub.status.busy": "2023-10-29T18:26:10.603547Z",
          "iopub.execute_input": "2023-10-29T18:26:10.603966Z",
          "iopub.status.idle": "2023-10-29T18:26:10.643114Z",
          "shell.execute_reply.started": "2023-10-29T18:26:10.603934Z",
          "shell.execute_reply": "2023-10-29T18:26:10.642033Z"
        },
        "trusted": true,
        "id": "TEK_NmkZQ5yz"
      },
      "execution_count": null,
      "outputs": []
    },
    {
      "cell_type": "code",
      "source": [
        "# Model\n",
        "linear_model = LinearRegression()\n",
        "\n",
        "# Cross Validation\n",
        "cv_score = cross_val_score(linear_model, X_train_scaled, y_train, cv=5, scoring='neg_mean_squared_error')\n",
        "\n",
        "# Training\n",
        "linear_model.fit(X_train_scaled, y_train)\n",
        "y_pred = linear_model.predict(X_test_scaled)\n",
        "linear_mse = mean_squared_error(y_test, y_pred)\n",
        "linear_r2 = r2_score(y_test, y_pred)"
      ],
      "metadata": {
        "execution": {
          "iopub.status.busy": "2023-10-29T18:26:12.322039Z",
          "iopub.execute_input": "2023-10-29T18:26:12.322445Z",
          "iopub.status.idle": "2023-10-29T18:26:12.551588Z",
          "shell.execute_reply.started": "2023-10-29T18:26:12.322414Z",
          "shell.execute_reply": "2023-10-29T18:26:12.549959Z"
        },
        "trusted": true,
        "id": "PhGnHJyGQ5yz"
      },
      "execution_count": null,
      "outputs": []
    },
    {
      "cell_type": "code",
      "source": [
        "print(linear_mse) # 0.013932131659777207\n",
        "print(linear_r2) # 0.8852401953026643"
      ],
      "metadata": {
        "execution": {
          "iopub.status.busy": "2023-10-29T18:26:43.742829Z",
          "iopub.execute_input": "2023-10-29T18:26:43.74321Z",
          "iopub.status.idle": "2023-10-29T18:26:43.749742Z",
          "shell.execute_reply.started": "2023-10-29T18:26:43.743181Z",
          "shell.execute_reply": "2023-10-29T18:26:43.748617Z"
        },
        "trusted": true,
        "id": "Cw3vnEroQ5yz"
      },
      "execution_count": null,
      "outputs": []
    },
    {
      "cell_type": "markdown",
      "source": [
        "### 02) Lasso"
      ],
      "metadata": {
        "id": "WqPst9YgQ5yz"
      }
    },
    {
      "cell_type": "code",
      "source": [
        "# parameters\n",
        "alphas = [0.001, 0.01, 0.1, 1, 10]\n",
        "best_alpha = None\n",
        "best_score = float('inf')\n",
        "\n",
        "for alpha in alphas:\n",
        "  lasso = Lasso(alpha=alpha)\n",
        "  cv_scores = cross_val_score(lasso, X_train_scaled, y_train, cv=5, scoring='neg_mean_squared_error')\n",
        "  mean_cv_scores = -cv_scores.mean()\n",
        "\n",
        "  if mean_cv_scores < best_score:\n",
        "    best_score = mean_cv_scores\n",
        "    best_alpha = alpha"
      ],
      "metadata": {
        "execution": {
          "iopub.status.busy": "2023-10-29T18:27:04.483346Z",
          "iopub.execute_input": "2023-10-29T18:27:04.483754Z",
          "iopub.status.idle": "2023-10-29T18:27:04.962353Z",
          "shell.execute_reply.started": "2023-10-29T18:27:04.48371Z",
          "shell.execute_reply": "2023-10-29T18:27:04.960816Z"
        },
        "trusted": true,
        "id": "9FhXhnLWQ5yz"
      },
      "execution_count": null,
      "outputs": []
    },
    {
      "cell_type": "code",
      "source": [
        "print(best_alpha) # 0.001\n",
        "print(best_score) # 0.019635386910392665"
      ],
      "metadata": {
        "execution": {
          "iopub.status.busy": "2023-10-29T18:27:09.690765Z",
          "iopub.execute_input": "2023-10-29T18:27:09.691168Z",
          "iopub.status.idle": "2023-10-29T18:27:09.696733Z",
          "shell.execute_reply.started": "2023-10-29T18:27:09.691136Z",
          "shell.execute_reply": "2023-10-29T18:27:09.695899Z"
        },
        "trusted": true,
        "id": "apQRC_VVQ5yz"
      },
      "execution_count": null,
      "outputs": []
    },
    {
      "cell_type": "code",
      "source": [
        "# Best Lasso Model\n",
        "lasso_best = Lasso(alpha=best_alpha)\n",
        "lasso_best.fit(X_train_scaled, y_train)\n",
        "\n",
        "y_pred = lasso_best.predict(X_test_scaled)\n",
        "lasso_mse = mean_squared_error(y_test, y_pred)\n",
        "lasso_r2 = r2_score(y_test, y_pred)"
      ],
      "metadata": {
        "execution": {
          "iopub.status.busy": "2023-10-29T18:27:15.493298Z",
          "iopub.execute_input": "2023-10-29T18:27:15.493726Z",
          "iopub.status.idle": "2023-10-29T18:27:15.538286Z",
          "shell.execute_reply.started": "2023-10-29T18:27:15.493693Z",
          "shell.execute_reply": "2023-10-29T18:27:15.53557Z"
        },
        "trusted": true,
        "id": "SHyqU6XzQ5yz"
      },
      "execution_count": null,
      "outputs": []
    },
    {
      "cell_type": "code",
      "source": [
        "print(lasso_mse) # 0.013429016176088117\n",
        "print(lasso_r2) # 0.8893843877391352"
      ],
      "metadata": {
        "execution": {
          "iopub.status.busy": "2023-10-29T18:27:19.617688Z",
          "iopub.execute_input": "2023-10-29T18:27:19.618075Z",
          "iopub.status.idle": "2023-10-29T18:27:19.62436Z",
          "shell.execute_reply.started": "2023-10-29T18:27:19.618045Z",
          "shell.execute_reply": "2023-10-29T18:27:19.62317Z"
        },
        "trusted": true,
        "id": "xGsjyvNeQ5yz"
      },
      "execution_count": null,
      "outputs": []
    },
    {
      "cell_type": "markdown",
      "source": [
        "### 03) Ridge"
      ],
      "metadata": {
        "id": "YCfv5_9HQ5yz"
      }
    },
    {
      "cell_type": "code",
      "source": [
        "ridge = Ridge()\n",
        "parameters = {'alpha': alphas}\n",
        "\n",
        "ridge_model = GridSearchCV(ridge, parameters, scoring='neg_mean_squared_error', cv=5)\n",
        "ridge_model.fit(X_train_scaled, y_train)"
      ],
      "metadata": {
        "execution": {
          "iopub.status.busy": "2023-10-29T18:27:30.089721Z",
          "iopub.execute_input": "2023-10-29T18:27:30.090162Z",
          "iopub.status.idle": "2023-10-29T18:27:30.596958Z",
          "shell.execute_reply.started": "2023-10-29T18:27:30.090121Z",
          "shell.execute_reply": "2023-10-29T18:27:30.595484Z"
        },
        "trusted": true,
        "id": "pQ3OouYdQ5yz"
      },
      "execution_count": null,
      "outputs": []
    },
    {
      "cell_type": "code",
      "source": [
        "best_ridge = ridge_model.best_estimator_\n",
        "y_pred = best_ridge.predict(X_test_scaled)\n",
        "ridge_mse = mean_squared_error(y_test, y_pred)\n",
        "ridge_r2 = r2_score(y_test, y_pred)"
      ],
      "metadata": {
        "execution": {
          "iopub.status.busy": "2023-10-29T18:27:35.111328Z",
          "iopub.execute_input": "2023-10-29T18:27:35.111791Z",
          "iopub.status.idle": "2023-10-29T18:27:35.124351Z",
          "shell.execute_reply.started": "2023-10-29T18:27:35.111757Z",
          "shell.execute_reply": "2023-10-29T18:27:35.122702Z"
        },
        "trusted": true,
        "id": "meVuF9GyQ5yz"
      },
      "execution_count": null,
      "outputs": []
    },
    {
      "cell_type": "code",
      "source": [
        "print(ridge_mse) # 0.013824855747062038\n",
        "print(ridge_r2) # 0.8861238334344703"
      ],
      "metadata": {
        "execution": {
          "iopub.status.busy": "2023-10-29T18:27:39.560992Z",
          "iopub.execute_input": "2023-10-29T18:27:39.561401Z",
          "iopub.status.idle": "2023-10-29T18:27:39.567022Z",
          "shell.execute_reply.started": "2023-10-29T18:27:39.56137Z",
          "shell.execute_reply": "2023-10-29T18:27:39.566047Z"
        },
        "trusted": true,
        "id": "_O0rSMOoQ5yz"
      },
      "execution_count": null,
      "outputs": []
    },
    {
      "cell_type": "markdown",
      "source": [
        "### 04) Elastic Net"
      ],
      "metadata": {
        "id": "hpxIdEDuQ5yz"
      }
    },
    {
      "cell_type": "code",
      "source": [
        "l1_ratios = [0.2, 0.5, 0.8]\n",
        "elastic_net = ElasticNet()\n",
        "parameters = {'alpha':alphas, 'l1_ratio': l1_ratios}\n",
        "\n",
        "elastic_net_model = GridSearchCV(elastic_net, parameters, scoring='neg_mean_squared_error', cv=5)\n",
        "elastic_net_model.fit(X_train_scaled, y_train)"
      ],
      "metadata": {
        "execution": {
          "iopub.status.busy": "2023-10-29T18:27:53.650339Z",
          "iopub.execute_input": "2023-10-29T18:27:53.65077Z",
          "iopub.status.idle": "2023-10-29T18:27:54.743997Z",
          "shell.execute_reply.started": "2023-10-29T18:27:53.650737Z",
          "shell.execute_reply": "2023-10-29T18:27:54.742136Z"
        },
        "trusted": true,
        "id": "F8m-e1i2Q5y0"
      },
      "execution_count": null,
      "outputs": []
    },
    {
      "cell_type": "code",
      "source": [
        "best_elastic_net = elastic_net_model.best_estimator_\n",
        "y_pred = best_elastic_net.predict(X_test_scaled)\n",
        "elastic_net_mse = mean_squared_error(y_test, y_pred)\n",
        "elastic_net_r2 = r2_score(y_test, y_pred)"
      ],
      "metadata": {
        "execution": {
          "iopub.status.busy": "2023-10-29T18:27:57.535804Z",
          "iopub.execute_input": "2023-10-29T18:27:57.536231Z",
          "iopub.status.idle": "2023-10-29T18:27:57.550426Z",
          "shell.execute_reply.started": "2023-10-29T18:27:57.53619Z",
          "shell.execute_reply": "2023-10-29T18:27:57.547937Z"
        },
        "trusted": true,
        "id": "ESgMQuVyQ5y0"
      },
      "execution_count": null,
      "outputs": []
    },
    {
      "cell_type": "code",
      "source": [
        "print(elastic_net_mse) # 0.013513780328747907\n",
        "print(elastic_net_r2) # 0.888686180326076"
      ],
      "metadata": {
        "execution": {
          "iopub.status.busy": "2023-10-29T18:28:01.929884Z",
          "iopub.execute_input": "2023-10-29T18:28:01.930296Z",
          "iopub.status.idle": "2023-10-29T18:28:01.937024Z",
          "shell.execute_reply.started": "2023-10-29T18:28:01.930265Z",
          "shell.execute_reply": "2023-10-29T18:28:01.935769Z"
        },
        "trusted": true,
        "id": "t4pk8b20Q5y0"
      },
      "execution_count": null,
      "outputs": []
    },
    {
      "cell_type": "markdown",
      "source": [
        "### 05) Support Vector Machine (SVM)"
      ],
      "metadata": {
        "id": "n92bdKlVQ5y0"
      }
    },
    {
      "cell_type": "code",
      "source": [
        "svr = SVR()\n",
        "parameters = {'C': [0.1, 1, 10, 100, 1000], 'gamma': [1, 0.1, 0.01, 0.001, 0.0001]}\n",
        "svr_model = GridSearchCV(svr, parameters, scoring='neg_mean_squared_error', cv=5)\n",
        "svr_model.fit(X_train_scaled, y_train)"
      ],
      "metadata": {
        "execution": {
          "iopub.status.busy": "2023-10-29T18:28:23.292678Z",
          "iopub.execute_input": "2023-10-29T18:28:23.29308Z",
          "iopub.status.idle": "2023-10-29T18:28:33.037149Z",
          "shell.execute_reply.started": "2023-10-29T18:28:23.29305Z",
          "shell.execute_reply": "2023-10-29T18:28:33.035928Z"
        },
        "trusted": true,
        "id": "Nm5NWSncQ5y0"
      },
      "execution_count": null,
      "outputs": []
    },
    {
      "cell_type": "code",
      "source": [
        "best_svr = svr_model.best_estimator_\n",
        "y_pred = best_svr.predict(X_test_scaled)\n",
        "svr_mse = mean_squared_error(y_test, y_pred)\n",
        "svr_r2 = r2_score(y_test, y_pred)"
      ],
      "metadata": {
        "execution": {
          "iopub.status.busy": "2023-10-29T18:28:35.370424Z",
          "iopub.execute_input": "2023-10-29T18:28:35.370878Z",
          "iopub.status.idle": "2023-10-29T18:28:35.392191Z",
          "shell.execute_reply.started": "2023-10-29T18:28:35.370844Z",
          "shell.execute_reply": "2023-10-29T18:28:35.390975Z"
        },
        "trusted": true,
        "id": "PIY4UFvvQ5y0"
      },
      "execution_count": null,
      "outputs": []
    },
    {
      "cell_type": "code",
      "source": [
        "print(svr_mse) # 0.012982683368125891\n",
        "print(svr_r2) # 0.8930608578675101"
      ],
      "metadata": {
        "execution": {
          "iopub.status.busy": "2023-10-29T18:28:38.218341Z",
          "iopub.execute_input": "2023-10-29T18:28:38.219278Z",
          "iopub.status.idle": "2023-10-29T18:28:38.225286Z",
          "shell.execute_reply.started": "2023-10-29T18:28:38.219238Z",
          "shell.execute_reply": "2023-10-29T18:28:38.22393Z"
        },
        "trusted": true,
        "id": "_VFqh5vZQ5y0"
      },
      "execution_count": null,
      "outputs": []
    },
    {
      "cell_type": "markdown",
      "source": [
        "## 04. Summary"
      ],
      "metadata": {
        "id": "3DlkQUjjQ5y1"
      }
    },
    {
      "cell_type": "code",
      "source": [
        "final_results = pd.DataFrame({\"Model\": [\"Linear Regression\", \"Lasso\", \"Ridge\", \"Elastic Net\", \"SVM\"],\n",
        "                              \"MSE\": [linear_mse, lasso_mse, ridge_mse, elastic_net_mse, svr_mse],\n",
        "                              \"R-Squared\": [linear_r2, lasso_r2, ridge_r2, elastic_net_r2, svr_r2]})\n",
        "final_results"
      ],
      "metadata": {
        "execution": {
          "iopub.status.busy": "2023-10-29T18:28:55.027434Z",
          "iopub.execute_input": "2023-10-29T18:28:55.027886Z",
          "iopub.status.idle": "2023-10-29T18:28:55.046591Z",
          "shell.execute_reply.started": "2023-10-29T18:28:55.027853Z",
          "shell.execute_reply": "2023-10-29T18:28:55.04503Z"
        },
        "trusted": true,
        "id": "8wUngoFvQ5y1"
      },
      "execution_count": null,
      "outputs": []
    },
    {
      "cell_type": "code",
      "source": [
        "# Visualization\n",
        "plt.figure(figsize=(12, 6))\n",
        "\n",
        "plt.subplot(1, 2, 1)\n",
        "plt.bar(final_results[\"Model\"], final_results[\"MSE\"], color='skyblue')\n",
        "plt.title(\"MSE Score per Model\")\n",
        "plt.ylabel(\"MSE\")\n",
        "plt.xticks(rotation=45)\n",
        "mse_min, mse_max = final_results[\"MSE\"].min(), final_results[\"MSE\"].max()\n",
        "plt.ylim(mse_min - 0.0001, mse_max + 0.0001)\n",
        "\n",
        "plt.subplot(1, 2, 2)\n",
        "plt.bar(final_results[\"Model\"], final_results[\"R-Squared\"], color='salmon')\n",
        "plt.title(\"R-Squared Score per Model\")\n",
        "plt.ylabel('R-Squared')\n",
        "plt.xticks(rotation=45)\n",
        "r2_min, r2_max = final_results[\"R-Squared\"].min(), final_results[\"R-Squared\"].max()\n",
        "plt.ylim(r2_min - 0.005, r2_max + 0.005)\n",
        "\n",
        "plt.tight_layout()\n",
        "plt.show()"
      ],
      "metadata": {
        "execution": {
          "iopub.status.busy": "2023-10-29T18:29:02.387179Z",
          "iopub.execute_input": "2023-10-29T18:29:02.387601Z",
          "iopub.status.idle": "2023-10-29T18:29:03.111142Z",
          "shell.execute_reply.started": "2023-10-29T18:29:02.387571Z",
          "shell.execute_reply": "2023-10-29T18:29:03.109733Z"
        },
        "trusted": true,
        "id": "JHSEodYUQ5y1"
      },
      "execution_count": null,
      "outputs": []
    }
  ]
}